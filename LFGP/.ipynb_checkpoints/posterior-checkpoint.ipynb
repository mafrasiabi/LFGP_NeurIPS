{
 "cells": [
  {
   "cell_type": "code",
   "execution_count": 1,
   "metadata": {
    "collapsed": true
   },
   "outputs": [],
   "source": [
    "import numpy as np"
   ]
  },
  {
   "cell_type": "code",
   "execution_count": 2,
   "metadata": {
    "collapsed": true
   },
   "outputs": [],
   "source": [
    "from sklearn.gaussian_process import GaussianProcessRegressor\n",
    "from sklearn.gaussian_process.kernels import RBF"
   ]
  },
  {
   "cell_type": "code",
   "execution_count": 3,
   "metadata": {
    "collapsed": true
   },
   "outputs": [],
   "source": [
    "import matplotlib\n",
    "import matplotlib.pyplot as plt\n",
    "%matplotlib inline"
   ]
  },
  {
   "cell_type": "code",
   "execution_count": 4,
   "metadata": {
    "collapsed": true
   },
   "outputs": [],
   "source": [
    "plt.rcParams['font.family'] = 'serif'"
   ]
  },
  {
   "cell_type": "code",
   "execution_count": 5,
   "metadata": {
    "collapsed": true
   },
   "outputs": [],
   "source": [
    "gp = GaussianProcessRegressor(kernel=RBF(length_scale=10))"
   ]
  },
  {
   "cell_type": "code",
   "execution_count": 49,
   "metadata": {
    "collapsed": false
   },
   "outputs": [
    {
     "name": "stdout",
     "output_type": "stream",
     "text": [
      "(50, 3)\n"
     ]
    }
   ],
   "source": [
    "t = 50\n",
    "x = np.linspace(1, t, t)\n",
    "curves = gp.sample_y(x.reshape((t, 1)), 3)\n",
    "F = curves\n",
    "print(F.shape)"
   ]
  },
  {
   "cell_type": "code",
   "execution_count": 50,
   "metadata": {
    "collapsed": true
   },
   "outputs": [],
   "source": [
    "loading = np.random.normal(0, 1, [3, 10])"
   ]
  },
  {
   "cell_type": "code",
   "execution_count": 51,
   "metadata": {
    "collapsed": true
   },
   "outputs": [],
   "source": [
    "Y_true = np.matmul(F, loading)\n",
    "Y = Y_true + np.random.normal(0, 0.5, [t, 10])"
   ]
  },
  {
   "cell_type": "code",
   "execution_count": 52,
   "metadata": {
    "collapsed": false
   },
   "outputs": [
    {
     "name": "stdout",
     "output_type": "stream",
     "text": [
      "0.8646971472879222\n",
      "1.9887401256657098\n"
     ]
    }
   ],
   "source": [
    "print(np.mean(Y))\n",
    "print(np.std(Y))"
   ]
  },
  {
   "cell_type": "code",
   "execution_count": 53,
   "metadata": {
    "collapsed": true
   },
   "outputs": [],
   "source": [
    "from factorgp import FactorGP\n",
    "from inference import run_gibbs"
   ]
  },
  {
   "cell_type": "code",
   "execution_count": 54,
   "metadata": {
    "collapsed": true
   },
   "outputs": [],
   "source": [
    "dims = [1, t, 10, 2]  # n, t, q, r\n",
    "model_f2 = FactorGP(dims, mu_var=[0, 1.0])"
   ]
  },
  {
   "cell_type": "code",
   "execution_count": 55,
   "metadata": {
    "collapsed": false,
    "scrolled": true
   },
   "outputs": [
    {
     "name": "stderr",
     "output_type": "stream",
     "text": [
      "\n",
      "  0%|          | 0/200 [00:00<?, ?it/s]\u001b[A\n",
      "  0%|          | 1/200 [00:00<01:50,  1.80it/s]\u001b[A"
     ]
    },
    {
     "name": "stdout",
     "output_type": "stream",
     "text": [
      "Current MSE: 0.331838811803\n",
      "Current length scale: [ 9.28212541 10.56456703]\n"
     ]
    },
    {
     "name": "stderr",
     "output_type": "stream",
     "text": [
      "\n",
      "  1%|          | 2/200 [00:01<01:46,  1.86it/s]\u001b[A"
     ]
    },
    {
     "name": "stdout",
     "output_type": "stream",
     "text": [
      "Current MSE: 0.32175353068\n",
      "Current length scale: [10.27180549 10.44952089]\n"
     ]
    },
    {
     "name": "stderr",
     "output_type": "stream",
     "text": [
      "\n",
      "  2%|▏         | 3/200 [00:01<01:47,  1.84it/s]\u001b[A"
     ]
    },
    {
     "name": "stdout",
     "output_type": "stream",
     "text": [
      "Current MSE: 0.337974713874\n",
      "Current length scale: [10.04910535  9.92820473]\n"
     ]
    },
    {
     "name": "stderr",
     "output_type": "stream",
     "text": [
      "\n",
      "  2%|▏         | 4/200 [00:02<01:51,  1.76it/s]\u001b[A"
     ]
    },
    {
     "name": "stdout",
     "output_type": "stream",
     "text": [
      "Current MSE: 0.336155848516\n",
      "Current length scale: [9.58921409 9.91688157]\n"
     ]
    },
    {
     "name": "stderr",
     "output_type": "stream",
     "text": [
      "\n",
      "  2%|▎         | 5/200 [00:02<01:48,  1.80it/s]\u001b[A"
     ]
    },
    {
     "name": "stdout",
     "output_type": "stream",
     "text": [
      "Current MSE: 0.314575295168\n",
      "Current length scale: [9.25089829 9.9764346 ]\n"
     ]
    },
    {
     "name": "stderr",
     "output_type": "stream",
     "text": [
      "\n",
      "  3%|▎         | 6/200 [00:03<01:52,  1.73it/s]\u001b[A"
     ]
    },
    {
     "name": "stdout",
     "output_type": "stream",
     "text": [
      "Current MSE: 0.307564155878\n",
      "Current length scale: [ 8.75745701 10.19011768]\n"
     ]
    },
    {
     "name": "stderr",
     "output_type": "stream",
     "text": [
      "\n",
      "  4%|▎         | 7/200 [00:03<01:51,  1.72it/s]\u001b[A"
     ]
    },
    {
     "name": "stdout",
     "output_type": "stream",
     "text": [
      "Current MSE: 0.315634539354\n",
      "Current length scale: [8.40800493 9.6624099 ]\n"
     ]
    },
    {
     "name": "stderr",
     "output_type": "stream",
     "text": [
      "\n",
      "  4%|▍         | 8/200 [00:04<01:57,  1.64it/s]\u001b[A"
     ]
    },
    {
     "name": "stdout",
     "output_type": "stream",
     "text": [
      "Current MSE: 0.321222173597\n",
      "Current length scale: [8.38390444 9.22737408]\n"
     ]
    },
    {
     "name": "stderr",
     "output_type": "stream",
     "text": [
      "\n",
      "  4%|▍         | 9/200 [00:05<01:51,  1.71it/s]\u001b[A"
     ]
    },
    {
     "name": "stdout",
     "output_type": "stream",
     "text": [
      "Current MSE: 0.320124208977\n",
      "Current length scale: [ 9.23557809 11.49542326]\n"
     ]
    },
    {
     "name": "stderr",
     "output_type": "stream",
     "text": [
      "\n",
      "  5%|▌         | 10/200 [00:05<01:49,  1.73it/s]\u001b[A"
     ]
    },
    {
     "name": "stdout",
     "output_type": "stream",
     "text": [
      "Current MSE: 0.314690000191\n",
      "Current length scale: [ 9.14329886 12.56237575]\n"
     ]
    },
    {
     "name": "stderr",
     "output_type": "stream",
     "text": [
      "\n",
      "  6%|▌         | 11/200 [00:06<01:45,  1.78it/s]\u001b[A"
     ]
    },
    {
     "name": "stdout",
     "output_type": "stream",
     "text": [
      "Current MSE: 0.32109769924\n",
      "Current length scale: [ 9.00397016 12.54452199]\n"
     ]
    },
    {
     "name": "stderr",
     "output_type": "stream",
     "text": [
      "\n",
      "  6%|▌         | 12/200 [00:06<01:43,  1.82it/s]\u001b[A"
     ]
    },
    {
     "name": "stdout",
     "output_type": "stream",
     "text": [
      "Current MSE: 0.325367243334\n",
      "Current length scale: [ 9.85264789 13.60494766]\n"
     ]
    },
    {
     "name": "stderr",
     "output_type": "stream",
     "text": [
      "\n",
      "  6%|▋         | 13/200 [00:07<01:40,  1.86it/s]\u001b[A"
     ]
    },
    {
     "name": "stdout",
     "output_type": "stream",
     "text": [
      "Current MSE: 0.318890477013\n",
      "Current length scale: [ 9.24827054 12.49940496]\n"
     ]
    },
    {
     "name": "stderr",
     "output_type": "stream",
     "text": [
      "\n",
      "  7%|▋         | 14/200 [00:07<01:38,  1.88it/s]\u001b[A"
     ]
    },
    {
     "name": "stdout",
     "output_type": "stream",
     "text": [
      "Current MSE: 0.326449219405\n",
      "Current length scale: [ 9.47334015 10.85206334]\n"
     ]
    },
    {
     "name": "stderr",
     "output_type": "stream",
     "text": [
      "\n",
      "  8%|▊         | 15/200 [00:08<01:37,  1.89it/s]\u001b[A"
     ]
    },
    {
     "name": "stdout",
     "output_type": "stream",
     "text": [
      "Current MSE: 0.314860571036\n",
      "Current length scale: [10.45168761 10.62921685]\n"
     ]
    },
    {
     "name": "stderr",
     "output_type": "stream",
     "text": [
      "\n",
      "  8%|▊         | 16/200 [00:08<01:36,  1.90it/s]\u001b[A"
     ]
    },
    {
     "name": "stdout",
     "output_type": "stream",
     "text": [
      "Current MSE: 0.328446884736\n",
      "Current length scale: [ 9.90667789 11.00837992]\n"
     ]
    },
    {
     "name": "stderr",
     "output_type": "stream",
     "text": [
      "\n",
      "  8%|▊         | 17/200 [00:09<01:38,  1.85it/s]\u001b[A"
     ]
    },
    {
     "name": "stdout",
     "output_type": "stream",
     "text": [
      "Current MSE: 0.327081901815\n",
      "Current length scale: [ 9.44394313 10.90240179]\n"
     ]
    },
    {
     "name": "stderr",
     "output_type": "stream",
     "text": [
      "\n",
      "  9%|▉         | 18/200 [00:10<01:41,  1.80it/s]\u001b[A"
     ]
    },
    {
     "name": "stdout",
     "output_type": "stream",
     "text": [
      "Current MSE: 0.328343091191\n",
      "Current length scale: [ 8.9559584  11.25134187]\n"
     ]
    },
    {
     "name": "stderr",
     "output_type": "stream",
     "text": [
      "\n",
      " 10%|▉         | 19/200 [00:10<01:52,  1.62it/s]\u001b[A"
     ]
    },
    {
     "name": "stdout",
     "output_type": "stream",
     "text": [
      "Current MSE: 0.322225814036\n",
      "Current length scale: [ 9.33521972 11.2180261 ]\n"
     ]
    },
    {
     "name": "stderr",
     "output_type": "stream",
     "text": [
      "\n",
      " 10%|█         | 20/200 [00:11<01:55,  1.56it/s]\u001b[A"
     ]
    },
    {
     "name": "stdout",
     "output_type": "stream",
     "text": [
      "Current MSE: 0.31683619062\n",
      "Current length scale: [ 9.29590686 10.49460227]\n"
     ]
    },
    {
     "name": "stderr",
     "output_type": "stream",
     "text": [
      "\n",
      " 10%|█         | 21/200 [00:12<01:54,  1.57it/s]\u001b[A"
     ]
    },
    {
     "name": "stdout",
     "output_type": "stream",
     "text": [
      "Current MSE: 0.306795220847\n",
      "Current length scale: [8.87421044 9.42208088]\n"
     ]
    },
    {
     "name": "stderr",
     "output_type": "stream",
     "text": [
      "\n",
      " 11%|█         | 22/200 [00:12<01:54,  1.55it/s]\u001b[A"
     ]
    },
    {
     "name": "stdout",
     "output_type": "stream",
     "text": [
      "Current MSE: 0.316599546445\n",
      "Current length scale: [8.59077299 9.12152087]\n"
     ]
    },
    {
     "name": "stderr",
     "output_type": "stream",
     "text": [
      "\n",
      " 12%|█▏        | 23/200 [00:13<01:57,  1.50it/s]\u001b[A"
     ]
    },
    {
     "name": "stdout",
     "output_type": "stream",
     "text": [
      "Current MSE: 0.315910656412\n",
      "Current length scale: [8.97879261 8.92666196]\n"
     ]
    },
    {
     "name": "stderr",
     "output_type": "stream",
     "text": [
      "\n",
      " 12%|█▏        | 24/200 [00:14<01:58,  1.48it/s]\u001b[A"
     ]
    },
    {
     "name": "stdout",
     "output_type": "stream",
     "text": [
      "Current MSE: 0.317758305453\n",
      "Current length scale: [9.82435485 8.72106403]\n"
     ]
    },
    {
     "name": "stderr",
     "output_type": "stream",
     "text": [
      "\n",
      " 12%|█▎        | 25/200 [00:14<01:53,  1.54it/s]\u001b[A"
     ]
    },
    {
     "name": "stdout",
     "output_type": "stream",
     "text": [
      "Current MSE: 0.327174815918\n",
      "Current length scale: [9.81517473 8.62840617]\n"
     ]
    },
    {
     "name": "stderr",
     "output_type": "stream",
     "text": [
      "\n",
      " 13%|█▎        | 26/200 [00:15<01:52,  1.55it/s]\u001b[A"
     ]
    },
    {
     "name": "stdout",
     "output_type": "stream",
     "text": [
      "Current MSE: 0.307035062461\n",
      "Current length scale: [9.83719114 9.36944253]\n"
     ]
    },
    {
     "name": "stderr",
     "output_type": "stream",
     "text": [
      "\n",
      " 14%|█▎        | 27/200 [00:16<01:50,  1.56it/s]\u001b[A"
     ]
    },
    {
     "name": "stdout",
     "output_type": "stream",
     "text": [
      "Current MSE: 0.31533462937\n",
      "Current length scale: [10.10478489  9.42755911]\n"
     ]
    },
    {
     "name": "stderr",
     "output_type": "stream",
     "text": [
      "\n",
      " 14%|█▍        | 28/200 [00:16<01:50,  1.56it/s]\u001b[A"
     ]
    },
    {
     "name": "stdout",
     "output_type": "stream",
     "text": [
      "Current MSE: 0.325989334283\n",
      "Current length scale: [9.15981299 9.10632246]\n"
     ]
    },
    {
     "name": "stderr",
     "output_type": "stream",
     "text": [
      "\n",
      " 14%|█▍        | 29/200 [00:17<01:48,  1.57it/s]\u001b[A"
     ]
    },
    {
     "name": "stdout",
     "output_type": "stream",
     "text": [
      "Current MSE: 0.328955131843\n",
      "Current length scale: [ 9.22767293 10.69747057]\n"
     ]
    },
    {
     "name": "stderr",
     "output_type": "stream",
     "text": [
      "\n",
      " 15%|█▌        | 30/200 [00:17<01:47,  1.58it/s]\u001b[A"
     ]
    },
    {
     "name": "stdout",
     "output_type": "stream",
     "text": [
      "Current MSE: 0.314844359994\n",
      "Current length scale: [ 9.0806441  11.03653491]\n"
     ]
    },
    {
     "name": "stderr",
     "output_type": "stream",
     "text": [
      "\n",
      " 16%|█▌        | 31/200 [00:18<01:46,  1.58it/s]\u001b[A"
     ]
    },
    {
     "name": "stdout",
     "output_type": "stream",
     "text": [
      "Current MSE: 0.308138370641\n",
      "Current length scale: [ 9.32169434 10.92799235]\n"
     ]
    },
    {
     "name": "stderr",
     "output_type": "stream",
     "text": [
      "\n",
      " 16%|█▌        | 32/200 [00:19<01:46,  1.58it/s]\u001b[A"
     ]
    },
    {
     "name": "stdout",
     "output_type": "stream",
     "text": [
      "Current MSE: 0.320476961536\n",
      "Current length scale: [ 9.37177147 10.27391887]\n"
     ]
    },
    {
     "name": "stderr",
     "output_type": "stream",
     "text": [
      "\n",
      " 16%|█▋        | 33/200 [00:19<01:44,  1.59it/s]\u001b[A"
     ]
    },
    {
     "name": "stdout",
     "output_type": "stream",
     "text": [
      "Current MSE: 0.334088235042\n",
      "Current length scale: [10.1746287  10.14868548]\n"
     ]
    },
    {
     "name": "stderr",
     "output_type": "stream",
     "text": [
      "\n",
      " 17%|█▋        | 34/200 [00:20<01:44,  1.59it/s]\u001b[A"
     ]
    },
    {
     "name": "stdout",
     "output_type": "stream",
     "text": [
      "Current MSE: 0.31856736598\n",
      "Current length scale: [9.93792005 9.51935926]\n"
     ]
    },
    {
     "name": "stderr",
     "output_type": "stream",
     "text": [
      "\n",
      " 18%|█▊        | 35/200 [00:21<01:45,  1.57it/s]\u001b[A"
     ]
    },
    {
     "name": "stdout",
     "output_type": "stream",
     "text": [
      "Current MSE: 0.313103243795\n",
      "Current length scale: [10.10033747 10.01122626]\n"
     ]
    },
    {
     "name": "stderr",
     "output_type": "stream",
     "text": [
      "\n",
      " 18%|█▊        | 36/200 [00:21<01:43,  1.59it/s]\u001b[A"
     ]
    },
    {
     "name": "stdout",
     "output_type": "stream",
     "text": [
      "Current MSE: 0.335861427862\n",
      "Current length scale: [10.88419321  9.96008512]\n"
     ]
    },
    {
     "name": "stderr",
     "output_type": "stream",
     "text": [
      "\n",
      " 18%|█▊        | 37/200 [00:22<01:42,  1.60it/s]\u001b[A"
     ]
    },
    {
     "name": "stdout",
     "output_type": "stream",
     "text": [
      "Current MSE: 0.333105193529\n",
      "Current length scale: [ 9.53051666 10.28049166]\n"
     ]
    },
    {
     "name": "stderr",
     "output_type": "stream",
     "text": [
      "\n",
      " 19%|█▉        | 38/200 [00:22<01:41,  1.60it/s]\u001b[A"
     ]
    },
    {
     "name": "stdout",
     "output_type": "stream",
     "text": [
      "Current MSE: 0.324372927879\n",
      "Current length scale: [ 9.62056089 10.12853709]\n"
     ]
    },
    {
     "name": "stderr",
     "output_type": "stream",
     "text": [
      "\n",
      " 20%|█▉        | 39/200 [00:23<01:41,  1.59it/s]\u001b[A"
     ]
    },
    {
     "name": "stdout",
     "output_type": "stream",
     "text": [
      "Current MSE: 0.307821573323\n",
      "Current length scale: [8.99507946 9.97114321]\n"
     ]
    },
    {
     "name": "stderr",
     "output_type": "stream",
     "text": [
      "\n",
      " 20%|██        | 40/200 [00:24<01:40,  1.58it/s]\u001b[A"
     ]
    },
    {
     "name": "stdout",
     "output_type": "stream",
     "text": [
      "Current MSE: 0.320075860478\n",
      "Current length scale: [9.8113269  9.50876299]\n"
     ]
    },
    {
     "name": "stderr",
     "output_type": "stream",
     "text": [
      "\n",
      " 20%|██        | 41/200 [00:24<01:40,  1.58it/s]\u001b[A"
     ]
    },
    {
     "name": "stdout",
     "output_type": "stream",
     "text": [
      "Current MSE: 0.317157770157\n",
      "Current length scale: [9.64812281 9.59164137]\n"
     ]
    },
    {
     "name": "stderr",
     "output_type": "stream",
     "text": [
      "\n",
      " 21%|██        | 42/200 [00:25<01:43,  1.53it/s]\u001b[A"
     ]
    },
    {
     "name": "stdout",
     "output_type": "stream",
     "text": [
      "Current MSE: 0.319305455474\n",
      "Current length scale: [8.75593764 9.62306876]\n"
     ]
    },
    {
     "name": "stderr",
     "output_type": "stream",
     "text": [
      "\n",
      " 22%|██▏       | 43/200 [00:26<01:39,  1.58it/s]\u001b[A"
     ]
    },
    {
     "name": "stdout",
     "output_type": "stream",
     "text": [
      "Current MSE: 0.309937361894\n",
      "Current length scale: [ 8.92779427 10.10705511]\n"
     ]
    },
    {
     "name": "stderr",
     "output_type": "stream",
     "text": [
      "\n",
      " 22%|██▏       | 44/200 [00:26<01:40,  1.56it/s]\u001b[A"
     ]
    },
    {
     "name": "stdout",
     "output_type": "stream",
     "text": [
      "Current MSE: 0.319949626494\n",
      "Current length scale: [ 9.26070695 10.19570213]\n"
     ]
    },
    {
     "name": "stderr",
     "output_type": "stream",
     "text": [
      "\n",
      " 22%|██▎       | 45/200 [00:27<01:39,  1.55it/s]\u001b[A"
     ]
    },
    {
     "name": "stdout",
     "output_type": "stream",
     "text": [
      "Current MSE: 0.324891058496\n",
      "Current length scale: [ 9.13967279 10.92033379]\n"
     ]
    },
    {
     "name": "stderr",
     "output_type": "stream",
     "text": [
      "\n",
      " 23%|██▎       | 46/200 [00:28<01:38,  1.56it/s]\u001b[A"
     ]
    },
    {
     "name": "stdout",
     "output_type": "stream",
     "text": [
      "Current MSE: 0.317490196131\n",
      "Current length scale: [ 8.62705432 10.2721488 ]\n"
     ]
    },
    {
     "name": "stderr",
     "output_type": "stream",
     "text": [
      "\n",
      " 24%|██▎       | 47/200 [00:28<01:36,  1.58it/s]\u001b[A"
     ]
    },
    {
     "name": "stdout",
     "output_type": "stream",
     "text": [
      "Current MSE: 0.31966906237\n",
      "Current length scale: [ 8.15550107 10.40176768]\n"
     ]
    },
    {
     "name": "stderr",
     "output_type": "stream",
     "text": [
      "\n",
      " 24%|██▍       | 48/200 [00:29<01:30,  1.68it/s]\u001b[A"
     ]
    },
    {
     "name": "stdout",
     "output_type": "stream",
     "text": [
      "Current MSE: 0.317153857138\n",
      "Current length scale: [ 8.43487065 10.27531047]\n"
     ]
    },
    {
     "name": "stderr",
     "output_type": "stream",
     "text": [
      "\n",
      " 24%|██▍       | 49/200 [00:29<01:26,  1.75it/s]\u001b[A"
     ]
    },
    {
     "name": "stdout",
     "output_type": "stream",
     "text": [
      "Current MSE: 0.310768204134\n",
      "Current length scale: [9.41455852 9.84519368]\n"
     ]
    },
    {
     "name": "stderr",
     "output_type": "stream",
     "text": [
      "\n",
      " 25%|██▌       | 50/200 [00:30<01:29,  1.67it/s]\u001b[A"
     ]
    },
    {
     "name": "stdout",
     "output_type": "stream",
     "text": [
      "Current MSE: 0.330635733601\n",
      "Current length scale: [ 9.20429468 10.85812627]\n"
     ]
    },
    {
     "name": "stderr",
     "output_type": "stream",
     "text": [
      "\n",
      " 26%|██▌       | 51/200 [00:31<01:38,  1.52it/s]\u001b[A"
     ]
    },
    {
     "name": "stdout",
     "output_type": "stream",
     "text": [
      "Current MSE: 0.321878905808\n",
      "Current length scale: [ 9.79668889 10.96506096]\n"
     ]
    },
    {
     "name": "stderr",
     "output_type": "stream",
     "text": [
      "\n",
      " 26%|██▌       | 52/200 [00:31<01:33,  1.58it/s]\u001b[A"
     ]
    },
    {
     "name": "stdout",
     "output_type": "stream",
     "text": [
      "Current MSE: 0.325255083454\n",
      "Current length scale: [ 9.87811408 10.82742659]\n"
     ]
    },
    {
     "name": "stderr",
     "output_type": "stream",
     "text": [
      "\n",
      " 26%|██▋       | 53/200 [00:32<01:29,  1.65it/s]\u001b[A"
     ]
    },
    {
     "name": "stdout",
     "output_type": "stream",
     "text": [
      "Current MSE: 0.320138460723\n",
      "Current length scale: [ 9.89973583 10.70443521]\n"
     ]
    },
    {
     "name": "stderr",
     "output_type": "stream",
     "text": [
      "\n",
      " 27%|██▋       | 54/200 [00:32<01:24,  1.73it/s]\u001b[A"
     ]
    },
    {
     "name": "stdout",
     "output_type": "stream",
     "text": [
      "Current MSE: 0.323250362384\n",
      "Current length scale: [ 9.98676243 10.48132153]\n"
     ]
    },
    {
     "name": "stderr",
     "output_type": "stream",
     "text": [
      "\n",
      " 28%|██▊       | 55/200 [00:33<01:23,  1.74it/s]\u001b[A"
     ]
    },
    {
     "name": "stdout",
     "output_type": "stream",
     "text": [
      "Current MSE: 0.324561892719\n",
      "Current length scale: [ 9.1979689  10.68116575]\n"
     ]
    },
    {
     "name": "stderr",
     "output_type": "stream",
     "text": [
      "\n",
      " 28%|██▊       | 56/200 [00:33<01:19,  1.80it/s]\u001b[A"
     ]
    },
    {
     "name": "stdout",
     "output_type": "stream",
     "text": [
      "Current MSE: 0.331018685663\n",
      "Current length scale: [10.31546555 11.12269914]\n"
     ]
    },
    {
     "name": "stderr",
     "output_type": "stream",
     "text": [
      "\n",
      " 28%|██▊       | 57/200 [00:34<01:17,  1.85it/s]\u001b[A"
     ]
    },
    {
     "name": "stdout",
     "output_type": "stream",
     "text": [
      "Current MSE: 0.329129517074\n",
      "Current length scale: [ 9.80164972 10.51657387]\n"
     ]
    },
    {
     "name": "stderr",
     "output_type": "stream",
     "text": [
      "\n",
      " 29%|██▉       | 58/200 [00:34<01:15,  1.88it/s]\u001b[A"
     ]
    },
    {
     "name": "stdout",
     "output_type": "stream",
     "text": [
      "Current MSE: 0.309781990112\n",
      "Current length scale: [ 9.79373002 11.22498199]\n"
     ]
    },
    {
     "name": "stderr",
     "output_type": "stream",
     "text": [
      "\n",
      " 30%|██▉       | 59/200 [00:35<01:19,  1.77it/s]\u001b[A"
     ]
    },
    {
     "name": "stdout",
     "output_type": "stream",
     "text": [
      "Current MSE: 0.328302017832\n",
      "Current length scale: [ 9.19022715 11.88020714]\n"
     ]
    },
    {
     "name": "stderr",
     "output_type": "stream",
     "text": [
      "\n",
      " 30%|███       | 60/200 [00:36<01:18,  1.78it/s]\u001b[A"
     ]
    },
    {
     "name": "stdout",
     "output_type": "stream",
     "text": [
      "Current MSE: 0.315720611522\n",
      "Current length scale: [ 9.43023693 11.15376921]\n"
     ]
    },
    {
     "name": "stderr",
     "output_type": "stream",
     "text": [
      "\n",
      " 30%|███       | 61/200 [00:36<01:17,  1.78it/s]\u001b[A"
     ]
    },
    {
     "name": "stdout",
     "output_type": "stream",
     "text": [
      "Current MSE: 0.317580126321\n",
      "Current length scale: [ 9.34741522 10.18423314]\n"
     ]
    },
    {
     "name": "stderr",
     "output_type": "stream",
     "text": [
      "\n",
      " 31%|███       | 62/200 [00:37<01:15,  1.83it/s]\u001b[A"
     ]
    },
    {
     "name": "stdout",
     "output_type": "stream",
     "text": [
      "Current MSE: 0.312106891599\n",
      "Current length scale: [8.94437135 9.98072049]\n"
     ]
    },
    {
     "name": "stderr",
     "output_type": "stream",
     "text": [
      "\n",
      " 32%|███▏      | 63/200 [00:37<01:12,  1.88it/s]\u001b[A"
     ]
    },
    {
     "name": "stdout",
     "output_type": "stream",
     "text": [
      "Current MSE: 0.308983953609\n",
      "Current length scale: [9.11389515 9.13719871]\n"
     ]
    },
    {
     "name": "stderr",
     "output_type": "stream",
     "text": [
      "\n",
      " 32%|███▏      | 64/200 [00:38<01:10,  1.92it/s]\u001b[A"
     ]
    },
    {
     "name": "stdout",
     "output_type": "stream",
     "text": [
      "Current MSE: 0.320295400616\n",
      "Current length scale: [9.39544127 9.43570402]\n"
     ]
    },
    {
     "name": "stderr",
     "output_type": "stream",
     "text": [
      "\n",
      " 32%|███▎      | 65/200 [00:38<01:14,  1.82it/s]\u001b[A"
     ]
    },
    {
     "name": "stdout",
     "output_type": "stream",
     "text": [
      "Current MSE: 0.307003364437\n",
      "Current length scale: [11.17806563  9.52992976]\n"
     ]
    },
    {
     "name": "stderr",
     "output_type": "stream",
     "text": [
      "\n",
      " 33%|███▎      | 66/200 [00:39<01:22,  1.63it/s]\u001b[A"
     ]
    },
    {
     "name": "stdout",
     "output_type": "stream",
     "text": [
      "Current MSE: 0.323902368351\n",
      "Current length scale: [11.55637409  9.44836387]\n"
     ]
    },
    {
     "name": "stderr",
     "output_type": "stream",
     "text": [
      "\n",
      " 34%|███▎      | 67/200 [00:40<01:26,  1.54it/s]\u001b[A"
     ]
    },
    {
     "name": "stdout",
     "output_type": "stream",
     "text": [
      "Current MSE: 0.317685669596\n",
      "Current length scale: [10.9847424   9.10070242]\n"
     ]
    },
    {
     "name": "stderr",
     "output_type": "stream",
     "text": [
      "\n",
      " 34%|███▍      | 68/200 [00:40<01:25,  1.54it/s]\u001b[A"
     ]
    },
    {
     "name": "stdout",
     "output_type": "stream",
     "text": [
      "Current MSE: 0.319517412399\n",
      "Current length scale: [11.23793427  9.39988642]\n"
     ]
    },
    {
     "name": "stderr",
     "output_type": "stream",
     "text": [
      "\n",
      " 34%|███▍      | 69/200 [00:41<01:23,  1.58it/s]\u001b[A"
     ]
    },
    {
     "name": "stdout",
     "output_type": "stream",
     "text": [
      "Current MSE: 0.32286263212\n",
      "Current length scale: [10.12683794  8.76418099]\n"
     ]
    },
    {
     "name": "stderr",
     "output_type": "stream",
     "text": [
      "\n",
      " 35%|███▌      | 70/200 [00:42<01:31,  1.43it/s]\u001b[A"
     ]
    },
    {
     "name": "stdout",
     "output_type": "stream",
     "text": [
      "Current MSE: 0.317012454873\n",
      "Current length scale: [10.63744744  8.94361593]\n"
     ]
    },
    {
     "name": "stderr",
     "output_type": "stream",
     "text": [
      "\n",
      " 36%|███▌      | 71/200 [00:43<01:30,  1.42it/s]\u001b[A"
     ]
    },
    {
     "name": "stdout",
     "output_type": "stream",
     "text": [
      "Current MSE: 0.317465061275\n",
      "Current length scale: [11.04490709  8.52749254]\n"
     ]
    },
    {
     "name": "stderr",
     "output_type": "stream",
     "text": [
      "\n",
      " 36%|███▌      | 72/200 [00:43<01:27,  1.46it/s]\u001b[A"
     ]
    },
    {
     "name": "stdout",
     "output_type": "stream",
     "text": [
      "Current MSE: 0.333210621403\n",
      "Current length scale: [11.23660836  9.14896699]\n"
     ]
    },
    {
     "name": "stderr",
     "output_type": "stream",
     "text": [
      "\n",
      " 36%|███▋      | 73/200 [00:44<01:24,  1.50it/s]\u001b[A"
     ]
    },
    {
     "name": "stdout",
     "output_type": "stream",
     "text": [
      "Current MSE: 0.325735131601\n",
      "Current length scale: [11.14597126  9.55260661]\n"
     ]
    },
    {
     "name": "stderr",
     "output_type": "stream",
     "text": [
      "\n",
      " 37%|███▋      | 74/200 [00:45<01:22,  1.53it/s]\u001b[A"
     ]
    },
    {
     "name": "stdout",
     "output_type": "stream",
     "text": [
      "Current MSE: 0.320646831198\n",
      "Current length scale: [11.97051074  8.59955165]\n"
     ]
    },
    {
     "name": "stderr",
     "output_type": "stream",
     "text": [
      "\n",
      " 38%|███▊      | 75/200 [00:45<01:21,  1.54it/s]\u001b[A"
     ]
    },
    {
     "name": "stdout",
     "output_type": "stream",
     "text": [
      "Current MSE: 0.323485403785\n",
      "Current length scale: [12.4212025   8.39617676]\n"
     ]
    },
    {
     "name": "stderr",
     "output_type": "stream",
     "text": [
      "\n",
      " 38%|███▊      | 76/200 [00:46<01:20,  1.55it/s]\u001b[A"
     ]
    },
    {
     "name": "stdout",
     "output_type": "stream",
     "text": [
      "Current MSE: 0.327983616835\n",
      "Current length scale: [12.59227736  8.16848214]\n"
     ]
    },
    {
     "name": "stderr",
     "output_type": "stream",
     "text": [
      "\n",
      " 38%|███▊      | 77/200 [00:46<01:18,  1.57it/s]\u001b[A"
     ]
    },
    {
     "name": "stdout",
     "output_type": "stream",
     "text": [
      "Current MSE: 0.326405646952\n",
      "Current length scale: [11.76169076  8.24901535]\n"
     ]
    },
    {
     "name": "stderr",
     "output_type": "stream",
     "text": [
      "\n",
      " 39%|███▉      | 78/200 [00:47<01:17,  1.57it/s]\u001b[A"
     ]
    },
    {
     "name": "stdout",
     "output_type": "stream",
     "text": [
      "Current MSE: 0.322962820466\n",
      "Current length scale: [11.06773294  8.87299972]\n"
     ]
    },
    {
     "name": "stderr",
     "output_type": "stream",
     "text": [
      "\n",
      " 40%|███▉      | 79/200 [00:48<01:15,  1.60it/s]\u001b[A"
     ]
    },
    {
     "name": "stdout",
     "output_type": "stream",
     "text": [
      "Current MSE: 0.314539326461\n",
      "Current length scale: [11.07282788  9.20802269]\n"
     ]
    },
    {
     "name": "stderr",
     "output_type": "stream",
     "text": [
      "\n",
      " 40%|████      | 80/200 [00:48<01:15,  1.59it/s]\u001b[A"
     ]
    },
    {
     "name": "stdout",
     "output_type": "stream",
     "text": [
      "Current MSE: 0.31677283103\n",
      "Current length scale: [10.01922093  9.31571575]\n"
     ]
    },
    {
     "name": "stderr",
     "output_type": "stream",
     "text": [
      "\n",
      " 40%|████      | 81/200 [00:49<01:13,  1.61it/s]\u001b[A"
     ]
    },
    {
     "name": "stdout",
     "output_type": "stream",
     "text": [
      "Current MSE: 0.319208146336\n",
      "Current length scale: [10.35411123  8.4973645 ]\n"
     ]
    },
    {
     "name": "stderr",
     "output_type": "stream",
     "text": [
      "\n",
      " 41%|████      | 82/200 [00:50<01:13,  1.60it/s]\u001b[A"
     ]
    },
    {
     "name": "stdout",
     "output_type": "stream",
     "text": [
      "Current MSE: 0.318918158721\n",
      "Current length scale: [9.53159247 7.91657979]\n"
     ]
    },
    {
     "name": "stderr",
     "output_type": "stream",
     "text": [
      "\n",
      " 42%|████▏     | 83/200 [00:50<01:14,  1.58it/s]\u001b[A"
     ]
    },
    {
     "name": "stdout",
     "output_type": "stream",
     "text": [
      "Current MSE: 0.323961863572\n",
      "Current length scale: [9.91195468 8.47735796]\n"
     ]
    },
    {
     "name": "stderr",
     "output_type": "stream",
     "text": [
      "\n",
      " 42%|████▏     | 84/200 [00:51<01:13,  1.59it/s]\u001b[A"
     ]
    },
    {
     "name": "stdout",
     "output_type": "stream",
     "text": [
      "Current MSE: 0.321635042067\n",
      "Current length scale: [10.43959977  8.28380482]\n"
     ]
    },
    {
     "name": "stderr",
     "output_type": "stream",
     "text": [
      "\n",
      " 42%|████▎     | 85/200 [00:51<01:12,  1.59it/s]\u001b[A"
     ]
    },
    {
     "name": "stdout",
     "output_type": "stream",
     "text": [
      "Current MSE: 0.314704948409\n",
      "Current length scale: [10.49099703  9.06483838]\n"
     ]
    },
    {
     "name": "stderr",
     "output_type": "stream",
     "text": [
      "\n",
      " 43%|████▎     | 86/200 [00:52<01:11,  1.60it/s]\u001b[A"
     ]
    },
    {
     "name": "stdout",
     "output_type": "stream",
     "text": [
      "Current MSE: 0.319106202007\n",
      "Current length scale: [11.46171369  9.36418407]\n"
     ]
    },
    {
     "name": "stderr",
     "output_type": "stream",
     "text": [
      "\n",
      " 44%|████▎     | 87/200 [00:53<01:10,  1.60it/s]\u001b[A"
     ]
    },
    {
     "name": "stdout",
     "output_type": "stream",
     "text": [
      "Current MSE: 0.318856946967\n",
      "Current length scale: [10.21568447 10.74960109]\n"
     ]
    },
    {
     "name": "stderr",
     "output_type": "stream",
     "text": [
      "\n",
      " 44%|████▍     | 88/200 [00:53<01:09,  1.60it/s]\u001b[A"
     ]
    },
    {
     "name": "stdout",
     "output_type": "stream",
     "text": [
      "Current MSE: 0.317156728689\n",
      "Current length scale: [10.73210077 10.16335378]\n"
     ]
    },
    {
     "name": "stderr",
     "output_type": "stream",
     "text": [
      "\n",
      " 44%|████▍     | 89/200 [00:54<01:09,  1.60it/s]\u001b[A"
     ]
    },
    {
     "name": "stdout",
     "output_type": "stream",
     "text": [
      "Current MSE: 0.31726416547\n",
      "Current length scale: [10.08913885 10.05030761]\n"
     ]
    },
    {
     "name": "stderr",
     "output_type": "stream",
     "text": [
      "\n",
      " 45%|████▌     | 90/200 [00:55<01:09,  1.59it/s]\u001b[A"
     ]
    },
    {
     "name": "stdout",
     "output_type": "stream",
     "text": [
      "Current MSE: 0.317266732898\n",
      "Current length scale: [10.13878093 10.21633245]\n"
     ]
    },
    {
     "name": "stderr",
     "output_type": "stream",
     "text": [
      "\n",
      " 46%|████▌     | 91/200 [00:55<01:09,  1.56it/s]\u001b[A"
     ]
    },
    {
     "name": "stdout",
     "output_type": "stream",
     "text": [
      "Current MSE: 0.312875859907\n",
      "Current length scale: [9.81809145 9.89616149]\n"
     ]
    },
    {
     "name": "stderr",
     "output_type": "stream",
     "text": [
      "\n",
      " 46%|████▌     | 92/200 [00:56<01:21,  1.32it/s]\u001b[A"
     ]
    },
    {
     "name": "stdout",
     "output_type": "stream",
     "text": [
      "Current MSE: 0.324027251552\n",
      "Current length scale: [10.06095153  9.72431595]\n"
     ]
    },
    {
     "name": "stderr",
     "output_type": "stream",
     "text": [
      "\n",
      " 46%|████▋     | 93/200 [00:57<01:26,  1.24it/s]\u001b[A"
     ]
    },
    {
     "name": "stdout",
     "output_type": "stream",
     "text": [
      "Current MSE: 0.319303007193\n",
      "Current length scale: [10.50775758  9.44637884]\n"
     ]
    },
    {
     "name": "stderr",
     "output_type": "stream",
     "text": [
      "\n",
      " 47%|████▋     | 94/200 [00:58<01:21,  1.30it/s]\u001b[A"
     ]
    },
    {
     "name": "stdout",
     "output_type": "stream",
     "text": [
      "Current MSE: 0.333810630697\n",
      "Current length scale: [10.34357131  9.90387513]\n"
     ]
    },
    {
     "name": "stderr",
     "output_type": "stream",
     "text": [
      "\n",
      " 48%|████▊     | 95/200 [00:58<01:16,  1.36it/s]\u001b[A"
     ]
    },
    {
     "name": "stdout",
     "output_type": "stream",
     "text": [
      "Current MSE: 0.338774502093\n",
      "Current length scale: [10.16005544  9.66494607]\n"
     ]
    },
    {
     "name": "stderr",
     "output_type": "stream",
     "text": [
      "\n",
      " 48%|████▊     | 96/200 [00:59<01:13,  1.42it/s]\u001b[A"
     ]
    },
    {
     "name": "stdout",
     "output_type": "stream",
     "text": [
      "Current MSE: 0.321873264679\n",
      "Current length scale: [9.51692217 8.78819086]\n"
     ]
    },
    {
     "name": "stderr",
     "output_type": "stream",
     "text": [
      "\n",
      " 48%|████▊     | 97/200 [01:00<01:10,  1.46it/s]\u001b[A"
     ]
    },
    {
     "name": "stdout",
     "output_type": "stream",
     "text": [
      "Current MSE: 0.308006768187\n",
      "Current length scale: [9.07549779 7.33480277]\n"
     ]
    },
    {
     "name": "stderr",
     "output_type": "stream",
     "text": [
      "\n",
      " 49%|████▉     | 98/200 [01:00<01:07,  1.52it/s]\u001b[A"
     ]
    },
    {
     "name": "stdout",
     "output_type": "stream",
     "text": [
      "Current MSE: 0.322179919341\n",
      "Current length scale: [8.18949848 7.53838381]\n"
     ]
    },
    {
     "name": "stderr",
     "output_type": "stream",
     "text": [
      "\n",
      " 50%|████▉     | 99/200 [01:01<01:06,  1.52it/s]\u001b[A"
     ]
    },
    {
     "name": "stdout",
     "output_type": "stream",
     "text": [
      "Current MSE: 0.317743862335\n",
      "Current length scale: [8.59076834 7.26369029]\n"
     ]
    },
    {
     "name": "stderr",
     "output_type": "stream",
     "text": [
      "\n",
      " 50%|█████     | 100/200 [01:02<01:04,  1.55it/s]\u001b[A"
     ]
    },
    {
     "name": "stdout",
     "output_type": "stream",
     "text": [
      "Current MSE: 0.319073481478\n",
      "Current length scale: [8.89490065 8.0393144 ]\n"
     ]
    },
    {
     "name": "stderr",
     "output_type": "stream",
     "text": [
      "\n",
      " 50%|█████     | 101/200 [01:02<01:04,  1.54it/s]\u001b[A"
     ]
    },
    {
     "name": "stdout",
     "output_type": "stream",
     "text": [
      "Current MSE: 0.315585204447\n",
      "Current length scale: [8.39344269 7.86851535]\n"
     ]
    },
    {
     "name": "stderr",
     "output_type": "stream",
     "text": [
      "\n",
      " 51%|█████     | 102/200 [01:03<01:03,  1.53it/s]\u001b[A"
     ]
    },
    {
     "name": "stdout",
     "output_type": "stream",
     "text": [
      "Current MSE: 0.318476125206\n",
      "Current length scale: [8.59127247 7.50044163]\n"
     ]
    },
    {
     "name": "stderr",
     "output_type": "stream",
     "text": [
      "\n",
      " 52%|█████▏    | 103/200 [01:04<01:02,  1.56it/s]\u001b[A"
     ]
    },
    {
     "name": "stdout",
     "output_type": "stream",
     "text": [
      "Current MSE: 0.330399497542\n",
      "Current length scale: [8.52410902 7.87557349]\n"
     ]
    },
    {
     "name": "stderr",
     "output_type": "stream",
     "text": [
      "\n",
      " 52%|█████▏    | 104/200 [01:04<01:01,  1.55it/s]\u001b[A"
     ]
    },
    {
     "name": "stdout",
     "output_type": "stream",
     "text": [
      "Current MSE: 0.325266280854\n",
      "Current length scale: [7.87408791 7.63254013]\n"
     ]
    },
    {
     "name": "stderr",
     "output_type": "stream",
     "text": [
      "\n",
      " 52%|█████▎    | 105/200 [01:05<01:00,  1.57it/s]\u001b[A"
     ]
    },
    {
     "name": "stdout",
     "output_type": "stream",
     "text": [
      "Current MSE: 0.311369835132\n",
      "Current length scale: [8.47858916 7.62930063]\n"
     ]
    },
    {
     "name": "stderr",
     "output_type": "stream",
     "text": [
      "\n",
      " 53%|█████▎    | 106/200 [01:05<01:00,  1.56it/s]\u001b[A"
     ]
    },
    {
     "name": "stdout",
     "output_type": "stream",
     "text": [
      "Current MSE: 0.311029397816\n",
      "Current length scale: [8.14063377 7.65889903]\n"
     ]
    },
    {
     "name": "stderr",
     "output_type": "stream",
     "text": [
      "\n",
      " 54%|█████▎    | 107/200 [01:06<00:59,  1.57it/s]\u001b[A"
     ]
    },
    {
     "name": "stdout",
     "output_type": "stream",
     "text": [
      "Current MSE: 0.33113800476\n",
      "Current length scale: [8.41135539 7.85784525]\n"
     ]
    },
    {
     "name": "stderr",
     "output_type": "stream",
     "text": [
      "\n",
      " 54%|█████▍    | 108/200 [01:07<00:58,  1.58it/s]\u001b[A"
     ]
    },
    {
     "name": "stdout",
     "output_type": "stream",
     "text": [
      "Current MSE: 0.34321854472\n",
      "Current length scale: [9.02157951 8.34513635]\n"
     ]
    },
    {
     "name": "stderr",
     "output_type": "stream",
     "text": [
      "\n",
      " 55%|█████▍    | 109/200 [01:07<00:57,  1.58it/s]\u001b[A"
     ]
    },
    {
     "name": "stdout",
     "output_type": "stream",
     "text": [
      "Current MSE: 0.316914313489\n",
      "Current length scale: [8.60955822 7.69027318]\n"
     ]
    },
    {
     "name": "stderr",
     "output_type": "stream",
     "text": [
      "\n",
      " 55%|█████▌    | 110/200 [01:08<00:56,  1.59it/s]\u001b[A"
     ]
    },
    {
     "name": "stdout",
     "output_type": "stream",
     "text": [
      "Current MSE: 0.322959231986\n",
      "Current length scale: [9.50656581 7.97539535]\n"
     ]
    },
    {
     "name": "stderr",
     "output_type": "stream",
     "text": [
      "\n",
      " 56%|█████▌    | 111/200 [01:09<00:55,  1.59it/s]\u001b[A"
     ]
    },
    {
     "name": "stdout",
     "output_type": "stream",
     "text": [
      "Current MSE: 0.331920216339\n",
      "Current length scale: [9.20812806 7.85308693]\n"
     ]
    },
    {
     "name": "stderr",
     "output_type": "stream",
     "text": [
      "\n",
      " 56%|█████▌    | 112/200 [01:09<00:55,  1.60it/s]\u001b[A"
     ]
    },
    {
     "name": "stdout",
     "output_type": "stream",
     "text": [
      "Current MSE: 0.316465789952\n",
      "Current length scale: [10.36074051  8.77188392]\n"
     ]
    },
    {
     "name": "stderr",
     "output_type": "stream",
     "text": [
      "\n",
      " 56%|█████▋    | 113/200 [01:10<00:54,  1.59it/s]\u001b[A"
     ]
    },
    {
     "name": "stdout",
     "output_type": "stream",
     "text": [
      "Current MSE: 0.327519884414\n",
      "Current length scale: [10.523782    8.93266207]\n"
     ]
    },
    {
     "name": "stderr",
     "output_type": "stream",
     "text": [
      "\n",
      " 57%|█████▋    | 114/200 [01:10<00:53,  1.60it/s]\u001b[A"
     ]
    },
    {
     "name": "stdout",
     "output_type": "stream",
     "text": [
      "Current MSE: 0.31667787614\n",
      "Current length scale: [9.51389886 8.93611434]\n"
     ]
    },
    {
     "name": "stderr",
     "output_type": "stream",
     "text": [
      "\n",
      " 57%|█████▊    | 115/200 [01:11<00:53,  1.58it/s]\u001b[A"
     ]
    },
    {
     "name": "stdout",
     "output_type": "stream",
     "text": [
      "Current MSE: 0.326919470785\n",
      "Current length scale: [8.98207285 9.34904814]\n"
     ]
    },
    {
     "name": "stderr",
     "output_type": "stream",
     "text": [
      "\n",
      " 58%|█████▊    | 116/200 [01:12<00:53,  1.57it/s]\u001b[A"
     ]
    },
    {
     "name": "stdout",
     "output_type": "stream",
     "text": [
      "Current MSE: 0.314967707995\n",
      "Current length scale: [ 8.50532518 10.18095538]\n"
     ]
    },
    {
     "name": "stderr",
     "output_type": "stream",
     "text": [
      "\n",
      " 58%|█████▊    | 117/200 [01:12<00:52,  1.58it/s]\u001b[A"
     ]
    },
    {
     "name": "stdout",
     "output_type": "stream",
     "text": [
      "Current MSE: 0.317976328108\n",
      "Current length scale: [8.10343159 9.14072215]\n"
     ]
    },
    {
     "name": "stderr",
     "output_type": "stream",
     "text": [
      "\n",
      " 59%|█████▉    | 118/200 [01:13<00:51,  1.58it/s]\u001b[A"
     ]
    },
    {
     "name": "stdout",
     "output_type": "stream",
     "text": [
      "Current MSE: 0.321887527079\n",
      "Current length scale: [8.41476161 9.2826737 ]\n"
     ]
    },
    {
     "name": "stderr",
     "output_type": "stream",
     "text": [
      "\n",
      " 60%|█████▉    | 119/200 [01:14<00:50,  1.61it/s]\u001b[A"
     ]
    },
    {
     "name": "stdout",
     "output_type": "stream",
     "text": [
      "Current MSE: 0.319807653556\n",
      "Current length scale: [7.76596598 9.94105895]\n"
     ]
    },
    {
     "name": "stderr",
     "output_type": "stream",
     "text": [
      "\n",
      " 60%|██████    | 120/200 [01:14<00:46,  1.70it/s]\u001b[A"
     ]
    },
    {
     "name": "stdout",
     "output_type": "stream",
     "text": [
      "Current MSE: 0.318170970763\n",
      "Current length scale: [7.72767344 9.78925119]\n"
     ]
    },
    {
     "name": "stderr",
     "output_type": "stream",
     "text": [
      "\n",
      " 60%|██████    | 121/200 [01:15<00:44,  1.78it/s]\u001b[A"
     ]
    },
    {
     "name": "stdout",
     "output_type": "stream",
     "text": [
      "Current MSE: 0.317268726727\n",
      "Current length scale: [7.35376199 8.86304654]\n"
     ]
    },
    {
     "name": "stderr",
     "output_type": "stream",
     "text": [
      "\n",
      " 61%|██████    | 122/200 [01:15<00:42,  1.84it/s]\u001b[A"
     ]
    },
    {
     "name": "stdout",
     "output_type": "stream",
     "text": [
      "Current MSE: 0.323715118493\n",
      "Current length scale: [7.57524084 8.95352176]\n"
     ]
    },
    {
     "name": "stderr",
     "output_type": "stream",
     "text": [
      "\n",
      " 62%|██████▏   | 123/200 [01:16<00:41,  1.87it/s]\u001b[A"
     ]
    },
    {
     "name": "stdout",
     "output_type": "stream",
     "text": [
      "Current MSE: 0.316902596268\n",
      "Current length scale: [7.58610008 8.789938  ]\n"
     ]
    },
    {
     "name": "stderr",
     "output_type": "stream",
     "text": [
      "\n",
      " 62%|██████▏   | 124/200 [01:16<00:40,  1.89it/s]\u001b[A"
     ]
    },
    {
     "name": "stdout",
     "output_type": "stream",
     "text": [
      "Current MSE: 0.32014829798\n",
      "Current length scale: [7.6919561  9.69093915]\n"
     ]
    },
    {
     "name": "stderr",
     "output_type": "stream",
     "text": [
      "\n",
      " 62%|██████▎   | 125/200 [01:17<00:39,  1.91it/s]\u001b[A"
     ]
    },
    {
     "name": "stdout",
     "output_type": "stream",
     "text": [
      "Current MSE: 0.312333035212\n",
      "Current length scale: [7.63710626 9.83829308]\n"
     ]
    },
    {
     "name": "stderr",
     "output_type": "stream",
     "text": [
      "\n",
      " 63%|██████▎   | 126/200 [01:17<00:38,  1.92it/s]\u001b[A"
     ]
    },
    {
     "name": "stdout",
     "output_type": "stream",
     "text": [
      "Current MSE: 0.324570525061\n",
      "Current length scale: [7.56461428 9.44993225]\n"
     ]
    },
    {
     "name": "stderr",
     "output_type": "stream",
     "text": [
      "\n",
      " 64%|██████▎   | 127/200 [01:18<00:37,  1.94it/s]\u001b[A"
     ]
    },
    {
     "name": "stdout",
     "output_type": "stream",
     "text": [
      "Current MSE: 0.312013884334\n",
      "Current length scale: [7.98266798 9.27270441]\n"
     ]
    },
    {
     "name": "stderr",
     "output_type": "stream",
     "text": [
      "\n",
      " 64%|██████▍   | 128/200 [01:18<00:36,  1.95it/s]\u001b[A"
     ]
    },
    {
     "name": "stdout",
     "output_type": "stream",
     "text": [
      "Current MSE: 0.310027976456\n",
      "Current length scale: [7.77351065 8.42490518]\n"
     ]
    },
    {
     "name": "stderr",
     "output_type": "stream",
     "text": [
      "\n",
      " 64%|██████▍   | 129/200 [01:19<00:36,  1.97it/s]\u001b[A"
     ]
    },
    {
     "name": "stdout",
     "output_type": "stream",
     "text": [
      "Current MSE: 0.324338371634\n",
      "Current length scale: [7.4934814  7.97909851]\n"
     ]
    },
    {
     "name": "stderr",
     "output_type": "stream",
     "text": [
      "\n",
      " 65%|██████▌   | 130/200 [01:19<00:35,  1.96it/s]\u001b[A"
     ]
    },
    {
     "name": "stdout",
     "output_type": "stream",
     "text": [
      "Current MSE: 0.318977512424\n",
      "Current length scale: [7.46185485 7.29743496]\n"
     ]
    },
    {
     "name": "stderr",
     "output_type": "stream",
     "text": [
      "\n",
      " 66%|██████▌   | 131/200 [01:20<00:35,  1.97it/s]\u001b[A"
     ]
    },
    {
     "name": "stdout",
     "output_type": "stream",
     "text": [
      "Current MSE: 0.309156404732\n",
      "Current length scale: [8.45405274 8.73738687]\n"
     ]
    },
    {
     "name": "stderr",
     "output_type": "stream",
     "text": [
      "\n",
      " 66%|██████▌   | 132/200 [01:20<00:34,  1.97it/s]\u001b[A"
     ]
    },
    {
     "name": "stdout",
     "output_type": "stream",
     "text": [
      "Current MSE: 0.324401141793\n",
      "Current length scale: [8.82449755 8.26102159]\n"
     ]
    },
    {
     "name": "stderr",
     "output_type": "stream",
     "text": [
      "\n",
      " 66%|██████▋   | 133/200 [01:21<00:33,  1.97it/s]\u001b[A"
     ]
    },
    {
     "name": "stdout",
     "output_type": "stream",
     "text": [
      "Current MSE: 0.315137624401\n",
      "Current length scale: [8.13169701 8.44158789]\n"
     ]
    },
    {
     "name": "stderr",
     "output_type": "stream",
     "text": [
      "\n",
      " 67%|██████▋   | 134/200 [01:21<00:33,  1.98it/s]\u001b[A"
     ]
    },
    {
     "name": "stdout",
     "output_type": "stream",
     "text": [
      "Current MSE: 0.322526261325\n",
      "Current length scale: [8.17310263 8.03100264]\n"
     ]
    },
    {
     "name": "stderr",
     "output_type": "stream",
     "text": [
      "\n",
      " 68%|██████▊   | 135/200 [01:22<00:32,  1.98it/s]\u001b[A"
     ]
    },
    {
     "name": "stdout",
     "output_type": "stream",
     "text": [
      "Current MSE: 0.332212593406\n",
      "Current length scale: [8.52220088 8.35377034]\n"
     ]
    },
    {
     "name": "stderr",
     "output_type": "stream",
     "text": [
      "\n",
      " 68%|██████▊   | 136/200 [01:22<00:32,  1.99it/s]\u001b[A"
     ]
    },
    {
     "name": "stdout",
     "output_type": "stream",
     "text": [
      "Current MSE: 0.313346780499\n",
      "Current length scale: [7.84258608 8.00413601]\n"
     ]
    },
    {
     "name": "stderr",
     "output_type": "stream",
     "text": [
      "\n",
      " 68%|██████▊   | 137/200 [01:23<00:31,  1.99it/s]\u001b[A"
     ]
    },
    {
     "name": "stdout",
     "output_type": "stream",
     "text": [
      "Current MSE: 0.329958508306\n",
      "Current length scale: [7.74771972 7.36039634]\n"
     ]
    },
    {
     "name": "stderr",
     "output_type": "stream",
     "text": [
      "\n",
      " 69%|██████▉   | 138/200 [01:23<00:31,  1.99it/s]\u001b[A"
     ]
    },
    {
     "name": "stdout",
     "output_type": "stream",
     "text": [
      "Current MSE: 0.319252858171\n",
      "Current length scale: [7.73742493 7.86747735]\n"
     ]
    },
    {
     "name": "stderr",
     "output_type": "stream",
     "text": [
      "\n",
      " 70%|██████▉   | 139/200 [01:24<00:30,  2.00it/s]\u001b[A"
     ]
    },
    {
     "name": "stdout",
     "output_type": "stream",
     "text": [
      "Current MSE: 0.326390122114\n",
      "Current length scale: [8.56021244 8.34466348]\n"
     ]
    },
    {
     "name": "stderr",
     "output_type": "stream",
     "text": [
      "\n",
      " 70%|███████   | 140/200 [01:24<00:30,  2.00it/s]\u001b[A"
     ]
    },
    {
     "name": "stdout",
     "output_type": "stream",
     "text": [
      "Current MSE: 0.335007649521\n",
      "Current length scale: [9.04679487 7.81347202]\n"
     ]
    },
    {
     "name": "stderr",
     "output_type": "stream",
     "text": [
      "\n",
      " 70%|███████   | 141/200 [01:25<00:29,  2.00it/s]\u001b[A"
     ]
    },
    {
     "name": "stdout",
     "output_type": "stream",
     "text": [
      "Current MSE: 0.312374304604\n",
      "Current length scale: [9.68688246 7.87531993]\n"
     ]
    },
    {
     "name": "stderr",
     "output_type": "stream",
     "text": [
      "\n",
      " 71%|███████   | 142/200 [01:25<00:29,  1.96it/s]\u001b[A"
     ]
    },
    {
     "name": "stdout",
     "output_type": "stream",
     "text": [
      "Current MSE: 0.307253987906\n",
      "Current length scale: [9.64823108 8.31084841]\n"
     ]
    },
    {
     "name": "stderr",
     "output_type": "stream",
     "text": [
      "\n",
      " 72%|███████▏  | 143/200 [01:26<00:29,  1.96it/s]\u001b[A"
     ]
    },
    {
     "name": "stdout",
     "output_type": "stream",
     "text": [
      "Current MSE: 0.328830847759\n",
      "Current length scale: [8.9643148  8.36805604]\n"
     ]
    },
    {
     "name": "stderr",
     "output_type": "stream",
     "text": [
      "\n",
      " 72%|███████▏  | 144/200 [01:26<00:28,  1.96it/s]\u001b[A"
     ]
    },
    {
     "name": "stdout",
     "output_type": "stream",
     "text": [
      "Current MSE: 0.332093128953\n",
      "Current length scale: [9.2561051  8.25191323]\n"
     ]
    },
    {
     "name": "stderr",
     "output_type": "stream",
     "text": [
      "\n",
      " 72%|███████▎  | 145/200 [01:27<00:28,  1.95it/s]\u001b[A"
     ]
    },
    {
     "name": "stdout",
     "output_type": "stream",
     "text": [
      "Current MSE: 0.315519281293\n",
      "Current length scale: [9.76181508 7.82249882]\n"
     ]
    },
    {
     "name": "stderr",
     "output_type": "stream",
     "text": [
      "\n",
      " 73%|███████▎  | 146/200 [01:27<00:27,  1.95it/s]\u001b[A"
     ]
    },
    {
     "name": "stdout",
     "output_type": "stream",
     "text": [
      "Current MSE: 0.31489923103\n",
      "Current length scale: [9.55497626 7.46504353]\n"
     ]
    },
    {
     "name": "stderr",
     "output_type": "stream",
     "text": [
      "\n",
      " 74%|███████▎  | 147/200 [01:28<00:26,  1.97it/s]\u001b[A"
     ]
    },
    {
     "name": "stdout",
     "output_type": "stream",
     "text": [
      "Current MSE: 0.314553022327\n",
      "Current length scale: [8.99742672 7.83920456]\n"
     ]
    },
    {
     "name": "stderr",
     "output_type": "stream",
     "text": [
      "\n",
      " 74%|███████▍  | 148/200 [01:28<00:26,  1.98it/s]\u001b[A"
     ]
    },
    {
     "name": "stdout",
     "output_type": "stream",
     "text": [
      "Current MSE: 0.312555766234\n",
      "Current length scale: [8.79831079 7.96918045]\n"
     ]
    },
    {
     "name": "stderr",
     "output_type": "stream",
     "text": [
      "\n",
      " 74%|███████▍  | 149/200 [01:29<00:25,  1.98it/s]\u001b[A"
     ]
    },
    {
     "name": "stdout",
     "output_type": "stream",
     "text": [
      "Current MSE: 0.329716425606\n",
      "Current length scale: [8.77767745 9.22580158]\n"
     ]
    },
    {
     "name": "stderr",
     "output_type": "stream",
     "text": [
      "\n",
      " 75%|███████▌  | 150/200 [01:29<00:25,  1.98it/s]\u001b[A"
     ]
    },
    {
     "name": "stdout",
     "output_type": "stream",
     "text": [
      "Current MSE: 0.320706534488\n",
      "Current length scale: [9.0436421  9.09337572]\n"
     ]
    },
    {
     "name": "stderr",
     "output_type": "stream",
     "text": [
      "\n",
      " 76%|███████▌  | 151/200 [01:30<00:24,  1.97it/s]\u001b[A"
     ]
    },
    {
     "name": "stdout",
     "output_type": "stream",
     "text": [
      "Current MSE: 0.312456794885\n",
      "Current length scale: [8.90459703 9.18867837]\n"
     ]
    },
    {
     "name": "stderr",
     "output_type": "stream",
     "text": [
      "\n",
      " 76%|███████▌  | 152/200 [01:30<00:24,  1.98it/s]\u001b[A"
     ]
    },
    {
     "name": "stdout",
     "output_type": "stream",
     "text": [
      "Current MSE: 0.307692371344\n",
      "Current length scale: [9.91231365 9.42041534]\n"
     ]
    },
    {
     "name": "stderr",
     "output_type": "stream",
     "text": [
      "\n",
      " 76%|███████▋  | 153/200 [01:31<00:23,  1.97it/s]\u001b[A"
     ]
    },
    {
     "name": "stdout",
     "output_type": "stream",
     "text": [
      "Current MSE: 0.312103953707\n",
      "Current length scale: [9.51625981 9.61860552]\n"
     ]
    },
    {
     "name": "stderr",
     "output_type": "stream",
     "text": [
      "\n",
      " 77%|███████▋  | 154/200 [01:31<00:23,  1.98it/s]\u001b[A"
     ]
    },
    {
     "name": "stdout",
     "output_type": "stream",
     "text": [
      "Current MSE: 0.320178770192\n",
      "Current length scale: [ 9.55322658 10.14319791]\n"
     ]
    },
    {
     "name": "stderr",
     "output_type": "stream",
     "text": [
      "\n",
      " 78%|███████▊  | 155/200 [01:32<00:22,  1.97it/s]\u001b[A"
     ]
    },
    {
     "name": "stdout",
     "output_type": "stream",
     "text": [
      "Current MSE: 0.333848220039\n",
      "Current length scale: [9.94884965 9.91201982]\n"
     ]
    },
    {
     "name": "stderr",
     "output_type": "stream",
     "text": [
      "\n",
      " 78%|███████▊  | 156/200 [01:32<00:22,  1.97it/s]\u001b[A"
     ]
    },
    {
     "name": "stdout",
     "output_type": "stream",
     "text": [
      "Current MSE: 0.313219528518\n",
      "Current length scale: [10.08819371  9.49035191]\n"
     ]
    },
    {
     "name": "stderr",
     "output_type": "stream",
     "text": [
      "\n",
      " 78%|███████▊  | 157/200 [01:33<00:21,  1.97it/s]\u001b[A"
     ]
    },
    {
     "name": "stdout",
     "output_type": "stream",
     "text": [
      "Current MSE: 0.328778989681\n",
      "Current length scale: [9.66555178 9.94818303]\n"
     ]
    },
    {
     "name": "stderr",
     "output_type": "stream",
     "text": [
      "\n",
      " 79%|███████▉  | 158/200 [01:33<00:21,  1.98it/s]\u001b[A"
     ]
    },
    {
     "name": "stdout",
     "output_type": "stream",
     "text": [
      "Current MSE: 0.308832537067\n",
      "Current length scale: [ 9.07565946 10.40953654]\n"
     ]
    },
    {
     "name": "stderr",
     "output_type": "stream",
     "text": [
      "\n",
      " 80%|███████▉  | 159/200 [01:34<00:20,  1.99it/s]\u001b[A"
     ]
    },
    {
     "name": "stdout",
     "output_type": "stream",
     "text": [
      "Current MSE: 0.316626034285\n",
      "Current length scale: [ 9.69061141 10.06917273]\n"
     ]
    },
    {
     "name": "stderr",
     "output_type": "stream",
     "text": [
      "\n",
      " 80%|████████  | 160/200 [01:34<00:20,  1.99it/s]\u001b[A"
     ]
    },
    {
     "name": "stdout",
     "output_type": "stream",
     "text": [
      "Current MSE: 0.313411900644\n",
      "Current length scale: [11.47747841 10.63154818]\n"
     ]
    },
    {
     "name": "stderr",
     "output_type": "stream",
     "text": [
      "\n",
      " 80%|████████  | 161/200 [01:35<00:19,  1.98it/s]\u001b[A"
     ]
    },
    {
     "name": "stdout",
     "output_type": "stream",
     "text": [
      "Current MSE: 0.324222324805\n",
      "Current length scale: [10.72213687 10.82722824]\n"
     ]
    },
    {
     "name": "stderr",
     "output_type": "stream",
     "text": [
      "\n",
      " 81%|████████  | 162/200 [01:35<00:19,  1.99it/s]\u001b[A"
     ]
    },
    {
     "name": "stdout",
     "output_type": "stream",
     "text": [
      "Current MSE: 0.306273093274\n",
      "Current length scale: [ 9.9410495  10.07152124]\n"
     ]
    },
    {
     "name": "stderr",
     "output_type": "stream",
     "text": [
      "\n",
      " 82%|████████▏ | 163/200 [01:36<00:18,  1.99it/s]\u001b[A"
     ]
    },
    {
     "name": "stdout",
     "output_type": "stream",
     "text": [
      "Current MSE: 0.308064380843\n",
      "Current length scale: [ 9.42444098 10.37539295]\n"
     ]
    },
    {
     "name": "stderr",
     "output_type": "stream",
     "text": [
      "\n",
      " 82%|████████▏ | 164/200 [01:36<00:18,  1.99it/s]\u001b[A"
     ]
    },
    {
     "name": "stdout",
     "output_type": "stream",
     "text": [
      "Current MSE: 0.31369427919\n",
      "Current length scale: [9.04861168 9.81145464]\n"
     ]
    },
    {
     "name": "stderr",
     "output_type": "stream",
     "text": [
      "\n",
      " 82%|████████▎ | 165/200 [01:37<00:17,  1.99it/s]\u001b[A"
     ]
    },
    {
     "name": "stdout",
     "output_type": "stream",
     "text": [
      "Current MSE: 0.317569255213\n",
      "Current length scale: [ 9.11989829 10.64264048]\n"
     ]
    },
    {
     "name": "stderr",
     "output_type": "stream",
     "text": [
      "\n",
      " 83%|████████▎ | 166/200 [01:37<00:17,  1.99it/s]\u001b[A"
     ]
    },
    {
     "name": "stdout",
     "output_type": "stream",
     "text": [
      "Current MSE: 0.322665308872\n",
      "Current length scale: [9.63287781 9.60098144]\n"
     ]
    },
    {
     "name": "stderr",
     "output_type": "stream",
     "text": [
      "\n",
      " 84%|████████▎ | 167/200 [01:38<00:16,  2.00it/s]\u001b[A"
     ]
    },
    {
     "name": "stdout",
     "output_type": "stream",
     "text": [
      "Current MSE: 0.326224784998\n",
      "Current length scale: [9.74316486 9.00800379]\n"
     ]
    },
    {
     "name": "stderr",
     "output_type": "stream",
     "text": [
      "\n",
      " 84%|████████▍ | 168/200 [01:38<00:16,  1.99it/s]\u001b[A"
     ]
    },
    {
     "name": "stdout",
     "output_type": "stream",
     "text": [
      "Current MSE: 0.316419471301\n",
      "Current length scale: [10.57703914  8.80855806]\n"
     ]
    },
    {
     "name": "stderr",
     "output_type": "stream",
     "text": [
      "\n",
      " 84%|████████▍ | 169/200 [01:39<00:15,  1.98it/s]\u001b[A"
     ]
    },
    {
     "name": "stdout",
     "output_type": "stream",
     "text": [
      "Current MSE: 0.323964028762\n",
      "Current length scale: [11.52068801  7.77925632]\n"
     ]
    },
    {
     "name": "stderr",
     "output_type": "stream",
     "text": [
      "\n",
      " 85%|████████▌ | 170/200 [01:39<00:15,  1.98it/s]\u001b[A"
     ]
    },
    {
     "name": "stdout",
     "output_type": "stream",
     "text": [
      "Current MSE: 0.3127826028\n",
      "Current length scale: [11.00658018  8.22470821]\n"
     ]
    },
    {
     "name": "stderr",
     "output_type": "stream",
     "text": [
      "\n",
      " 86%|████████▌ | 171/200 [01:40<00:14,  1.96it/s]\u001b[A"
     ]
    },
    {
     "name": "stdout",
     "output_type": "stream",
     "text": [
      "Current MSE: 0.320110999113\n",
      "Current length scale: [10.19058638  8.11633581]\n"
     ]
    },
    {
     "name": "stderr",
     "output_type": "stream",
     "text": [
      "\n",
      " 86%|████████▌ | 172/200 [01:41<00:16,  1.74it/s]\u001b[A"
     ]
    },
    {
     "name": "stdout",
     "output_type": "stream",
     "text": [
      "Current MSE: 0.331669302578\n",
      "Current length scale: [10.3245696   8.27612438]\n"
     ]
    },
    {
     "name": "stderr",
     "output_type": "stream",
     "text": [
      "\n",
      " 86%|████████▋ | 173/200 [01:42<00:19,  1.37it/s]\u001b[A"
     ]
    },
    {
     "name": "stdout",
     "output_type": "stream",
     "text": [
      "Current MSE: 0.314169430243\n",
      "Current length scale: [10.70836781  7.90865711]\n"
     ]
    },
    {
     "name": "stderr",
     "output_type": "stream",
     "text": [
      "\n",
      " 87%|████████▋ | 174/200 [01:43<00:19,  1.31it/s]\u001b[A"
     ]
    },
    {
     "name": "stdout",
     "output_type": "stream",
     "text": [
      "Current MSE: 0.316185449442\n",
      "Current length scale: [10.41120877  8.05306404]\n"
     ]
    },
    {
     "name": "stderr",
     "output_type": "stream",
     "text": [
      "\n",
      " 88%|████████▊ | 175/200 [01:43<00:17,  1.41it/s]\u001b[A"
     ]
    },
    {
     "name": "stdout",
     "output_type": "stream",
     "text": [
      "Current MSE: 0.317429548754\n",
      "Current length scale: [10.0487378  7.5423197]\n"
     ]
    },
    {
     "name": "stderr",
     "output_type": "stream",
     "text": [
      "\n",
      " 88%|████████▊ | 176/200 [01:44<00:17,  1.41it/s]\u001b[A"
     ]
    },
    {
     "name": "stdout",
     "output_type": "stream",
     "text": [
      "Current MSE: 0.325041541273\n",
      "Current length scale: [9.93104157 8.04899337]\n"
     ]
    },
    {
     "name": "stderr",
     "output_type": "stream",
     "text": [
      "\n",
      " 88%|████████▊ | 177/200 [01:45<00:16,  1.36it/s]\u001b[A"
     ]
    },
    {
     "name": "stdout",
     "output_type": "stream",
     "text": [
      "Current MSE: 0.324012941888\n",
      "Current length scale: [10.08221848  7.97863685]\n"
     ]
    },
    {
     "name": "stderr",
     "output_type": "stream",
     "text": [
      "\n",
      " 89%|████████▉ | 178/200 [01:45<00:15,  1.44it/s]\u001b[A"
     ]
    },
    {
     "name": "stdout",
     "output_type": "stream",
     "text": [
      "Current MSE: 0.311540404199\n",
      "Current length scale: [9.89556139 7.75296959]\n"
     ]
    },
    {
     "name": "stderr",
     "output_type": "stream",
     "text": [
      "\n",
      " 90%|████████▉ | 179/200 [01:46<00:14,  1.40it/s]\u001b[A"
     ]
    },
    {
     "name": "stdout",
     "output_type": "stream",
     "text": [
      "Current MSE: 0.321543373611\n",
      "Current length scale: [9.3869629  7.85202649]\n"
     ]
    },
    {
     "name": "stderr",
     "output_type": "stream",
     "text": [
      "\n",
      " 90%|█████████ | 180/200 [01:47<00:13,  1.44it/s]\u001b[A"
     ]
    },
    {
     "name": "stdout",
     "output_type": "stream",
     "text": [
      "Current MSE: 0.336108650342\n",
      "Current length scale: [9.02806254 8.21584601]\n"
     ]
    },
    {
     "name": "stderr",
     "output_type": "stream",
     "text": [
      "\n",
      " 90%|█████████ | 181/200 [01:47<00:13,  1.40it/s]\u001b[A"
     ]
    },
    {
     "name": "stdout",
     "output_type": "stream",
     "text": [
      "Current MSE: 0.313094553223\n",
      "Current length scale: [9.23365313 8.45690529]\n"
     ]
    },
    {
     "name": "stderr",
     "output_type": "stream",
     "text": [
      "\n",
      " 91%|█████████ | 182/200 [01:48<00:12,  1.46it/s]\u001b[A"
     ]
    },
    {
     "name": "stdout",
     "output_type": "stream",
     "text": [
      "Current MSE: 0.325286567312\n",
      "Current length scale: [9.2195682  8.33568144]\n"
     ]
    },
    {
     "name": "stderr",
     "output_type": "stream",
     "text": [
      "\n",
      " 92%|█████████▏| 183/200 [01:49<00:11,  1.43it/s]\u001b[A"
     ]
    },
    {
     "name": "stdout",
     "output_type": "stream",
     "text": [
      "Current MSE: 0.315082616628\n",
      "Current length scale: [9.91285921 8.85948604]\n"
     ]
    },
    {
     "name": "stderr",
     "output_type": "stream",
     "text": [
      "\n",
      " 92%|█████████▏| 184/200 [01:49<00:11,  1.44it/s]\u001b[A"
     ]
    },
    {
     "name": "stdout",
     "output_type": "stream",
     "text": [
      "Current MSE: 0.321373247197\n",
      "Current length scale: [10.06799844  8.51505367]\n"
     ]
    },
    {
     "name": "stderr",
     "output_type": "stream",
     "text": [
      "\n",
      " 92%|█████████▎| 185/200 [01:50<00:10,  1.49it/s]\u001b[A"
     ]
    },
    {
     "name": "stdout",
     "output_type": "stream",
     "text": [
      "Current MSE: 0.323868709549\n",
      "Current length scale: [10.47694354  8.25173329]\n"
     ]
    },
    {
     "name": "stderr",
     "output_type": "stream",
     "text": [
      "\n",
      " 93%|█████████▎| 186/200 [01:51<00:09,  1.51it/s]\u001b[A"
     ]
    },
    {
     "name": "stdout",
     "output_type": "stream",
     "text": [
      "Current MSE: 0.311316644659\n",
      "Current length scale: [9.96383501 7.42774722]\n"
     ]
    },
    {
     "name": "stderr",
     "output_type": "stream",
     "text": [
      "\n",
      " 94%|█████████▎| 187/200 [01:51<00:08,  1.55it/s]\u001b[A"
     ]
    },
    {
     "name": "stdout",
     "output_type": "stream",
     "text": [
      "Current MSE: 0.336332192466\n",
      "Current length scale: [10.0982165   7.44370409]\n"
     ]
    },
    {
     "name": "stderr",
     "output_type": "stream",
     "text": [
      "\n",
      " 94%|█████████▍| 188/200 [01:52<00:07,  1.55it/s]\u001b[A"
     ]
    },
    {
     "name": "stdout",
     "output_type": "stream",
     "text": [
      "Current MSE: 0.329661579869\n",
      "Current length scale: [9.84123898 7.55941735]\n"
     ]
    },
    {
     "name": "stderr",
     "output_type": "stream",
     "text": [
      "\n",
      " 94%|█████████▍| 189/200 [01:53<00:07,  1.56it/s]\u001b[A"
     ]
    },
    {
     "name": "stdout",
     "output_type": "stream",
     "text": [
      "Current MSE: 0.344427179641\n",
      "Current length scale: [10.37587877  7.85160853]\n"
     ]
    },
    {
     "name": "stderr",
     "output_type": "stream",
     "text": [
      "\n",
      " 95%|█████████▌| 190/200 [01:53<00:06,  1.59it/s]\u001b[A"
     ]
    },
    {
     "name": "stdout",
     "output_type": "stream",
     "text": [
      "Current MSE: 0.32822812518\n",
      "Current length scale: [10.06330363  7.8073137 ]\n"
     ]
    },
    {
     "name": "stderr",
     "output_type": "stream",
     "text": [
      "\n",
      " 96%|█████████▌| 191/200 [01:54<00:05,  1.60it/s]\u001b[A"
     ]
    },
    {
     "name": "stdout",
     "output_type": "stream",
     "text": [
      "Current MSE: 0.337109539765\n",
      "Current length scale: [9.15848664 7.83294037]\n"
     ]
    },
    {
     "name": "stderr",
     "output_type": "stream",
     "text": [
      "\n",
      " 96%|█████████▌| 192/200 [01:54<00:05,  1.58it/s]\u001b[A"
     ]
    },
    {
     "name": "stdout",
     "output_type": "stream",
     "text": [
      "Current MSE: 0.318122404548\n",
      "Current length scale: [9.43378281 7.33670687]\n"
     ]
    },
    {
     "name": "stderr",
     "output_type": "stream",
     "text": [
      "\n",
      " 96%|█████████▋| 193/200 [01:55<00:04,  1.54it/s]\u001b[A"
     ]
    },
    {
     "name": "stdout",
     "output_type": "stream",
     "text": [
      "Current MSE: 0.328725448237\n",
      "Current length scale: [8.98725243 7.69245418]\n"
     ]
    },
    {
     "name": "stderr",
     "output_type": "stream",
     "text": [
      "\n",
      " 97%|█████████▋| 194/200 [01:56<00:03,  1.58it/s]\u001b[A"
     ]
    },
    {
     "name": "stdout",
     "output_type": "stream",
     "text": [
      "Current MSE: 0.31261268199\n",
      "Current length scale: [8.87778853 8.36565919]\n"
     ]
    },
    {
     "name": "stderr",
     "output_type": "stream",
     "text": [
      "\n",
      " 98%|█████████▊| 195/200 [01:56<00:03,  1.58it/s]\u001b[A"
     ]
    },
    {
     "name": "stdout",
     "output_type": "stream",
     "text": [
      "Current MSE: 0.323297627902\n",
      "Current length scale: [8.59123653 8.33577599]\n"
     ]
    },
    {
     "name": "stderr",
     "output_type": "stream",
     "text": [
      "\n",
      " 98%|█████████▊| 196/200 [01:57<00:02,  1.57it/s]\u001b[A"
     ]
    },
    {
     "name": "stdout",
     "output_type": "stream",
     "text": [
      "Current MSE: 0.315160021866\n",
      "Current length scale: [8.47004538 7.87610433]\n"
     ]
    },
    {
     "name": "stderr",
     "output_type": "stream",
     "text": [
      "\n",
      " 98%|█████████▊| 197/200 [01:58<00:01,  1.60it/s]\u001b[A"
     ]
    },
    {
     "name": "stdout",
     "output_type": "stream",
     "text": [
      "Current MSE: 0.319786848522\n",
      "Current length scale: [9.15157797 7.75311628]\n"
     ]
    },
    {
     "name": "stderr",
     "output_type": "stream",
     "text": [
      "\n",
      " 99%|█████████▉| 198/200 [01:58<00:01,  1.60it/s]\u001b[A"
     ]
    },
    {
     "name": "stdout",
     "output_type": "stream",
     "text": [
      "Current MSE: 0.322373946879\n",
      "Current length scale: [9.54344621 7.79630158]\n"
     ]
    },
    {
     "name": "stderr",
     "output_type": "stream",
     "text": [
      "\n",
      "100%|█████████▉| 199/200 [01:59<00:00,  1.59it/s]\u001b[A"
     ]
    },
    {
     "name": "stdout",
     "output_type": "stream",
     "text": [
      "Current MSE: 0.320070305339\n",
      "Current length scale: [9.0713112  7.77186931]\n"
     ]
    },
    {
     "name": "stderr",
     "output_type": "stream",
     "text": [
      "\n",
      "100%|██████████| 200/200 [02:00<00:00,  1.56it/s]\u001b[A"
     ]
    },
    {
     "name": "stdout",
     "output_type": "stream",
     "text": [
      "Current MSE: 0.318744996678\n",
      "Current length scale: [9.26162575 7.407593  ]\n"
     ]
    }
   ],
   "source": [
    "results_f2 = run_gibbs(Y, model_f2, 200, 10, 0.5, verbose=True)"
   ]
  },
  {
   "cell_type": "code",
   "execution_count": 56,
   "metadata": {
    "collapsed": true
   },
   "outputs": [],
   "source": [
    "F_sample_f2, loading_sample_f2, variance_sample, theta_sample, traces_hist, mse_history = results_f2"
   ]
  },
  {
   "cell_type": "code",
   "execution_count": 57,
   "metadata": {
    "collapsed": false
   },
   "outputs": [
    {
     "data": {
      "image/png": "[encoded data removed]",
      "text/plain": [
       "<matplotlib.figure.Figure at 0x1189be610>"
      ]
     },
     "metadata": {},
     "output_type": "display_data"
    }
   ],
   "source": [
    "fig = plt.figure(figsize=(4, 3), dpi=150)\n",
    "for i in range(100, 200):\n",
    "    for j in range(2):\n",
    "        plt.plot(x, F_sample_f2[i, :, j], alpha=0.1)\n",
    "plt.title('Latent Posterior')\n",
    "plt.xlabel('Time')\n",
    "plt.show()"
   ]
  },
  {
   "cell_type": "code",
   "execution_count": 58,
   "metadata": {
    "collapsed": true
   },
   "outputs": [],
   "source": [
    "F_post = np.median(F_sample_f2[100:, :, :], axis=0)\n",
    "B_post = np.median(loading_sample_f2[100:, :, :], axis=0)"
   ]
  },
  {
   "cell_type": "code",
   "execution_count": 59,
   "metadata": {
    "collapsed": true
   },
   "outputs": [],
   "source": [
    "residuals = Y - np.matmul(F_post, B_post)"
   ]
  },
  {
   "cell_type": "code",
   "execution_count": 60,
   "metadata": {
    "collapsed": false
   },
   "outputs": [
    {
     "name": "stdout",
     "output_type": "stream",
     "text": [
      "0.29951885362651515\n"
     ]
    }
   ],
   "source": [
    "print(np.mean(residuals ** 2))"
   ]
  },
  {
   "cell_type": "code",
   "execution_count": 61,
   "metadata": {
    "collapsed": true
   },
   "outputs": [],
   "source": [
    "dims = [1, t, 10, 2]  # n, t, q, r\n",
    "model_f3 = FactorGP(dims, mu_var=[0, 0.01])"
   ]
  },
  {
   "cell_type": "code",
   "execution_count": 62,
   "metadata": {
    "collapsed": false,
    "scrolled": true
   },
   "outputs": [
    {
     "name": "stderr",
     "output_type": "stream",
     "text": [
      "\n",
      "  0%|          | 0/200 [00:00<?, ?it/s]\u001b[A\n",
      "  0%|          | 1/200 [00:00<01:47,  1.85it/s]\u001b[A"
     ]
    },
    {
     "name": "stdout",
     "output_type": "stream",
     "text": [
      "Current MSE: 0.256211829616\n",
      "Current length scale: [10.3699646   9.16943368]\n"
     ]
    },
    {
     "name": "stderr",
     "output_type": "stream",
     "text": [
      "\n",
      "  1%|          | 2/200 [00:01<01:44,  1.90it/s]\u001b[A"
     ]
    },
    {
     "name": "stdout",
     "output_type": "stream",
     "text": [
      "Current MSE: 0.268181280428\n",
      "Current length scale: [10.19915627  9.30274206]\n"
     ]
    },
    {
     "name": "stderr",
     "output_type": "stream",
     "text": [
      "\n",
      "  2%|▏         | 3/200 [00:01<01:54,  1.71it/s]\u001b[A"
     ]
    },
    {
     "name": "stdout",
     "output_type": "stream",
     "text": [
      "Current MSE: 0.25893622012\n",
      "Current length scale: [9.56829763 9.18865795]\n"
     ]
    },
    {
     "name": "stderr",
     "output_type": "stream",
     "text": [
      "\n",
      "  2%|▏         | 4/200 [00:02<01:51,  1.75it/s]\u001b[A"
     ]
    },
    {
     "name": "stdout",
     "output_type": "stream",
     "text": [
      "Current MSE: 0.249841036905\n",
      "Current length scale: [9.99606693 9.63524034]\n"
     ]
    },
    {
     "name": "stderr",
     "output_type": "stream",
     "text": [
      "\n",
      "  2%|▎         | 5/200 [00:02<01:48,  1.79it/s]\u001b[A"
     ]
    },
    {
     "name": "stdout",
     "output_type": "stream",
     "text": [
      "Current MSE: 0.25136066592\n",
      "Current length scale: [9.85257868 9.61629687]\n"
     ]
    },
    {
     "name": "stderr",
     "output_type": "stream",
     "text": [
      "\n",
      "  3%|▎         | 6/200 [00:03<01:51,  1.75it/s]\u001b[A"
     ]
    },
    {
     "name": "stdout",
     "output_type": "stream",
     "text": [
      "Current MSE: 0.25743804804\n",
      "Current length scale: [ 9.7026521  10.19399363]\n"
     ]
    },
    {
     "name": "stderr",
     "output_type": "stream",
     "text": [
      "\n",
      "  4%|▎         | 7/200 [00:04<01:55,  1.66it/s]\u001b[A"
     ]
    },
    {
     "name": "stdout",
     "output_type": "stream",
     "text": [
      "Current MSE: 0.249455637106\n",
      "Current length scale: [9.66059895 9.69507228]\n"
     ]
    },
    {
     "name": "stderr",
     "output_type": "stream",
     "text": [
      "\n",
      "  4%|▍         | 8/200 [00:04<01:58,  1.62it/s]\u001b[A"
     ]
    },
    {
     "name": "stdout",
     "output_type": "stream",
     "text": [
      "Current MSE: 0.254476295047\n",
      "Current length scale: [10.14402221  9.01181889]\n"
     ]
    },
    {
     "name": "stderr",
     "output_type": "stream",
     "text": [
      "\n",
      "  4%|▍         | 9/200 [00:05<01:54,  1.67it/s]\u001b[A"
     ]
    },
    {
     "name": "stdout",
     "output_type": "stream",
     "text": [
      "Current MSE: 0.252511598023\n",
      "Current length scale: [9.9300196  8.80458825]\n"
     ]
    },
    {
     "name": "stderr",
     "output_type": "stream",
     "text": [
      "\n",
      "  5%|▌         | 10/200 [00:05<01:53,  1.67it/s]\u001b[A"
     ]
    },
    {
     "name": "stdout",
     "output_type": "stream",
     "text": [
      "Current MSE: 0.252091856617\n",
      "Current length scale: [10.89086386  8.96888536]\n"
     ]
    },
    {
     "name": "stderr",
     "output_type": "stream",
     "text": [
      "\n",
      "  6%|▌         | 11/200 [00:06<01:49,  1.73it/s]\u001b[A"
     ]
    },
    {
     "name": "stdout",
     "output_type": "stream",
     "text": [
      "Current MSE: 0.249681408648\n",
      "Current length scale: [11.06094531  9.04081456]\n"
     ]
    },
    {
     "name": "stderr",
     "output_type": "stream",
     "text": [
      "\n",
      "  6%|▌         | 12/200 [00:06<01:46,  1.77it/s]\u001b[A"
     ]
    },
    {
     "name": "stdout",
     "output_type": "stream",
     "text": [
      "Current MSE: 0.250952723418\n",
      "Current length scale: [ 9.48115182 10.07385853]\n"
     ]
    },
    {
     "name": "stderr",
     "output_type": "stream",
     "text": [
      "\n",
      "  6%|▋         | 13/200 [00:07<01:50,  1.70it/s]\u001b[A"
     ]
    },
    {
     "name": "stdout",
     "output_type": "stream",
     "text": [
      "Current MSE: 0.255472498613\n",
      "Current length scale: [ 9.95253267 10.07080274]\n"
     ]
    },
    {
     "name": "stderr",
     "output_type": "stream",
     "text": [
      "\n",
      "  7%|▋         | 14/200 [00:08<01:47,  1.73it/s]\u001b[A"
     ]
    },
    {
     "name": "stdout",
     "output_type": "stream",
     "text": [
      "Current MSE: 0.258329400042\n",
      "Current length scale: [10.8175313  9.606206 ]\n"
     ]
    },
    {
     "name": "stderr",
     "output_type": "stream",
     "text": [
      "\n",
      "  8%|▊         | 15/200 [00:08<01:45,  1.76it/s]\u001b[A"
     ]
    },
    {
     "name": "stdout",
     "output_type": "stream",
     "text": [
      "Current MSE: 0.253513630866\n",
      "Current length scale: [11.83313271  9.48608276]\n"
     ]
    },
    {
     "name": "stderr",
     "output_type": "stream",
     "text": [
      "\n",
      "  8%|▊         | 16/200 [00:09<01:41,  1.82it/s]\u001b[A"
     ]
    },
    {
     "name": "stdout",
     "output_type": "stream",
     "text": [
      "Current MSE: 0.257509665688\n",
      "Current length scale: [12.98007946 10.26666595]\n"
     ]
    },
    {
     "name": "stderr",
     "output_type": "stream",
     "text": [
      "\n",
      "  8%|▊         | 17/200 [00:09<01:46,  1.72it/s]\u001b[A"
     ]
    },
    {
     "name": "stdout",
     "output_type": "stream",
     "text": [
      "Current MSE: 0.265506473653\n",
      "Current length scale: [14.31503655 10.81390752]\n"
     ]
    },
    {
     "name": "stderr",
     "output_type": "stream",
     "text": [
      "\n",
      "  9%|▉         | 18/200 [00:10<01:42,  1.78it/s]\u001b[A"
     ]
    },
    {
     "name": "stdout",
     "output_type": "stream",
     "text": [
      "Current MSE: 0.251428318294\n",
      "Current length scale: [15.52417569 10.57643193]\n"
     ]
    },
    {
     "name": "stderr",
     "output_type": "stream",
     "text": [
      "\n",
      " 10%|▉         | 19/200 [00:10<01:39,  1.82it/s]\u001b[A"
     ]
    },
    {
     "name": "stdout",
     "output_type": "stream",
     "text": [
      "Current MSE: 0.265531997749\n",
      "Current length scale: [15.08646528 11.62484614]\n"
     ]
    },
    {
     "name": "stderr",
     "output_type": "stream",
     "text": [
      "\n",
      " 10%|█         | 20/200 [00:11<01:38,  1.82it/s]\u001b[A"
     ]
    },
    {
     "name": "stdout",
     "output_type": "stream",
     "text": [
      "Current MSE: 0.266568319721\n",
      "Current length scale: [14.8519894  11.90091273]\n"
     ]
    },
    {
     "name": "stderr",
     "output_type": "stream",
     "text": [
      "\n",
      " 10%|█         | 21/200 [00:11<01:37,  1.84it/s]\u001b[A"
     ]
    },
    {
     "name": "stdout",
     "output_type": "stream",
     "text": [
      "Current MSE: 0.253599666412\n",
      "Current length scale: [15.75796422 10.70904551]\n"
     ]
    },
    {
     "name": "stderr",
     "output_type": "stream",
     "text": [
      "\n",
      " 11%|█         | 22/200 [00:12<01:35,  1.86it/s]\u001b[A"
     ]
    },
    {
     "name": "stdout",
     "output_type": "stream",
     "text": [
      "Current MSE: 0.26101653405\n",
      "Current length scale: [18.79167365 10.78077828]\n"
     ]
    },
    {
     "name": "stderr",
     "output_type": "stream",
     "text": [
      "\n",
      " 12%|█▏        | 23/200 [00:13<01:34,  1.87it/s]\u001b[A"
     ]
    },
    {
     "name": "stdout",
     "output_type": "stream",
     "text": [
      "Current MSE: 0.249788353247\n",
      "Current length scale: [17.7698521  10.30013604]\n"
     ]
    },
    {
     "name": "stderr",
     "output_type": "stream",
     "text": [
      "\n",
      " 12%|█▏        | 24/200 [00:13<01:34,  1.87it/s]\u001b[A"
     ]
    },
    {
     "name": "stdout",
     "output_type": "stream",
     "text": [
      "Current MSE: 0.257887808867\n",
      "Current length scale: [18.78215713  9.69126235]\n"
     ]
    },
    {
     "name": "stderr",
     "output_type": "stream",
     "text": [
      "\n",
      " 12%|█▎        | 25/200 [00:14<01:33,  1.88it/s]\u001b[A"
     ]
    },
    {
     "name": "stdout",
     "output_type": "stream",
     "text": [
      "Current MSE: 0.251253209994\n",
      "Current length scale: [18.80445873  9.87485259]\n"
     ]
    },
    {
     "name": "stderr",
     "output_type": "stream",
     "text": [
      "\n",
      " 13%|█▎        | 26/200 [00:14<01:33,  1.87it/s]\u001b[A"
     ]
    },
    {
     "name": "stdout",
     "output_type": "stream",
     "text": [
      "Current MSE: 0.256543752353\n",
      "Current length scale: [18.48888389 10.12599372]\n"
     ]
    },
    {
     "name": "stderr",
     "output_type": "stream",
     "text": [
      "\n",
      " 14%|█▎        | 27/200 [00:15<01:36,  1.80it/s]\u001b[A"
     ]
    },
    {
     "name": "stdout",
     "output_type": "stream",
     "text": [
      "Current MSE: 0.251771875286\n",
      "Current length scale: [18.39918824 10.42306637]\n"
     ]
    },
    {
     "name": "stderr",
     "output_type": "stream",
     "text": [
      "\n",
      " 14%|█▍        | 28/200 [00:15<01:35,  1.80it/s]\u001b[A"
     ]
    },
    {
     "name": "stdout",
     "output_type": "stream",
     "text": [
      "Current MSE: 0.263131026973\n",
      "Current length scale: [18.35493012  9.89380714]\n"
     ]
    },
    {
     "name": "stderr",
     "output_type": "stream",
     "text": [
      "\n",
      " 14%|█▍        | 29/200 [00:16<01:36,  1.77it/s]\u001b[A"
     ]
    },
    {
     "name": "stdout",
     "output_type": "stream",
     "text": [
      "Current MSE: 0.255240852276\n",
      "Current length scale: [18.73694429  9.21357263]\n"
     ]
    },
    {
     "name": "stderr",
     "output_type": "stream",
     "text": [
      "\n",
      " 15%|█▌        | 30/200 [00:16<01:37,  1.74it/s]\u001b[A"
     ]
    },
    {
     "name": "stdout",
     "output_type": "stream",
     "text": [
      "Current MSE: 0.251892883635\n",
      "Current length scale: [18.8072246  11.25530051]\n"
     ]
    },
    {
     "name": "stderr",
     "output_type": "stream",
     "text": [
      "\n",
      " 16%|█▌        | 31/200 [00:17<01:40,  1.68it/s]\u001b[A"
     ]
    },
    {
     "name": "stdout",
     "output_type": "stream",
     "text": [
      "Current MSE: 0.253268682052\n",
      "Current length scale: [17.28173017 13.11665882]\n"
     ]
    },
    {
     "name": "stderr",
     "output_type": "stream",
     "text": [
      "\n",
      " 16%|█▌        | 32/200 [00:18<01:59,  1.41it/s]\u001b[A"
     ]
    },
    {
     "name": "stdout",
     "output_type": "stream",
     "text": [
      "Current MSE: 0.253555655011\n",
      "Current length scale: [18.49622934 13.80209795]\n"
     ]
    },
    {
     "name": "stderr",
     "output_type": "stream",
     "text": [
      "\n",
      " 16%|█▋        | 33/200 [00:19<02:15,  1.24it/s]\u001b[A"
     ]
    },
    {
     "name": "stdout",
     "output_type": "stream",
     "text": [
      "Current MSE: 0.252486445762\n",
      "Current length scale: [17.43515609 14.96542884]\n"
     ]
    },
    {
     "name": "stderr",
     "output_type": "stream",
     "text": [
      "\n",
      " 17%|█▋        | 34/200 [00:20<02:11,  1.27it/s]\u001b[A"
     ]
    },
    {
     "name": "stdout",
     "output_type": "stream",
     "text": [
      "Current MSE: 0.254957163222\n",
      "Current length scale: [16.92739507 16.34251854]\n"
     ]
    },
    {
     "name": "stderr",
     "output_type": "stream",
     "text": [
      "\n",
      " 18%|█▊        | 35/200 [00:21<02:23,  1.15it/s]\u001b[A"
     ]
    },
    {
     "name": "stdout",
     "output_type": "stream",
     "text": [
      "Current MSE: 0.251414969546\n",
      "Current length scale: [18.16827465 16.0391033 ]\n"
     ]
    },
    {
     "name": "stderr",
     "output_type": "stream",
     "text": [
      "\n",
      " 18%|█▊        | 36/200 [00:22<02:16,  1.21it/s]\u001b[A"
     ]
    },
    {
     "name": "stdout",
     "output_type": "stream",
     "text": [
      "Current MSE: 0.256246176954\n",
      "Current length scale: [19.76272015 17.83499079]\n"
     ]
    },
    {
     "name": "stderr",
     "output_type": "stream",
     "text": [
      "\n",
      " 18%|█▊        | 37/200 [00:22<02:05,  1.30it/s]\u001b[A"
     ]
    },
    {
     "name": "stdout",
     "output_type": "stream",
     "text": [
      "Current MSE: 0.253896804067\n",
      "Current length scale: [17.5431568  18.39934508]\n"
     ]
    },
    {
     "name": "stderr",
     "output_type": "stream",
     "text": [
      "\n",
      " 19%|█▉        | 38/200 [00:23<01:57,  1.38it/s]\u001b[A"
     ]
    },
    {
     "name": "stdout",
     "output_type": "stream",
     "text": [
      "Current MSE: 0.254738556349\n",
      "Current length scale: [17.75109167 17.23548981]\n"
     ]
    },
    {
     "name": "stderr",
     "output_type": "stream",
     "text": [
      "\n",
      " 20%|█▉        | 39/200 [00:24<01:51,  1.44it/s]\u001b[A"
     ]
    },
    {
     "name": "stdout",
     "output_type": "stream",
     "text": [
      "Current MSE: 0.255042101505\n",
      "Current length scale: [18.4981719  16.56956784]\n"
     ]
    },
    {
     "name": "stderr",
     "output_type": "stream",
     "text": [
      "\n",
      " 20%|██        | 40/200 [00:24<01:47,  1.48it/s]\u001b[A"
     ]
    },
    {
     "name": "stdout",
     "output_type": "stream",
     "text": [
      "Current MSE: 0.254066375408\n",
      "Current length scale: [19.30198676 16.70449263]\n"
     ]
    },
    {
     "name": "stderr",
     "output_type": "stream",
     "text": [
      "\n",
      " 20%|██        | 41/200 [00:25<01:48,  1.46it/s]\u001b[A"
     ]
    },
    {
     "name": "stdout",
     "output_type": "stream",
     "text": [
      "Current MSE: 0.256279575551\n",
      "Current length scale: [18.16767818 15.38646684]\n"
     ]
    },
    {
     "name": "stderr",
     "output_type": "stream",
     "text": [
      "\n",
      " 21%|██        | 42/200 [00:26<01:51,  1.41it/s]\u001b[A"
     ]
    },
    {
     "name": "stdout",
     "output_type": "stream",
     "text": [
      "Current MSE: 0.25590059349\n",
      "Current length scale: [19.77026473 17.34607328]\n"
     ]
    },
    {
     "name": "stderr",
     "output_type": "stream",
     "text": [
      "\n",
      " 22%|██▏       | 43/200 [00:26<01:45,  1.48it/s]\u001b[A"
     ]
    },
    {
     "name": "stdout",
     "output_type": "stream",
     "text": [
      "Current MSE: 0.259182838978\n",
      "Current length scale: [20.11809375 15.21145946]\n"
     ]
    },
    {
     "name": "stderr",
     "output_type": "stream",
     "text": [
      "\n",
      " 22%|██▏       | 44/200 [00:27<01:44,  1.49it/s]\u001b[A"
     ]
    },
    {
     "name": "stdout",
     "output_type": "stream",
     "text": [
      "Current MSE: 0.256438492752\n",
      "Current length scale: [21.98161769 17.04485974]\n"
     ]
    },
    {
     "name": "stderr",
     "output_type": "stream",
     "text": [
      "\n",
      " 22%|██▎       | 45/200 [00:28<01:42,  1.51it/s]\u001b[A"
     ]
    },
    {
     "name": "stdout",
     "output_type": "stream",
     "text": [
      "Current MSE: 0.254950567784\n",
      "Current length scale: [19.02271182 18.62393393]\n"
     ]
    },
    {
     "name": "stderr",
     "output_type": "stream",
     "text": [
      "\n",
      " 23%|██▎       | 46/200 [00:28<01:39,  1.54it/s]\u001b[A"
     ]
    },
    {
     "name": "stdout",
     "output_type": "stream",
     "text": [
      "Current MSE: 0.25388756897\n",
      "Current length scale: [18.74554888 19.48832542]\n"
     ]
    },
    {
     "name": "stderr",
     "output_type": "stream",
     "text": [
      "\n",
      " 24%|██▎       | 47/200 [00:29<01:38,  1.55it/s]\u001b[A"
     ]
    },
    {
     "name": "stdout",
     "output_type": "stream",
     "text": [
      "Current MSE: 0.260861986437\n",
      "Current length scale: [17.96903103 18.4467478 ]\n"
     ]
    },
    {
     "name": "stderr",
     "output_type": "stream",
     "text": [
      "\n",
      " 24%|██▍       | 48/200 [00:29<01:35,  1.59it/s]\u001b[A"
     ]
    },
    {
     "name": "stdout",
     "output_type": "stream",
     "text": [
      "Current MSE: 0.263359883355\n",
      "Current length scale: [19.6787162  18.83725603]\n"
     ]
    },
    {
     "name": "stderr",
     "output_type": "stream",
     "text": [
      "\n",
      " 24%|██▍       | 49/200 [00:30<01:33,  1.61it/s]\u001b[A"
     ]
    },
    {
     "name": "stdout",
     "output_type": "stream",
     "text": [
      "Current MSE: 0.256543089921\n",
      "Current length scale: [18.91887046 17.22455733]\n"
     ]
    },
    {
     "name": "stderr",
     "output_type": "stream",
     "text": [
      "\n",
      " 25%|██▌       | 50/200 [00:31<01:32,  1.61it/s]\u001b[A"
     ]
    },
    {
     "name": "stdout",
     "output_type": "stream",
     "text": [
      "Current MSE: 0.256394206405\n",
      "Current length scale: [18.84707995 18.19142913]\n"
     ]
    },
    {
     "name": "stderr",
     "output_type": "stream",
     "text": [
      "\n",
      " 26%|██▌       | 51/200 [00:31<01:30,  1.64it/s]\u001b[A"
     ]
    },
    {
     "name": "stdout",
     "output_type": "stream",
     "text": [
      "Current MSE: 0.250573863527\n",
      "Current length scale: [20.9068489  17.66669102]\n"
     ]
    },
    {
     "name": "stderr",
     "output_type": "stream",
     "text": [
      "\n",
      " 26%|██▌       | 52/200 [00:32<01:32,  1.59it/s]\u001b[A"
     ]
    },
    {
     "name": "stdout",
     "output_type": "stream",
     "text": [
      "Current MSE: 0.250299777552\n",
      "Current length scale: [19.57520766 17.92433032]\n"
     ]
    },
    {
     "name": "stderr",
     "output_type": "stream",
     "text": [
      "\n",
      " 26%|██▋       | 53/200 [00:32<01:30,  1.63it/s]\u001b[A"
     ]
    },
    {
     "name": "stdout",
     "output_type": "stream",
     "text": [
      "Current MSE: 0.254006351716\n",
      "Current length scale: [18.85011667 16.91115166]\n"
     ]
    },
    {
     "name": "stderr",
     "output_type": "stream",
     "text": [
      "\n",
      " 27%|██▋       | 54/200 [00:33<01:29,  1.62it/s]\u001b[A"
     ]
    },
    {
     "name": "stdout",
     "output_type": "stream",
     "text": [
      "Current MSE: 0.247766933217\n",
      "Current length scale: [18.95859338 15.85851276]\n"
     ]
    },
    {
     "name": "stderr",
     "output_type": "stream",
     "text": [
      "\n",
      " 28%|██▊       | 55/200 [00:34<01:28,  1.64it/s]\u001b[A"
     ]
    },
    {
     "name": "stdout",
     "output_type": "stream",
     "text": [
      "Current MSE: 0.255965976182\n",
      "Current length scale: [19.25852115 17.2144922 ]\n"
     ]
    },
    {
     "name": "stderr",
     "output_type": "stream",
     "text": [
      "\n",
      " 28%|██▊       | 56/200 [00:34<01:27,  1.64it/s]\u001b[A"
     ]
    },
    {
     "name": "stdout",
     "output_type": "stream",
     "text": [
      "Current MSE: 0.250443209161\n",
      "Current length scale: [19.17944558 18.51000967]\n"
     ]
    },
    {
     "name": "stderr",
     "output_type": "stream",
     "text": [
      "\n",
      " 28%|██▊       | 57/200 [00:35<01:26,  1.66it/s]\u001b[A"
     ]
    },
    {
     "name": "stdout",
     "output_type": "stream",
     "text": [
      "Current MSE: 0.252644283006\n",
      "Current length scale: [19.57478661 17.72251808]\n"
     ]
    },
    {
     "name": "stderr",
     "output_type": "stream",
     "text": [
      "\n",
      " 29%|██▉       | 58/200 [00:35<01:26,  1.64it/s]\u001b[A"
     ]
    },
    {
     "name": "stdout",
     "output_type": "stream",
     "text": [
      "Current MSE: 0.251350188757\n",
      "Current length scale: [19.48780703 17.58668525]\n"
     ]
    },
    {
     "name": "stderr",
     "output_type": "stream",
     "text": [
      "\n",
      " 30%|██▉       | 59/200 [00:36<01:25,  1.65it/s]\u001b[A"
     ]
    },
    {
     "name": "stdout",
     "output_type": "stream",
     "text": [
      "Current MSE: 0.25556828445\n",
      "Current length scale: [18.08624701 16.57540601]\n"
     ]
    },
    {
     "name": "stderr",
     "output_type": "stream",
     "text": [
      "\n",
      " 30%|███       | 60/200 [00:37<01:25,  1.63it/s]\u001b[A"
     ]
    },
    {
     "name": "stdout",
     "output_type": "stream",
     "text": [
      "Current MSE: 0.251804754338\n",
      "Current length scale: [15.89535454 16.39408199]\n"
     ]
    },
    {
     "name": "stderr",
     "output_type": "stream",
     "text": [
      "\n",
      " 30%|███       | 61/200 [00:37<01:25,  1.62it/s]\u001b[A"
     ]
    },
    {
     "name": "stdout",
     "output_type": "stream",
     "text": [
      "Current MSE: 0.252189715151\n",
      "Current length scale: [17.4135289  17.83657991]\n"
     ]
    },
    {
     "name": "stderr",
     "output_type": "stream",
     "text": [
      "\n",
      " 31%|███       | 62/200 [00:38<01:24,  1.64it/s]\u001b[A"
     ]
    },
    {
     "name": "stdout",
     "output_type": "stream",
     "text": [
      "Current MSE: 0.258993082311\n",
      "Current length scale: [16.44388183 16.92125309]\n"
     ]
    },
    {
     "name": "stderr",
     "output_type": "stream",
     "text": [
      "\n",
      " 32%|███▏      | 63/200 [00:39<01:24,  1.62it/s]\u001b[A"
     ]
    },
    {
     "name": "stdout",
     "output_type": "stream",
     "text": [
      "Current MSE: 0.261344977409\n",
      "Current length scale: [14.37925364 15.87328846]\n"
     ]
    },
    {
     "name": "stderr",
     "output_type": "stream",
     "text": [
      "\n",
      " 32%|███▏      | 64/200 [00:39<01:23,  1.63it/s]\u001b[A"
     ]
    },
    {
     "name": "stdout",
     "output_type": "stream",
     "text": [
      "Current MSE: 0.252478319215\n",
      "Current length scale: [14.86863525 16.23486652]\n"
     ]
    },
    {
     "name": "stderr",
     "output_type": "stream",
     "text": [
      "\n",
      " 32%|███▎      | 65/200 [00:40<01:23,  1.61it/s]\u001b[A"
     ]
    },
    {
     "name": "stdout",
     "output_type": "stream",
     "text": [
      "Current MSE: 0.253116322947\n",
      "Current length scale: [16.49159178 16.4060873 ]\n"
     ]
    },
    {
     "name": "stderr",
     "output_type": "stream",
     "text": [
      "\n",
      " 33%|███▎      | 66/200 [00:40<01:22,  1.63it/s]\u001b[A"
     ]
    },
    {
     "name": "stdout",
     "output_type": "stream",
     "text": [
      "Current MSE: 0.251612544795\n",
      "Current length scale: [15.73198227 14.58150175]\n"
     ]
    },
    {
     "name": "stderr",
     "output_type": "stream",
     "text": [
      "\n",
      " 34%|███▎      | 67/200 [00:41<01:20,  1.64it/s]\u001b[A"
     ]
    },
    {
     "name": "stdout",
     "output_type": "stream",
     "text": [
      "Current MSE: 0.259321008668\n",
      "Current length scale: [15.71203196 14.12698831]\n"
     ]
    },
    {
     "name": "stderr",
     "output_type": "stream",
     "text": [
      "\n",
      " 34%|███▍      | 68/200 [00:42<01:21,  1.61it/s]\u001b[A"
     ]
    },
    {
     "name": "stdout",
     "output_type": "stream",
     "text": [
      "Current MSE: 0.253270730432\n",
      "Current length scale: [15.67027148 12.58902599]\n"
     ]
    },
    {
     "name": "stderr",
     "output_type": "stream",
     "text": [
      "\n",
      " 34%|███▍      | 69/200 [00:42<01:20,  1.64it/s]\u001b[A"
     ]
    },
    {
     "name": "stdout",
     "output_type": "stream",
     "text": [
      "Current MSE: 0.25591907384\n",
      "Current length scale: [18.25226913 14.15668492]\n"
     ]
    },
    {
     "name": "stderr",
     "output_type": "stream",
     "text": [
      "\n",
      " 35%|███▌      | 70/200 [00:43<01:19,  1.64it/s]\u001b[A"
     ]
    },
    {
     "name": "stdout",
     "output_type": "stream",
     "text": [
      "Current MSE: 0.252956706453\n",
      "Current length scale: [19.24540344 13.93914415]\n"
     ]
    },
    {
     "name": "stderr",
     "output_type": "stream",
     "text": [
      "\n",
      " 36%|███▌      | 71/200 [00:43<01:17,  1.65it/s]\u001b[A"
     ]
    },
    {
     "name": "stdout",
     "output_type": "stream",
     "text": [
      "Current MSE: 0.253609480203\n",
      "Current length scale: [19.55525528 13.53094667]\n"
     ]
    },
    {
     "name": "stderr",
     "output_type": "stream",
     "text": [
      "\n",
      " 36%|███▌      | 72/200 [00:44<01:17,  1.65it/s]\u001b[A"
     ]
    },
    {
     "name": "stdout",
     "output_type": "stream",
     "text": [
      "Current MSE: 0.252459064188\n",
      "Current length scale: [18.6308312 14.0203517]\n"
     ]
    },
    {
     "name": "stderr",
     "output_type": "stream",
     "text": [
      "\n",
      " 36%|███▋      | 73/200 [00:45<01:17,  1.64it/s]\u001b[A"
     ]
    },
    {
     "name": "stdout",
     "output_type": "stream",
     "text": [
      "Current MSE: 0.258732399958\n",
      "Current length scale: [20.05307401 13.15032855]\n"
     ]
    },
    {
     "name": "stderr",
     "output_type": "stream",
     "text": [
      "\n",
      " 37%|███▋      | 74/200 [00:45<01:16,  1.65it/s]\u001b[A"
     ]
    },
    {
     "name": "stdout",
     "output_type": "stream",
     "text": [
      "Current MSE: 0.248793056233\n",
      "Current length scale: [21.58492371 14.2253072 ]\n"
     ]
    },
    {
     "name": "stderr",
     "output_type": "stream",
     "text": [
      "\n",
      " 38%|███▊      | 75/200 [00:46<01:16,  1.64it/s]\u001b[A"
     ]
    },
    {
     "name": "stdout",
     "output_type": "stream",
     "text": [
      "Current MSE: 0.252274519428\n",
      "Current length scale: [23.06530638 14.56009466]\n"
     ]
    },
    {
     "name": "stderr",
     "output_type": "stream",
     "text": [
      "\n",
      " 38%|███▊      | 76/200 [00:47<01:16,  1.62it/s]\u001b[A"
     ]
    },
    {
     "name": "stdout",
     "output_type": "stream",
     "text": [
      "Current MSE: 0.257245341645\n",
      "Current length scale: [23.16087508 16.42489655]\n"
     ]
    },
    {
     "name": "stderr",
     "output_type": "stream",
     "text": [
      "\n",
      " 38%|███▊      | 77/200 [00:47<01:15,  1.63it/s]\u001b[A"
     ]
    },
    {
     "name": "stdout",
     "output_type": "stream",
     "text": [
      "Current MSE: 0.250687710973\n",
      "Current length scale: [20.93225494 18.96050475]\n"
     ]
    },
    {
     "name": "stderr",
     "output_type": "stream",
     "text": [
      "\n",
      " 39%|███▉      | 78/200 [00:48<01:15,  1.62it/s]\u001b[A"
     ]
    },
    {
     "name": "stdout",
     "output_type": "stream",
     "text": [
      "Current MSE: 0.255998192582\n",
      "Current length scale: [22.26867907 17.83025845]\n"
     ]
    },
    {
     "name": "stderr",
     "output_type": "stream",
     "text": [
      "\n",
      " 40%|███▉      | 79/200 [00:48<01:14,  1.62it/s]\u001b[A"
     ]
    },
    {
     "name": "stdout",
     "output_type": "stream",
     "text": [
      "Current MSE: 0.253395864431\n",
      "Current length scale: [21.21866699 16.98330055]\n"
     ]
    },
    {
     "name": "stderr",
     "output_type": "stream",
     "text": [
      "\n",
      " 40%|████      | 80/200 [00:49<01:13,  1.63it/s]\u001b[A"
     ]
    },
    {
     "name": "stdout",
     "output_type": "stream",
     "text": [
      "Current MSE: 0.254488479069\n",
      "Current length scale: [22.13300025 17.64764529]\n"
     ]
    },
    {
     "name": "stderr",
     "output_type": "stream",
     "text": [
      "\n",
      " 40%|████      | 81/200 [00:50<01:12,  1.64it/s]\u001b[A"
     ]
    },
    {
     "name": "stdout",
     "output_type": "stream",
     "text": [
      "Current MSE: 0.259974979418\n",
      "Current length scale: [20.56863602 18.03637027]\n"
     ]
    },
    {
     "name": "stderr",
     "output_type": "stream",
     "text": [
      "\n",
      " 41%|████      | 82/200 [00:50<01:12,  1.63it/s]\u001b[A"
     ]
    },
    {
     "name": "stdout",
     "output_type": "stream",
     "text": [
      "Current MSE: 0.25343525102\n",
      "Current length scale: [20.78834206 18.17841391]\n"
     ]
    },
    {
     "name": "stderr",
     "output_type": "stream",
     "text": [
      "\n",
      " 42%|████▏     | 83/200 [00:51<01:12,  1.61it/s]\u001b[A"
     ]
    },
    {
     "name": "stdout",
     "output_type": "stream",
     "text": [
      "Current MSE: 0.262597373606\n",
      "Current length scale: [20.94102124 17.57420043]\n"
     ]
    },
    {
     "name": "stderr",
     "output_type": "stream",
     "text": [
      "\n",
      " 42%|████▏     | 84/200 [00:51<01:11,  1.63it/s]\u001b[A"
     ]
    },
    {
     "name": "stdout",
     "output_type": "stream",
     "text": [
      "Current MSE: 0.252527291387\n",
      "Current length scale: [20.23053355 17.87860527]\n"
     ]
    },
    {
     "name": "stderr",
     "output_type": "stream",
     "text": [
      "\n",
      " 42%|████▎     | 85/200 [00:52<01:09,  1.64it/s]\u001b[A"
     ]
    },
    {
     "name": "stdout",
     "output_type": "stream",
     "text": [
      "Current MSE: 0.248638973888\n",
      "Current length scale: [19.91663354 16.05653215]\n"
     ]
    },
    {
     "name": "stderr",
     "output_type": "stream",
     "text": [
      "\n",
      " 43%|████▎     | 86/200 [00:53<01:04,  1.75it/s]\u001b[A"
     ]
    },
    {
     "name": "stdout",
     "output_type": "stream",
     "text": [
      "Current MSE: 0.24782404276\n",
      "Current length scale: [20.22509384 15.25891881]\n"
     ]
    },
    {
     "name": "stderr",
     "output_type": "stream",
     "text": [
      "\n",
      " 44%|████▎     | 87/200 [00:53<01:01,  1.83it/s]\u001b[A"
     ]
    },
    {
     "name": "stdout",
     "output_type": "stream",
     "text": [
      "Current MSE: 0.256295374093\n",
      "Current length scale: [17.52073825 17.33443806]\n"
     ]
    },
    {
     "name": "stderr",
     "output_type": "stream",
     "text": [
      "\n",
      " 44%|████▍     | 88/200 [00:53<00:59,  1.88it/s]\u001b[A"
     ]
    },
    {
     "name": "stdout",
     "output_type": "stream",
     "text": [
      "Current MSE: 0.252807583915\n",
      "Current length scale: [16.37662533 19.47129616]\n"
     ]
    },
    {
     "name": "stderr",
     "output_type": "stream",
     "text": [
      "\n",
      " 44%|████▍     | 89/200 [00:54<00:57,  1.92it/s]\u001b[A"
     ]
    },
    {
     "name": "stdout",
     "output_type": "stream",
     "text": [
      "Current MSE: 0.248885311534\n",
      "Current length scale: [14.8319922  18.71409124]\n"
     ]
    },
    {
     "name": "stderr",
     "output_type": "stream",
     "text": [
      "\n",
      " 45%|████▌     | 90/200 [00:54<00:56,  1.94it/s]\u001b[A"
     ]
    },
    {
     "name": "stdout",
     "output_type": "stream",
     "text": [
      "Current MSE: 0.252240576445\n",
      "Current length scale: [15.66953991 18.7845526 ]\n"
     ]
    },
    {
     "name": "stderr",
     "output_type": "stream",
     "text": [
      "\n",
      " 46%|████▌     | 91/200 [00:55<00:55,  1.97it/s]\u001b[A"
     ]
    },
    {
     "name": "stdout",
     "output_type": "stream",
     "text": [
      "Current MSE: 0.26588921821\n",
      "Current length scale: [16.0431357  18.19281501]\n"
     ]
    },
    {
     "name": "stderr",
     "output_type": "stream",
     "text": [
      "\n",
      " 46%|████▌     | 92/200 [00:55<00:54,  1.99it/s]\u001b[A"
     ]
    },
    {
     "name": "stdout",
     "output_type": "stream",
     "text": [
      "Current MSE: 0.252878226935\n",
      "Current length scale: [17.06813608 16.45387402]\n"
     ]
    },
    {
     "name": "stderr",
     "output_type": "stream",
     "text": [
      "\n",
      " 46%|████▋     | 93/200 [00:56<00:53,  2.00it/s]\u001b[A"
     ]
    },
    {
     "name": "stdout",
     "output_type": "stream",
     "text": [
      "Current MSE: 0.264547089678\n",
      "Current length scale: [17.72690759 15.85958919]\n"
     ]
    },
    {
     "name": "stderr",
     "output_type": "stream",
     "text": [
      "\n",
      " 47%|████▋     | 94/200 [00:56<00:53,  1.99it/s]\u001b[A"
     ]
    },
    {
     "name": "stdout",
     "output_type": "stream",
     "text": [
      "Current MSE: 0.251565684736\n",
      "Current length scale: [18.86012809 16.10070255]\n"
     ]
    },
    {
     "name": "stderr",
     "output_type": "stream",
     "text": [
      "\n",
      " 48%|████▊     | 95/200 [00:57<00:52,  2.01it/s]\u001b[A"
     ]
    },
    {
     "name": "stdout",
     "output_type": "stream",
     "text": [
      "Current MSE: 0.250937896101\n",
      "Current length scale: [18.74124901 16.88615769]\n"
     ]
    },
    {
     "name": "stderr",
     "output_type": "stream",
     "text": [
      "\n",
      " 48%|████▊     | 96/200 [00:57<00:51,  2.02it/s]\u001b[A"
     ]
    },
    {
     "name": "stdout",
     "output_type": "stream",
     "text": [
      "Current MSE: 0.250744921807\n",
      "Current length scale: [19.19491465 18.50161877]\n"
     ]
    },
    {
     "name": "stderr",
     "output_type": "stream",
     "text": [
      "\n",
      " 48%|████▊     | 97/200 [00:58<00:51,  2.01it/s]\u001b[A"
     ]
    },
    {
     "name": "stdout",
     "output_type": "stream",
     "text": [
      "Current MSE: 0.260071826801\n",
      "Current length scale: [17.32303555 16.81551613]\n"
     ]
    },
    {
     "name": "stderr",
     "output_type": "stream",
     "text": [
      "\n",
      " 49%|████▉     | 98/200 [00:58<00:51,  1.99it/s]\u001b[A"
     ]
    },
    {
     "name": "stdout",
     "output_type": "stream",
     "text": [
      "Current MSE: 0.256310800385\n",
      "Current length scale: [17.74281993 17.27312661]\n"
     ]
    },
    {
     "name": "stderr",
     "output_type": "stream",
     "text": [
      "\n",
      " 50%|████▉     | 99/200 [00:59<00:50,  2.00it/s]\u001b[A"
     ]
    },
    {
     "name": "stdout",
     "output_type": "stream",
     "text": [
      "Current MSE: 0.26678938192\n",
      "Current length scale: [18.2447481  17.37085584]\n"
     ]
    },
    {
     "name": "stderr",
     "output_type": "stream",
     "text": [
      "\n",
      " 50%|█████     | 100/200 [00:59<00:50,  2.00it/s]\u001b[A"
     ]
    },
    {
     "name": "stdout",
     "output_type": "stream",
     "text": [
      "Current MSE: 0.258717054231\n",
      "Current length scale: [20.09104215 17.92521485]\n"
     ]
    },
    {
     "name": "stderr",
     "output_type": "stream",
     "text": [
      "\n",
      " 50%|█████     | 101/200 [01:00<00:58,  1.69it/s]\u001b[A"
     ]
    },
    {
     "name": "stdout",
     "output_type": "stream",
     "text": [
      "Current MSE: 0.255010156432\n",
      "Current length scale: [19.63010013 18.13423819]\n"
     ]
    },
    {
     "name": "stderr",
     "output_type": "stream",
     "text": [
      "\n",
      " 51%|█████     | 102/200 [01:01<01:09,  1.41it/s]\u001b[A"
     ]
    },
    {
     "name": "stdout",
     "output_type": "stream",
     "text": [
      "Current MSE: 0.250041710051\n",
      "Current length scale: [22.14533567 17.76399099]\n"
     ]
    },
    {
     "name": "stderr",
     "output_type": "stream",
     "text": [
      "\n",
      " 52%|█████▏    | 103/200 [01:02<01:06,  1.45it/s]\u001b[A"
     ]
    },
    {
     "name": "stdout",
     "output_type": "stream",
     "text": [
      "Current MSE: 0.262343209429\n",
      "Current length scale: [22.17958446 19.32889246]\n"
     ]
    },
    {
     "name": "stderr",
     "output_type": "stream",
     "text": [
      "\n",
      " 52%|█████▏    | 104/200 [01:03<01:03,  1.50it/s]\u001b[A"
     ]
    },
    {
     "name": "stdout",
     "output_type": "stream",
     "text": [
      "Current MSE: 0.252966107975\n",
      "Current length scale: [22.00507427 19.86097409]\n"
     ]
    },
    {
     "name": "stderr",
     "output_type": "stream",
     "text": [
      "\n",
      " 52%|█████▎    | 105/200 [01:03<01:04,  1.48it/s]\u001b[A"
     ]
    },
    {
     "name": "stdout",
     "output_type": "stream",
     "text": [
      "Current MSE: 0.252926915078\n",
      "Current length scale: [23.63946299 18.41190801]\n"
     ]
    },
    {
     "name": "stderr",
     "output_type": "stream",
     "text": [
      "\n",
      " 53%|█████▎    | 106/200 [01:04<01:02,  1.50it/s]\u001b[A"
     ]
    },
    {
     "name": "stdout",
     "output_type": "stream",
     "text": [
      "Current MSE: 0.25364445632\n",
      "Current length scale: [24.44914005 18.20777145]\n"
     ]
    },
    {
     "name": "stderr",
     "output_type": "stream",
     "text": [
      "\n",
      " 54%|█████▎    | 107/200 [01:05<01:04,  1.45it/s]\u001b[A"
     ]
    },
    {
     "name": "stdout",
     "output_type": "stream",
     "text": [
      "Current MSE: 0.255357908525\n",
      "Current length scale: [24.67672013 17.41289923]\n"
     ]
    },
    {
     "name": "stderr",
     "output_type": "stream",
     "text": [
      "\n",
      " 54%|█████▍    | 108/200 [01:05<01:05,  1.40it/s]\u001b[A"
     ]
    },
    {
     "name": "stdout",
     "output_type": "stream",
     "text": [
      "Current MSE: 0.255043492838\n",
      "Current length scale: [23.39401142 17.36693892]\n"
     ]
    },
    {
     "name": "stderr",
     "output_type": "stream",
     "text": [
      "\n",
      " 55%|█████▍    | 109/200 [01:06<01:01,  1.48it/s]\u001b[A"
     ]
    },
    {
     "name": "stdout",
     "output_type": "stream",
     "text": [
      "Current MSE: 0.252856471264\n",
      "Current length scale: [22.9900879  17.56204819]\n"
     ]
    },
    {
     "name": "stderr",
     "output_type": "stream",
     "text": [
      "\n",
      " 55%|█████▌    | 110/200 [01:07<01:03,  1.42it/s]\u001b[A"
     ]
    },
    {
     "name": "stdout",
     "output_type": "stream",
     "text": [
      "Current MSE: 0.254189407135\n",
      "Current length scale: [24.92010333 17.66629415]\n"
     ]
    },
    {
     "name": "stderr",
     "output_type": "stream",
     "text": [
      "\n",
      " 56%|█████▌    | 111/200 [01:07<01:01,  1.44it/s]\u001b[A"
     ]
    },
    {
     "name": "stdout",
     "output_type": "stream",
     "text": [
      "Current MSE: 0.253491656403\n",
      "Current length scale: [22.43801668 17.63648722]\n"
     ]
    },
    {
     "name": "stderr",
     "output_type": "stream",
     "text": [
      "\n",
      " 56%|█████▌    | 112/200 [01:08<01:00,  1.44it/s]\u001b[A"
     ]
    },
    {
     "name": "stdout",
     "output_type": "stream",
     "text": [
      "Current MSE: 0.251908306309\n",
      "Current length scale: [24.48196408 17.23173783]\n"
     ]
    },
    {
     "name": "stderr",
     "output_type": "stream",
     "text": [
      "\n",
      " 56%|█████▋    | 113/200 [01:09<00:57,  1.51it/s]\u001b[A"
     ]
    },
    {
     "name": "stdout",
     "output_type": "stream",
     "text": [
      "Current MSE: 0.257909987335\n",
      "Current length scale: [23.65766225 17.00537156]\n"
     ]
    },
    {
     "name": "stderr",
     "output_type": "stream",
     "text": [
      "\n",
      " 57%|█████▋    | 114/200 [01:09<00:59,  1.43it/s]\u001b[A"
     ]
    },
    {
     "name": "stdout",
     "output_type": "stream",
     "text": [
      "Current MSE: 0.249448892647\n",
      "Current length scale: [23.66948853 16.27810217]\n"
     ]
    },
    {
     "name": "stderr",
     "output_type": "stream",
     "text": [
      "\n",
      " 57%|█████▊    | 115/200 [01:10<00:59,  1.43it/s]\u001b[A"
     ]
    },
    {
     "name": "stdout",
     "output_type": "stream",
     "text": [
      "Current MSE: 0.256243117762\n",
      "Current length scale: [22.59680651 17.15196262]\n"
     ]
    },
    {
     "name": "stderr",
     "output_type": "stream",
     "text": [
      "\n",
      " 58%|█████▊    | 116/200 [01:11<00:57,  1.47it/s]\u001b[A"
     ]
    },
    {
     "name": "stdout",
     "output_type": "stream",
     "text": [
      "Current MSE: 0.262110259569\n",
      "Current length scale: [23.61941224 16.97910149]\n"
     ]
    },
    {
     "name": "stderr",
     "output_type": "stream",
     "text": [
      "\n",
      " 58%|█████▊    | 117/200 [01:12<00:58,  1.42it/s]\u001b[A"
     ]
    },
    {
     "name": "stdout",
     "output_type": "stream",
     "text": [
      "Current MSE: 0.254596237607\n",
      "Current length scale: [23.63790396 15.13662134]\n"
     ]
    },
    {
     "name": "stderr",
     "output_type": "stream",
     "text": [
      "\n",
      " 59%|█████▉    | 118/200 [01:12<00:57,  1.44it/s]\u001b[A"
     ]
    },
    {
     "name": "stdout",
     "output_type": "stream",
     "text": [
      "Current MSE: 0.258464042143\n",
      "Current length scale: [23.56353414 14.83794124]\n"
     ]
    },
    {
     "name": "stderr",
     "output_type": "stream",
     "text": [
      "\n",
      " 60%|█████▉    | 119/200 [01:13<00:54,  1.48it/s]\u001b[A"
     ]
    },
    {
     "name": "stdout",
     "output_type": "stream",
     "text": [
      "Current MSE: 0.254606164515\n",
      "Current length scale: [25.49321996 14.67173754]\n"
     ]
    },
    {
     "name": "stderr",
     "output_type": "stream",
     "text": [
      "\n",
      " 60%|██████    | 120/200 [01:14<00:54,  1.48it/s]\u001b[A"
     ]
    },
    {
     "name": "stdout",
     "output_type": "stream",
     "text": [
      "Current MSE: 0.25611252089\n",
      "Current length scale: [24.77687386 15.51726831]\n"
     ]
    },
    {
     "name": "stderr",
     "output_type": "stream",
     "text": [
      "\n",
      " 60%|██████    | 121/200 [01:14<00:55,  1.41it/s]\u001b[A"
     ]
    },
    {
     "name": "stdout",
     "output_type": "stream",
     "text": [
      "Current MSE: 0.25664220364\n",
      "Current length scale: [25.21588733 14.51180623]\n"
     ]
    },
    {
     "name": "stderr",
     "output_type": "stream",
     "text": [
      "\n",
      " 61%|██████    | 122/200 [01:15<00:57,  1.36it/s]\u001b[A"
     ]
    },
    {
     "name": "stdout",
     "output_type": "stream",
     "text": [
      "Current MSE: 0.254723117374\n",
      "Current length scale: [27.07166027 14.28914964]\n"
     ]
    },
    {
     "name": "stderr",
     "output_type": "stream",
     "text": [
      "\n",
      " 62%|██████▏   | 123/200 [01:16<00:57,  1.33it/s]\u001b[A"
     ]
    },
    {
     "name": "stdout",
     "output_type": "stream",
     "text": [
      "Current MSE: 0.256819357474\n",
      "Current length scale: [23.6023889  15.65695307]\n"
     ]
    },
    {
     "name": "stderr",
     "output_type": "stream",
     "text": [
      "\n",
      " 62%|██████▏   | 124/200 [01:17<00:58,  1.30it/s]\u001b[A"
     ]
    },
    {
     "name": "stdout",
     "output_type": "stream",
     "text": [
      "Current MSE: 0.256634009232\n",
      "Current length scale: [23.31426753 16.53036073]\n"
     ]
    },
    {
     "name": "stderr",
     "output_type": "stream",
     "text": [
      "\n",
      " 62%|██████▎   | 125/200 [01:17<00:54,  1.39it/s]\u001b[A"
     ]
    },
    {
     "name": "stdout",
     "output_type": "stream",
     "text": [
      "Current MSE: 0.254116471415\n",
      "Current length scale: [22.06893144 18.34527805]\n"
     ]
    },
    {
     "name": "stderr",
     "output_type": "stream",
     "text": [
      "\n",
      " 63%|██████▎   | 126/200 [01:18<00:53,  1.39it/s]\u001b[A"
     ]
    },
    {
     "name": "stdout",
     "output_type": "stream",
     "text": [
      "Current MSE: 0.251725923186\n",
      "Current length scale: [23.309922   17.08338128]\n"
     ]
    },
    {
     "name": "stderr",
     "output_type": "stream",
     "text": [
      "\n",
      " 64%|██████▎   | 127/200 [01:19<00:53,  1.37it/s]\u001b[A"
     ]
    },
    {
     "name": "stdout",
     "output_type": "stream",
     "text": [
      "Current MSE: 0.246647067965\n",
      "Current length scale: [20.83036575 16.25601292]\n"
     ]
    },
    {
     "name": "stderr",
     "output_type": "stream",
     "text": [
      "\n",
      " 64%|██████▍   | 128/200 [01:19<00:49,  1.45it/s]\u001b[A"
     ]
    },
    {
     "name": "stdout",
     "output_type": "stream",
     "text": [
      "Current MSE: 0.245033328396\n",
      "Current length scale: [19.01108865 16.65642063]\n"
     ]
    },
    {
     "name": "stderr",
     "output_type": "stream",
     "text": [
      "\n",
      " 64%|██████▍   | 129/200 [01:20<00:47,  1.49it/s]\u001b[A"
     ]
    },
    {
     "name": "stdout",
     "output_type": "stream",
     "text": [
      "Current MSE: 0.249977150686\n",
      "Current length scale: [19.79842342 14.28205474]\n"
     ]
    },
    {
     "name": "stderr",
     "output_type": "stream",
     "text": [
      "\n",
      " 65%|██████▌   | 130/200 [01:21<00:47,  1.48it/s]\u001b[A"
     ]
    },
    {
     "name": "stdout",
     "output_type": "stream",
     "text": [
      "Current MSE: 0.251570811467\n",
      "Current length scale: [19.43020679 14.77463449]\n"
     ]
    },
    {
     "name": "stderr",
     "output_type": "stream",
     "text": [
      "\n",
      " 66%|██████▌   | 131/200 [01:21<00:45,  1.51it/s]\u001b[A"
     ]
    },
    {
     "name": "stdout",
     "output_type": "stream",
     "text": [
      "Current MSE: 0.252320347117\n",
      "Current length scale: [20.72225512 14.74589394]\n"
     ]
    },
    {
     "name": "stderr",
     "output_type": "stream",
     "text": [
      "\n",
      " 66%|██████▌   | 132/200 [01:22<00:45,  1.51it/s]\u001b[A"
     ]
    },
    {
     "name": "stdout",
     "output_type": "stream",
     "text": [
      "Current MSE: 0.257902221488\n",
      "Current length scale: [19.69825689 14.63655399]\n"
     ]
    },
    {
     "name": "stderr",
     "output_type": "stream",
     "text": [
      "\n",
      " 66%|██████▋   | 133/200 [01:23<00:43,  1.54it/s]\u001b[A"
     ]
    },
    {
     "name": "stdout",
     "output_type": "stream",
     "text": [
      "Current MSE: 0.257036745258\n",
      "Current length scale: [19.77422654 13.78281818]\n"
     ]
    },
    {
     "name": "stderr",
     "output_type": "stream",
     "text": [
      "\n",
      " 67%|██████▋   | 134/200 [01:24<00:47,  1.38it/s]\u001b[A"
     ]
    },
    {
     "name": "stdout",
     "output_type": "stream",
     "text": [
      "Current MSE: 0.248468991518\n",
      "Current length scale: [17.47309266 13.8588131 ]\n"
     ]
    },
    {
     "name": "stderr",
     "output_type": "stream",
     "text": [
      "\n",
      " 68%|██████▊   | 135/200 [01:24<00:46,  1.39it/s]\u001b[A"
     ]
    },
    {
     "name": "stdout",
     "output_type": "stream",
     "text": [
      "Current MSE: 0.251629719438\n",
      "Current length scale: [18.6344916  13.97478366]\n"
     ]
    },
    {
     "name": "stderr",
     "output_type": "stream",
     "text": [
      "\n",
      " 68%|██████▊   | 136/200 [01:25<00:46,  1.39it/s]\u001b[A"
     ]
    },
    {
     "name": "stdout",
     "output_type": "stream",
     "text": [
      "Current MSE: 0.254075812206\n",
      "Current length scale: [17.99953488 14.5443499 ]\n"
     ]
    },
    {
     "name": "stderr",
     "output_type": "stream",
     "text": [
      "\n",
      " 68%|██████▊   | 137/200 [01:26<00:44,  1.41it/s]\u001b[A"
     ]
    },
    {
     "name": "stdout",
     "output_type": "stream",
     "text": [
      "Current MSE: 0.25083846694\n",
      "Current length scale: [17.11948283 15.63103067]\n"
     ]
    },
    {
     "name": "stderr",
     "output_type": "stream",
     "text": [
      "\n",
      " 69%|██████▉   | 138/200 [01:26<00:42,  1.45it/s]\u001b[A"
     ]
    },
    {
     "name": "stdout",
     "output_type": "stream",
     "text": [
      "Current MSE: 0.254063076876\n",
      "Current length scale: [17.37201235 17.08636534]\n"
     ]
    },
    {
     "name": "stderr",
     "output_type": "stream",
     "text": [
      "\n",
      " 70%|██████▉   | 139/200 [01:27<00:42,  1.44it/s]\u001b[A"
     ]
    },
    {
     "name": "stdout",
     "output_type": "stream",
     "text": [
      "Current MSE: 0.253499570279\n",
      "Current length scale: [18.06882192 16.98177109]\n"
     ]
    },
    {
     "name": "stderr",
     "output_type": "stream",
     "text": [
      "\n",
      " 70%|███████   | 140/200 [01:28<00:41,  1.44it/s]\u001b[A"
     ]
    },
    {
     "name": "stdout",
     "output_type": "stream",
     "text": [
      "Current MSE: 0.251627327746\n",
      "Current length scale: [16.75183046 17.111933  ]\n"
     ]
    },
    {
     "name": "stderr",
     "output_type": "stream",
     "text": [
      "\n",
      " 70%|███████   | 141/200 [01:28<00:40,  1.45it/s]\u001b[A"
     ]
    },
    {
     "name": "stdout",
     "output_type": "stream",
     "text": [
      "Current MSE: 0.258753175549\n",
      "Current length scale: [15.62345978 16.50961397]\n"
     ]
    },
    {
     "name": "stderr",
     "output_type": "stream",
     "text": [
      "\n",
      " 71%|███████   | 142/200 [01:29<00:40,  1.45it/s]\u001b[A"
     ]
    },
    {
     "name": "stdout",
     "output_type": "stream",
     "text": [
      "Current MSE: 0.251608267572\n",
      "Current length scale: [14.76512819 17.47259991]\n"
     ]
    },
    {
     "name": "stderr",
     "output_type": "stream",
     "text": [
      "\n",
      " 72%|███████▏  | 143/200 [01:30<00:38,  1.50it/s]\u001b[A"
     ]
    },
    {
     "name": "stdout",
     "output_type": "stream",
     "text": [
      "Current MSE: 0.254667431494\n",
      "Current length scale: [15.30410183 16.61980098]\n"
     ]
    },
    {
     "name": "stderr",
     "output_type": "stream",
     "text": [
      "\n",
      " 72%|███████▏  | 144/200 [01:31<00:41,  1.34it/s]\u001b[A"
     ]
    },
    {
     "name": "stdout",
     "output_type": "stream",
     "text": [
      "Current MSE: 0.25593694421\n",
      "Current length scale: [14.99178253 15.79679037]\n"
     ]
    },
    {
     "name": "stderr",
     "output_type": "stream",
     "text": [
      "\n",
      " 72%|███████▎  | 145/200 [01:31<00:40,  1.36it/s]\u001b[A"
     ]
    },
    {
     "name": "stdout",
     "output_type": "stream",
     "text": [
      "Current MSE: 0.253216036824\n",
      "Current length scale: [18.12326714 16.21732334]\n"
     ]
    },
    {
     "name": "stderr",
     "output_type": "stream",
     "text": [
      "\n",
      " 73%|███████▎  | 146/200 [01:32<00:39,  1.37it/s]\u001b[A"
     ]
    },
    {
     "name": "stdout",
     "output_type": "stream",
     "text": [
      "Current MSE: 0.252873929425\n",
      "Current length scale: [17.22382731 16.28930434]\n"
     ]
    },
    {
     "name": "stderr",
     "output_type": "stream",
     "text": [
      "\n",
      " 74%|███████▎  | 147/200 [01:33<00:39,  1.35it/s]\u001b[A"
     ]
    },
    {
     "name": "stdout",
     "output_type": "stream",
     "text": [
      "Current MSE: 0.254945126912\n",
      "Current length scale: [16.06422353 16.9065605 ]\n"
     ]
    },
    {
     "name": "stderr",
     "output_type": "stream",
     "text": [
      "\n",
      " 74%|███████▍  | 148/200 [01:33<00:36,  1.44it/s]\u001b[A"
     ]
    },
    {
     "name": "stdout",
     "output_type": "stream",
     "text": [
      "Current MSE: 0.252489163344\n",
      "Current length scale: [15.16633711 17.53850047]\n"
     ]
    },
    {
     "name": "stderr",
     "output_type": "stream",
     "text": [
      "\n",
      " 74%|███████▍  | 149/200 [01:34<00:34,  1.47it/s]\u001b[A"
     ]
    },
    {
     "name": "stdout",
     "output_type": "stream",
     "text": [
      "Current MSE: 0.25390382102\n",
      "Current length scale: [14.13747187 18.85990408]\n"
     ]
    },
    {
     "name": "stderr",
     "output_type": "stream",
     "text": [
      "\n",
      " 75%|███████▌  | 150/200 [01:35<00:33,  1.50it/s]\u001b[A"
     ]
    },
    {
     "name": "stdout",
     "output_type": "stream",
     "text": [
      "Current MSE: 0.254903372366\n",
      "Current length scale: [14.55216535 19.00269717]\n"
     ]
    },
    {
     "name": "stderr",
     "output_type": "stream",
     "text": [
      "\n",
      " 76%|███████▌  | 151/200 [01:35<00:32,  1.50it/s]\u001b[A"
     ]
    },
    {
     "name": "stdout",
     "output_type": "stream",
     "text": [
      "Current MSE: 0.246920489954\n",
      "Current length scale: [15.39851449 19.85444919]\n"
     ]
    },
    {
     "name": "stderr",
     "output_type": "stream",
     "text": [
      "\n",
      " 76%|███████▌  | 152/200 [01:36<00:32,  1.49it/s]\u001b[A"
     ]
    },
    {
     "name": "stdout",
     "output_type": "stream",
     "text": [
      "Current MSE: 0.252708856354\n",
      "Current length scale: [16.31707632 19.03750455]\n"
     ]
    },
    {
     "name": "stderr",
     "output_type": "stream",
     "text": [
      "\n",
      " 76%|███████▋  | 153/200 [01:37<00:32,  1.46it/s]\u001b[A"
     ]
    },
    {
     "name": "stdout",
     "output_type": "stream",
     "text": [
      "Current MSE: 0.250674787993\n",
      "Current length scale: [16.21802597 18.09918153]\n"
     ]
    },
    {
     "name": "stderr",
     "output_type": "stream",
     "text": [
      "\n",
      " 77%|███████▋  | 154/200 [01:37<00:31,  1.48it/s]\u001b[A"
     ]
    },
    {
     "name": "stdout",
     "output_type": "stream",
     "text": [
      "Current MSE: 0.255594400381\n",
      "Current length scale: [17.59886515 16.48784491]\n"
     ]
    },
    {
     "name": "stderr",
     "output_type": "stream",
     "text": [
      "\n",
      " 78%|███████▊  | 155/200 [01:38<00:30,  1.49it/s]\u001b[A"
     ]
    },
    {
     "name": "stdout",
     "output_type": "stream",
     "text": [
      "Current MSE: 0.254211400395\n",
      "Current length scale: [17.91334479 16.04792692]\n"
     ]
    },
    {
     "name": "stderr",
     "output_type": "stream",
     "text": [
      "\n",
      " 78%|███████▊  | 156/200 [01:39<00:28,  1.52it/s]\u001b[A"
     ]
    },
    {
     "name": "stdout",
     "output_type": "stream",
     "text": [
      "Current MSE: 0.25964227373\n",
      "Current length scale: [17.17627485 16.60921642]\n"
     ]
    },
    {
     "name": "stderr",
     "output_type": "stream",
     "text": [
      "\n",
      " 78%|███████▊  | 157/200 [01:39<00:27,  1.54it/s]\u001b[A"
     ]
    },
    {
     "name": "stdout",
     "output_type": "stream",
     "text": [
      "Current MSE: 0.254571510513\n",
      "Current length scale: [14.75871678 17.35461481]\n"
     ]
    },
    {
     "name": "stderr",
     "output_type": "stream",
     "text": [
      "\n",
      " 79%|███████▉  | 158/200 [01:40<00:28,  1.46it/s]\u001b[A"
     ]
    },
    {
     "name": "stdout",
     "output_type": "stream",
     "text": [
      "Current MSE: 0.255871371575\n",
      "Current length scale: [15.02378012 16.39405753]\n"
     ]
    },
    {
     "name": "stderr",
     "output_type": "stream",
     "text": [
      "\n",
      " 80%|███████▉  | 159/200 [01:41<00:27,  1.47it/s]\u001b[A"
     ]
    },
    {
     "name": "stdout",
     "output_type": "stream",
     "text": [
      "Current MSE: 0.255749273521\n",
      "Current length scale: [14.46553318 14.75011185]\n"
     ]
    },
    {
     "name": "stderr",
     "output_type": "stream",
     "text": [
      "\n",
      " 80%|████████  | 160/200 [01:41<00:27,  1.43it/s]\u001b[A"
     ]
    },
    {
     "name": "stdout",
     "output_type": "stream",
     "text": [
      "Current MSE: 0.251886465171\n",
      "Current length scale: [14.27900704 14.85064534]\n"
     ]
    },
    {
     "name": "stderr",
     "output_type": "stream",
     "text": [
      "\n",
      " 80%|████████  | 161/200 [01:42<00:27,  1.41it/s]\u001b[A"
     ]
    },
    {
     "name": "stdout",
     "output_type": "stream",
     "text": [
      "Current MSE: 0.250957518346\n",
      "Current length scale: [16.20465558 15.55245326]\n"
     ]
    },
    {
     "name": "stderr",
     "output_type": "stream",
     "text": [
      "\n",
      " 81%|████████  | 162/200 [01:43<00:26,  1.45it/s]\u001b[A"
     ]
    },
    {
     "name": "stdout",
     "output_type": "stream",
     "text": [
      "Current MSE: 0.253226838025\n",
      "Current length scale: [17.51797202 14.76415514]\n"
     ]
    },
    {
     "name": "stderr",
     "output_type": "stream",
     "text": [
      "\n",
      " 82%|████████▏ | 163/200 [01:44<00:25,  1.43it/s]\u001b[A"
     ]
    },
    {
     "name": "stdout",
     "output_type": "stream",
     "text": [
      "Current MSE: 0.25588788805\n",
      "Current length scale: [17.19975605 16.15770079]\n"
     ]
    },
    {
     "name": "stderr",
     "output_type": "stream",
     "text": [
      "\n",
      " 82%|████████▏ | 164/200 [01:44<00:24,  1.46it/s]\u001b[A"
     ]
    },
    {
     "name": "stdout",
     "output_type": "stream",
     "text": [
      "Current MSE: 0.254165109826\n",
      "Current length scale: [18.34280333 16.71219275]\n"
     ]
    },
    {
     "name": "stderr",
     "output_type": "stream",
     "text": [
      "\n",
      " 82%|████████▎ | 165/200 [01:45<00:24,  1.41it/s]\u001b[A"
     ]
    },
    {
     "name": "stdout",
     "output_type": "stream",
     "text": [
      "Current MSE: 0.249436510054\n",
      "Current length scale: [18.50290202 17.15752228]\n"
     ]
    },
    {
     "name": "stderr",
     "output_type": "stream",
     "text": [
      "\n",
      " 83%|████████▎ | 166/200 [01:46<00:22,  1.50it/s]\u001b[A"
     ]
    },
    {
     "name": "stdout",
     "output_type": "stream",
     "text": [
      "Current MSE: 0.24977239318\n",
      "Current length scale: [18.51699976 18.38784094]\n"
     ]
    },
    {
     "name": "stderr",
     "output_type": "stream",
     "text": [
      "\n",
      " 84%|████████▎ | 167/200 [01:46<00:22,  1.49it/s]\u001b[A"
     ]
    },
    {
     "name": "stdout",
     "output_type": "stream",
     "text": [
      "Current MSE: 0.256892039971\n",
      "Current length scale: [20.73597053 19.06754806]\n"
     ]
    },
    {
     "name": "stderr",
     "output_type": "stream",
     "text": [
      "\n",
      " 84%|████████▍ | 168/200 [01:47<00:20,  1.53it/s]\u001b[A"
     ]
    },
    {
     "name": "stdout",
     "output_type": "stream",
     "text": [
      "Current MSE: 0.258436634408\n",
      "Current length scale: [21.5988291  19.65975298]\n"
     ]
    },
    {
     "name": "stderr",
     "output_type": "stream",
     "text": [
      "\n",
      " 84%|████████▍ | 169/200 [01:48<00:20,  1.51it/s]\u001b[A"
     ]
    },
    {
     "name": "stdout",
     "output_type": "stream",
     "text": [
      "Current MSE: 0.259131572113\n",
      "Current length scale: [21.04278515 21.47312528]\n"
     ]
    },
    {
     "name": "stderr",
     "output_type": "stream",
     "text": [
      "\n",
      " 85%|████████▌ | 170/200 [01:48<00:19,  1.54it/s]\u001b[A"
     ]
    },
    {
     "name": "stdout",
     "output_type": "stream",
     "text": [
      "Current MSE: 0.258667424868\n",
      "Current length scale: [20.62339258 22.39084928]\n"
     ]
    },
    {
     "name": "stderr",
     "output_type": "stream",
     "text": [
      "\n",
      " 86%|████████▌ | 171/200 [01:49<00:19,  1.51it/s]\u001b[A"
     ]
    },
    {
     "name": "stdout",
     "output_type": "stream",
     "text": [
      "Current MSE: 0.254026766851\n",
      "Current length scale: [22.98682228 22.29986512]\n"
     ]
    },
    {
     "name": "stderr",
     "output_type": "stream",
     "text": [
      "\n",
      " 86%|████████▌ | 172/200 [01:50<00:19,  1.40it/s]\u001b[A"
     ]
    },
    {
     "name": "stdout",
     "output_type": "stream",
     "text": [
      "Current MSE: 0.254024063361\n",
      "Current length scale: [21.94291924 21.51363705]\n"
     ]
    },
    {
     "name": "stderr",
     "output_type": "stream",
     "text": [
      "\n",
      " 86%|████████▋ | 173/200 [01:50<00:18,  1.44it/s]\u001b[A"
     ]
    },
    {
     "name": "stdout",
     "output_type": "stream",
     "text": [
      "Current MSE: 0.255374219121\n",
      "Current length scale: [22.73607194 21.74082242]\n"
     ]
    },
    {
     "name": "stderr",
     "output_type": "stream",
     "text": [
      "\n",
      " 87%|████████▋ | 174/200 [01:51<00:18,  1.40it/s]\u001b[A"
     ]
    },
    {
     "name": "stdout",
     "output_type": "stream",
     "text": [
      "Current MSE: 0.251816703247\n",
      "Current length scale: [23.23870229 20.50752578]\n"
     ]
    },
    {
     "name": "stderr",
     "output_type": "stream",
     "text": [
      "\n",
      " 88%|████████▊ | 175/200 [01:52<00:17,  1.44it/s]\u001b[A"
     ]
    },
    {
     "name": "stdout",
     "output_type": "stream",
     "text": [
      "Current MSE: 0.253411617783\n",
      "Current length scale: [22.84762832 20.91825307]\n"
     ]
    },
    {
     "name": "stderr",
     "output_type": "stream",
     "text": [
      "\n",
      " 88%|████████▊ | 176/200 [01:52<00:16,  1.46it/s]\u001b[A"
     ]
    },
    {
     "name": "stdout",
     "output_type": "stream",
     "text": [
      "Current MSE: 0.255089897046\n",
      "Current length scale: [21.57174058 22.85709588]\n"
     ]
    },
    {
     "name": "stderr",
     "output_type": "stream",
     "text": [
      "\n",
      " 88%|████████▊ | 177/200 [01:53<00:15,  1.51it/s]\u001b[A"
     ]
    },
    {
     "name": "stdout",
     "output_type": "stream",
     "text": [
      "Current MSE: 0.25608408878\n",
      "Current length scale: [20.19154593 22.08015483]\n"
     ]
    },
    {
     "name": "stderr",
     "output_type": "stream",
     "text": [
      "\n",
      " 89%|████████▉ | 178/200 [01:54<00:14,  1.52it/s]\u001b[A"
     ]
    },
    {
     "name": "stdout",
     "output_type": "stream",
     "text": [
      "Current MSE: 0.263510752184\n",
      "Current length scale: [18.15743649 22.36507966]\n"
     ]
    },
    {
     "name": "stderr",
     "output_type": "stream",
     "text": [
      "\n",
      " 90%|████████▉ | 179/200 [01:54<00:14,  1.47it/s]\u001b[A"
     ]
    },
    {
     "name": "stdout",
     "output_type": "stream",
     "text": [
      "Current MSE: 0.253133850171\n",
      "Current length scale: [19.38556369 20.70016521]\n"
     ]
    },
    {
     "name": "stderr",
     "output_type": "stream",
     "text": [
      "\n",
      " 90%|█████████ | 180/200 [01:55<00:14,  1.35it/s]\u001b[A"
     ]
    },
    {
     "name": "stdout",
     "output_type": "stream",
     "text": [
      "Current MSE: 0.2562170262\n",
      "Current length scale: [20.28434738 21.67275899]\n"
     ]
    },
    {
     "name": "stderr",
     "output_type": "stream",
     "text": [
      "\n",
      " 90%|█████████ | 181/200 [01:56<00:15,  1.27it/s]\u001b[A"
     ]
    },
    {
     "name": "stdout",
     "output_type": "stream",
     "text": [
      "Current MSE: 0.254375809692\n",
      "Current length scale: [18.86736123 21.20745918]\n"
     ]
    },
    {
     "name": "stderr",
     "output_type": "stream",
     "text": [
      "\n",
      " 91%|█████████ | 182/200 [01:57<00:14,  1.25it/s]\u001b[A"
     ]
    },
    {
     "name": "stdout",
     "output_type": "stream",
     "text": [
      "Current MSE: 0.257839269204\n",
      "Current length scale: [18.28360792 20.30326363]\n"
     ]
    },
    {
     "name": "stderr",
     "output_type": "stream",
     "text": [
      "\n",
      " 92%|█████████▏| 183/200 [01:58<00:12,  1.35it/s]\u001b[A"
     ]
    },
    {
     "name": "stdout",
     "output_type": "stream",
     "text": [
      "Current MSE: 0.249304035972\n",
      "Current length scale: [19.4746324  19.82290523]\n"
     ]
    },
    {
     "name": "stderr",
     "output_type": "stream",
     "text": [
      "\n",
      " 92%|█████████▏| 184/200 [01:58<00:11,  1.41it/s]\u001b[A"
     ]
    },
    {
     "name": "stdout",
     "output_type": "stream",
     "text": [
      "Current MSE: 0.258604208323\n",
      "Current length scale: [21.76340204 19.7097104 ]\n"
     ]
    },
    {
     "name": "stderr",
     "output_type": "stream",
     "text": [
      "\n",
      " 92%|█████████▎| 185/200 [01:59<00:10,  1.46it/s]\u001b[A"
     ]
    },
    {
     "name": "stdout",
     "output_type": "stream",
     "text": [
      "Current MSE: 0.260833353101\n",
      "Current length scale: [21.16279228 18.06247551]\n"
     ]
    },
    {
     "name": "stderr",
     "output_type": "stream",
     "text": [
      "\n",
      " 93%|█████████▎| 186/200 [01:59<00:09,  1.48it/s]\u001b[A"
     ]
    },
    {
     "name": "stdout",
     "output_type": "stream",
     "text": [
      "Current MSE: 0.260303099357\n",
      "Current length scale: [19.6762784  19.06474677]\n"
     ]
    },
    {
     "name": "stderr",
     "output_type": "stream",
     "text": [
      "\n",
      " 94%|█████████▎| 187/200 [02:00<00:08,  1.49it/s]\u001b[A"
     ]
    },
    {
     "name": "stdout",
     "output_type": "stream",
     "text": [
      "Current MSE: 0.254340587698\n",
      "Current length scale: [17.12667583 19.3194933 ]\n"
     ]
    },
    {
     "name": "stderr",
     "output_type": "stream",
     "text": [
      "\n",
      " 94%|█████████▍| 188/200 [02:01<00:08,  1.43it/s]\u001b[A"
     ]
    },
    {
     "name": "stdout",
     "output_type": "stream",
     "text": [
      "Current MSE: 0.252412626129\n",
      "Current length scale: [17.16753465 18.20866764]\n"
     ]
    },
    {
     "name": "stderr",
     "output_type": "stream",
     "text": [
      "\n",
      " 94%|█████████▍| 189/200 [02:02<00:07,  1.42it/s]\u001b[A"
     ]
    },
    {
     "name": "stdout",
     "output_type": "stream",
     "text": [
      "Current MSE: 0.260434804308\n",
      "Current length scale: [15.93625466 17.60659774]\n"
     ]
    },
    {
     "name": "stderr",
     "output_type": "stream",
     "text": [
      "\n",
      " 95%|█████████▌| 190/200 [02:02<00:06,  1.50it/s]\u001b[A"
     ]
    },
    {
     "name": "stdout",
     "output_type": "stream",
     "text": [
      "Current MSE: 0.252499820104\n",
      "Current length scale: [15.8250052  18.57851529]\n"
     ]
    },
    {
     "name": "stderr",
     "output_type": "stream",
     "text": [
      "\n",
      " 96%|█████████▌| 191/200 [02:03<00:06,  1.44it/s]\u001b[A"
     ]
    },
    {
     "name": "stdout",
     "output_type": "stream",
     "text": [
      "Current MSE: 0.250336901404\n",
      "Current length scale: [19.15231501 18.33930342]\n"
     ]
    },
    {
     "name": "stderr",
     "output_type": "stream",
     "text": [
      "\n",
      " 96%|█████████▌| 192/200 [02:04<00:05,  1.50it/s]\u001b[A"
     ]
    },
    {
     "name": "stdout",
     "output_type": "stream",
     "text": [
      "Current MSE: 0.256777933792\n",
      "Current length scale: [18.86435214 15.97094311]\n"
     ]
    },
    {
     "name": "stderr",
     "output_type": "stream",
     "text": [
      "\n",
      " 96%|█████████▋| 193/200 [02:04<00:04,  1.40it/s]\u001b[A"
     ]
    },
    {
     "name": "stdout",
     "output_type": "stream",
     "text": [
      "Current MSE: 0.257101603825\n",
      "Current length scale: [18.107533   17.89839104]\n"
     ]
    },
    {
     "name": "stderr",
     "output_type": "stream",
     "text": [
      "\n",
      " 97%|█████████▋| 194/200 [02:05<00:04,  1.36it/s]\u001b[A"
     ]
    },
    {
     "name": "stdout",
     "output_type": "stream",
     "text": [
      "Current MSE: 0.251377614614\n",
      "Current length scale: [17.76858299 16.44516525]\n"
     ]
    },
    {
     "name": "stderr",
     "output_type": "stream",
     "text": [
      "\n",
      " 98%|█████████▊| 195/200 [02:06<00:03,  1.38it/s]\u001b[A"
     ]
    },
    {
     "name": "stdout",
     "output_type": "stream",
     "text": [
      "Current MSE: 0.25472392266\n",
      "Current length scale: [19.65046239 16.88462176]\n"
     ]
    },
    {
     "name": "stderr",
     "output_type": "stream",
     "text": [
      "\n",
      " 98%|█████████▊| 196/200 [02:07<00:02,  1.44it/s]\u001b[A"
     ]
    },
    {
     "name": "stdout",
     "output_type": "stream",
     "text": [
      "Current MSE: 0.249124136344\n",
      "Current length scale: [19.50244027 18.02483684]\n"
     ]
    },
    {
     "name": "stderr",
     "output_type": "stream",
     "text": [
      "\n",
      " 98%|█████████▊| 197/200 [02:07<00:02,  1.38it/s]\u001b[A"
     ]
    },
    {
     "name": "stdout",
     "output_type": "stream",
     "text": [
      "Current MSE: 0.254842196334\n",
      "Current length scale: [19.57718342 19.38643382]\n"
     ]
    },
    {
     "name": "stderr",
     "output_type": "stream",
     "text": [
      "\n",
      " 99%|█████████▉| 198/200 [02:08<00:01,  1.44it/s]\u001b[A"
     ]
    },
    {
     "name": "stdout",
     "output_type": "stream",
     "text": [
      "Current MSE: 0.257368374948\n",
      "Current length scale: [19.13144332 21.32328826]\n"
     ]
    },
    {
     "name": "stderr",
     "output_type": "stream",
     "text": [
      "\n",
      "100%|█████████▉| 199/200 [02:09<00:00,  1.41it/s]\u001b[A"
     ]
    },
    {
     "name": "stdout",
     "output_type": "stream",
     "text": [
      "Current MSE: 0.258097605514\n",
      "Current length scale: [17.45824527 22.24037725]\n"
     ]
    },
    {
     "name": "stderr",
     "output_type": "stream",
     "text": [
      "\n",
      "100%|██████████| 200/200 [02:09<00:00,  1.43it/s]\u001b[A"
     ]
    },
    {
     "name": "stdout",
     "output_type": "stream",
     "text": [
      "Current MSE: 0.254288776987\n",
      "Current length scale: [16.88946644 22.95547533]\n"
     ]
    }
   ],
   "source": [
    "results_f3 = run_gibbs(residuals, model_f3, 200, 10, 0.5, verbose=True)"
   ]
  },
  {
   "cell_type": "code",
   "execution_count": 63,
   "metadata": {
    "collapsed": true
   },
   "outputs": [],
   "source": [
    "F_sample_f3, loading_sample_f3, variance_sample, theta_sample, traces_hist, mse_history = results_f3"
   ]
  },
  {
   "cell_type": "code",
   "execution_count": 64,
   "metadata": {
    "collapsed": false
   },
   "outputs": [
    {
     "data": {
      "image/png": "[encoded data removed]",
      "text/plain": [
       "<matplotlib.figure.Figure at 0x119a3b890>"
      ]
     },
     "metadata": {},
     "output_type": "display_data"
    }
   ],
   "source": [
    "fig = plt.figure(figsize=(4, 3), dpi=150)\n",
    "for i in range(150, 200):\n",
    "    plt.plot(x, F_sample_f3[i, :, 0] * 10, alpha=0.1, color='red')\n",
    "    plt.plot(x, F_sample_f3[i, :, 1] * 10, alpha=0.1, color='orange')\n",
    "for i in range(150, 200):\n",
    "    plt.plot(x, F_sample_f2[i, :, 0], alpha=0.1, color='green')\n",
    "    plt.plot(x, F_sample_f2[i, :, 1], alpha=0.1, color='blue')\n",
    "plt.title('Latent Posterior')\n",
    "plt.xlabel('Time')\n",
    "plt.show()"
   ]
  },
  {
   "cell_type": "code",
   "execution_count": 65,
   "metadata": {
    "collapsed": false
   },
   "outputs": [
    {
     "data": {
      "image/png": "[encoded data removed]",
      "text/plain": [
       "<matplotlib.figure.Figure at 0x119210710>"
      ]
     },
     "metadata": {},
     "output_type": "display_data"
    }
   ],
   "source": [
    "fig = plt.figure(figsize=(4, 3), dpi=150)\n",
    "loading_sample = np.zeros((100, 40))\n",
    "for i in range(100, 200):\n",
    "    current_loading = np.concatenate([loading_sample_f2[i].flatten(), 0.1 * loading_sample_f3[i].flatten()])\n",
    "    loading_sample[i - 100, :] = current_loading\n",
    "    plt.plot(current_loading, alpha=0.1, color='pink')\n",
    "plt.plot(np.median(loading_sample, axis=0), color='purple')\n",
    "plt.plot([0, 40], [0, 0], '--', color='gray', alpha=0.5)\n",
    "plt.title('Loading Posterior')\n",
    "plt.xlabel('Coefficient')\n",
    "plt.show()"
   ]
  },
  {
   "cell_type": "code",
   "execution_count": 66,
   "metadata": {
    "collapsed": false
   },
   "outputs": [
    {
     "data": {
      "image/png": "[encoded data removed]",
      "text/plain": [
       "<matplotlib.figure.Figure at 0x118d69390>"
      ]
     },
     "metadata": {},
     "output_type": "display_data"
    }
   ],
   "source": [
    "fig = plt.figure(figsize=(4, 3), dpi=150)\n",
    "plt.hist(loading_sample_f3[:, 0, 1] * 0.1)\n",
    "plt.title('Shrinkage Posterior')\n",
    "plt.show()"
   ]
  },
  {
   "cell_type": "code",
   "execution_count": 67,
   "metadata": {
    "collapsed": false
   },
   "outputs": [
    {
     "name": "stdout",
     "output_type": "stream",
     "text": [
      "-0.0012138565604555272\n"
     ]
    }
   ],
   "source": [
    "print(np.median(loading_sample_f3[:, 0, 1]) * 0.01)"
   ]
  },
  {
   "cell_type": "code",
   "execution_count": 41,
   "metadata": {
    "collapsed": true
   },
   "outputs": [],
   "source": [
    "dims = [1, t, 10, 4]  # n, t, q, r\n",
    "model_f4 = FactorGP(dims, mu_var=[0, 0.01])"
   ]
  },
  {
   "cell_type": "code",
   "execution_count": 42,
   "metadata": {
    "collapsed": false
   },
   "outputs": [],
   "source": [
    "model_f4.loading[:2, :] = B_post.copy()"
   ]
  },
  {
   "cell_type": "code",
   "execution_count": 43,
   "metadata": {
    "collapsed": false,
    "scrolled": true
   },
   "outputs": [
    {
     "name": "stderr",
     "output_type": "stream",
     "text": [
      "\n",
      "  0%|          | 0/200 [00:00<?, ?it/s]\u001b[A\n",
      "  0%|          | 1/200 [00:01<03:32,  1.07s/it]\u001b[A"
     ]
    },
    {
     "name": "stdout",
     "output_type": "stream",
     "text": [
      "Current MSE: 0.248505523994\n",
      "Current length scale: [9.22180435 8.63457714 8.8768144  8.34479211]\n"
     ]
    },
    {
     "name": "stderr",
     "output_type": "stream",
     "text": [
      "\n",
      "  1%|          | 2/200 [00:02<03:25,  1.04s/it]\u001b[A"
     ]
    },
    {
     "name": "stdout",
     "output_type": "stream",
     "text": [
      "Current MSE: 0.23854795483\n",
      "Current length scale: [9.22453794 8.18361774 9.92728989 8.5707394 ]\n"
     ]
    },
    {
     "name": "stderr",
     "output_type": "stream",
     "text": [
      "\n",
      "  2%|▏         | 3/200 [00:02<03:19,  1.01s/it]\u001b[A"
     ]
    },
    {
     "name": "stdout",
     "output_type": "stream",
     "text": [
      "Current MSE: 0.247151419798\n",
      "Current length scale: [8.86965543 8.00740242 9.87389388 8.64155665]\n"
     ]
    },
    {
     "name": "stderr",
     "output_type": "stream",
     "text": [
      "\n",
      "  2%|▏         | 4/200 [00:04<03:23,  1.04s/it]\u001b[A"
     ]
    },
    {
     "name": "stdout",
     "output_type": "stream",
     "text": [
      "Current MSE: 0.247532889398\n",
      "Current length scale: [ 8.44990289  9.37450713 10.35364773  9.25222766]\n"
     ]
    },
    {
     "name": "stderr",
     "output_type": "stream",
     "text": [
      "\n",
      "  2%|▎         | 5/200 [00:05<03:19,  1.02s/it]\u001b[A"
     ]
    },
    {
     "name": "stdout",
     "output_type": "stream",
     "text": [
      "Current MSE: 0.241683144485\n",
      "Current length scale: [ 8.70805845  9.78575138 11.2668108   8.6336337 ]\n"
     ]
    },
    {
     "name": "stderr",
     "output_type": "stream",
     "text": [
      "\n",
      "  3%|▎         | 6/200 [00:06<03:16,  1.01s/it]\u001b[A"
     ]
    },
    {
     "name": "stdout",
     "output_type": "stream",
     "text": [
      "Current MSE: 0.233416130629\n",
      "Current length scale: [ 8.68978897 10.50986971 12.51912204  7.90595551]\n"
     ]
    },
    {
     "name": "stderr",
     "output_type": "stream",
     "text": [
      "\n",
      "  4%|▎         | 7/200 [00:07<03:15,  1.01s/it]\u001b[A"
     ]
    },
    {
     "name": "stdout",
     "output_type": "stream",
     "text": [
      "Current MSE: 0.234898544562\n",
      "Current length scale: [ 8.98853708 11.36147891 12.93706929  7.97261231]\n"
     ]
    },
    {
     "name": "stderr",
     "output_type": "stream",
     "text": [
      "\n",
      "  4%|▍         | 8/200 [00:08<03:27,  1.08s/it]\u001b[A"
     ]
    },
    {
     "name": "stdout",
     "output_type": "stream",
     "text": [
      "Current MSE: 0.249833753362\n",
      "Current length scale: [ 9.25842478 12.26046569 11.75417902  7.55116153]\n"
     ]
    },
    {
     "name": "stderr",
     "output_type": "stream",
     "text": [
      "\n",
      "  4%|▍         | 9/200 [00:09<03:22,  1.06s/it]\u001b[A"
     ]
    },
    {
     "name": "stdout",
     "output_type": "stream",
     "text": [
      "Current MSE: 0.247957145048\n",
      "Current length scale: [ 9.53437014 13.05751281 11.9674816   7.90011072]\n"
     ]
    },
    {
     "name": "stderr",
     "output_type": "stream",
     "text": [
      "\n",
      "  5%|▌         | 10/200 [00:10<03:19,  1.05s/it]\u001b[A"
     ]
    },
    {
     "name": "stdout",
     "output_type": "stream",
     "text": [
      "Current MSE: 0.248852092099\n",
      "Current length scale: [ 9.23132842 12.9691229  11.75408828  8.96103199]\n"
     ]
    },
    {
     "name": "stderr",
     "output_type": "stream",
     "text": [
      "\n",
      "  6%|▌         | 11/200 [00:11<03:15,  1.03s/it]\u001b[A"
     ]
    },
    {
     "name": "stdout",
     "output_type": "stream",
     "text": [
      "Current MSE: 0.235518381732\n",
      "Current length scale: [ 9.78328066 11.67688715 12.25385092  9.16623922]\n"
     ]
    },
    {
     "name": "stderr",
     "output_type": "stream",
     "text": [
      "\n",
      "  6%|▌         | 12/200 [00:12<03:13,  1.03s/it]\u001b[A"
     ]
    },
    {
     "name": "stdout",
     "output_type": "stream",
     "text": [
      "Current MSE: 0.237608841922\n",
      "Current length scale: [10.1410339  10.92178822 10.60411816  9.29558972]\n"
     ]
    },
    {
     "name": "stderr",
     "output_type": "stream",
     "text": [
      "\n",
      "  6%|▋         | 13/200 [00:13<03:13,  1.03s/it]\u001b[A"
     ]
    },
    {
     "name": "stdout",
     "output_type": "stream",
     "text": [
      "Current MSE: 0.245357157951\n",
      "Current length scale: [10.56375074 11.6237009  11.37894935 10.99403226]\n"
     ]
    },
    {
     "name": "stderr",
     "output_type": "stream",
     "text": [
      "\n",
      "  7%|▋         | 14/200 [00:14<03:07,  1.01s/it]\u001b[A"
     ]
    },
    {
     "name": "stdout",
     "output_type": "stream",
     "text": [
      "Current MSE: 0.235520484589\n",
      "Current length scale: [10.89486206 11.00484605 10.91343292 12.07795963]\n"
     ]
    },
    {
     "name": "stderr",
     "output_type": "stream",
     "text": [
      "\n",
      "  8%|▊         | 15/200 [00:15<03:03,  1.01it/s]\u001b[A"
     ]
    },
    {
     "name": "stdout",
     "output_type": "stream",
     "text": [
      "Current MSE: 0.24145107726\n",
      "Current length scale: [11.54776581 10.98643284 11.66149953 11.68787381]\n"
     ]
    },
    {
     "name": "stderr",
     "output_type": "stream",
     "text": [
      "\n",
      "  8%|▊         | 16/200 [00:16<02:59,  1.03it/s]\u001b[A"
     ]
    },
    {
     "name": "stdout",
     "output_type": "stream",
     "text": [
      "Current MSE: 0.238947017081\n",
      "Current length scale: [ 9.86823694 11.66989546 11.94832223 11.22752404]\n"
     ]
    },
    {
     "name": "stderr",
     "output_type": "stream",
     "text": [
      "\n",
      "  8%|▊         | 17/200 [00:17<02:58,  1.02it/s]\u001b[A"
     ]
    },
    {
     "name": "stdout",
     "output_type": "stream",
     "text": [
      "Current MSE: 0.240866621537\n",
      "Current length scale: [ 9.53499301 11.28555496 12.42271544 10.57175433]\n"
     ]
    },
    {
     "name": "stderr",
     "output_type": "stream",
     "text": [
      "\n",
      "  9%|▉         | 18/200 [00:18<03:04,  1.01s/it]\u001b[A"
     ]
    },
    {
     "name": "stdout",
     "output_type": "stream",
     "text": [
      "Current MSE: 0.239992747366\n",
      "Current length scale: [10.08111972 11.39953726 13.3638851  12.07244712]\n"
     ]
    },
    {
     "name": "stderr",
     "output_type": "stream",
     "text": [
      "\n",
      " 10%|▉         | 19/200 [00:19<03:13,  1.07s/it]\u001b[A"
     ]
    },
    {
     "name": "stdout",
     "output_type": "stream",
     "text": [
      "Current MSE: 0.238663482095\n",
      "Current length scale: [ 9.86705469 11.88374243 12.29739491 13.55083282]\n"
     ]
    },
    {
     "name": "stderr",
     "output_type": "stream",
     "text": [
      "\n",
      " 10%|█         | 20/200 [00:20<03:16,  1.09s/it]\u001b[A"
     ]
    },
    {
     "name": "stdout",
     "output_type": "stream",
     "text": [
      "Current MSE: 0.230733293606\n",
      "Current length scale: [ 9.92856174 13.26800101 11.84504527 14.12587822]\n"
     ]
    },
    {
     "name": "stderr",
     "output_type": "stream",
     "text": [
      "\n",
      " 10%|█         | 21/200 [00:21<03:19,  1.12s/it]\u001b[A"
     ]
    },
    {
     "name": "stdout",
     "output_type": "stream",
     "text": [
      "Current MSE: 0.236748158087\n",
      "Current length scale: [10.28060047 14.67175287 12.4053175  14.34114912]\n"
     ]
    },
    {
     "name": "stderr",
     "output_type": "stream",
     "text": [
      "\n",
      " 11%|█         | 22/200 [00:22<03:14,  1.09s/it]\u001b[A"
     ]
    },
    {
     "name": "stdout",
     "output_type": "stream",
     "text": [
      "Current MSE: 0.239596321488\n",
      "Current length scale: [10.12035129 14.0548765  12.180601   14.76959234]\n"
     ]
    },
    {
     "name": "stderr",
     "output_type": "stream",
     "text": [
      "\n",
      " 12%|█▏        | 23/200 [00:23<03:10,  1.08s/it]\u001b[A"
     ]
    },
    {
     "name": "stdout",
     "output_type": "stream",
     "text": [
      "Current MSE: 0.23467906103\n",
      "Current length scale: [10.67985856 14.15721373 12.81216775 14.18807219]\n"
     ]
    },
    {
     "name": "stderr",
     "output_type": "stream",
     "text": [
      "\n",
      " 12%|█▏        | 24/200 [00:24<03:09,  1.07s/it]\u001b[A"
     ]
    },
    {
     "name": "stdout",
     "output_type": "stream",
     "text": [
      "Current MSE: 0.236970778665\n",
      "Current length scale: [10.42058109 13.65446864 12.97968013 15.17350085]\n"
     ]
    },
    {
     "name": "stderr",
     "output_type": "stream",
     "text": [
      "\n",
      " 12%|█▎        | 25/200 [00:26<03:08,  1.08s/it]\u001b[A"
     ]
    },
    {
     "name": "stdout",
     "output_type": "stream",
     "text": [
      "Current MSE: 0.235886278651\n",
      "Current length scale: [10.67054264 14.14152719 12.70731155 15.5274681 ]\n"
     ]
    },
    {
     "name": "stderr",
     "output_type": "stream",
     "text": [
      "\n",
      " 13%|█▎        | 26/200 [00:27<03:07,  1.08s/it]\u001b[A"
     ]
    },
    {
     "name": "stdout",
     "output_type": "stream",
     "text": [
      "Current MSE: 0.240321203567\n",
      "Current length scale: [10.25514413 14.75893623 12.92991357 16.83475466]\n"
     ]
    },
    {
     "name": "stderr",
     "output_type": "stream",
     "text": [
      "\n",
      " 14%|█▎        | 27/200 [00:28<03:04,  1.07s/it]\u001b[A"
     ]
    },
    {
     "name": "stdout",
     "output_type": "stream",
     "text": [
      "Current MSE: 0.229242451754\n",
      "Current length scale: [10.1751569  14.41343118 13.49484507 16.69608308]\n"
     ]
    },
    {
     "name": "stderr",
     "output_type": "stream",
     "text": [
      "\n",
      " 14%|█▍        | 28/200 [00:29<03:02,  1.06s/it]\u001b[A"
     ]
    },
    {
     "name": "stdout",
     "output_type": "stream",
     "text": [
      "Current MSE: 0.241076731224\n",
      "Current length scale: [10.45947718 14.22713578 14.64790107 17.0102378 ]\n"
     ]
    },
    {
     "name": "stderr",
     "output_type": "stream",
     "text": [
      "\n",
      " 14%|█▍        | 29/200 [00:30<03:04,  1.08s/it]\u001b[A"
     ]
    },
    {
     "name": "stdout",
     "output_type": "stream",
     "text": [
      "Current MSE: 0.244229988184\n",
      "Current length scale: [10.18627774 13.42800897 14.50653853 16.58124727]\n"
     ]
    },
    {
     "name": "stderr",
     "output_type": "stream",
     "text": [
      "\n",
      " 15%|█▌        | 30/200 [00:31<03:05,  1.09s/it]\u001b[A"
     ]
    },
    {
     "name": "stdout",
     "output_type": "stream",
     "text": [
      "Current MSE: 0.255355264576\n",
      "Current length scale: [ 8.43117976 12.65825518 16.76840656 16.92813934]\n"
     ]
    },
    {
     "name": "stderr",
     "output_type": "stream",
     "text": [
      "\n",
      " 16%|█▌        | 31/200 [00:32<03:01,  1.08s/it]\u001b[A"
     ]
    },
    {
     "name": "stdout",
     "output_type": "stream",
     "text": [
      "Current MSE: 0.234641849593\n",
      "Current length scale: [ 8.81047541 12.31855381 16.93073503 17.07528652]\n"
     ]
    },
    {
     "name": "stderr",
     "output_type": "stream",
     "text": [
      "\n",
      " 16%|█▌        | 32/200 [00:33<03:03,  1.09s/it]\u001b[A"
     ]
    },
    {
     "name": "stdout",
     "output_type": "stream",
     "text": [
      "Current MSE: 0.238786014906\n",
      "Current length scale: [ 8.37931806 10.82194174 18.38678478 16.98516605]\n"
     ]
    },
    {
     "name": "stderr",
     "output_type": "stream",
     "text": [
      "\n",
      " 16%|█▋        | 33/200 [00:34<03:00,  1.08s/it]\u001b[A"
     ]
    },
    {
     "name": "stdout",
     "output_type": "stream",
     "text": [
      "Current MSE: 0.241523560073\n",
      "Current length scale: [ 8.85073258 10.42567342 16.5910705  15.70783129]\n"
     ]
    },
    {
     "name": "stderr",
     "output_type": "stream",
     "text": [
      "\n",
      " 17%|█▋        | 34/200 [00:35<03:02,  1.10s/it]\u001b[A"
     ]
    },
    {
     "name": "stdout",
     "output_type": "stream",
     "text": [
      "Current MSE: 0.242976523215\n",
      "Current length scale: [ 9.31510116 10.31180785 17.79021358 15.38357469]\n"
     ]
    },
    {
     "name": "stderr",
     "output_type": "stream",
     "text": [
      "\n",
      " 18%|█▊        | 35/200 [00:36<03:03,  1.11s/it]\u001b[A"
     ]
    },
    {
     "name": "stdout",
     "output_type": "stream",
     "text": [
      "Current MSE: 0.232629670421\n",
      "Current length scale: [ 9.95273105 10.12500932 18.24493191 14.89647195]\n"
     ]
    },
    {
     "name": "stderr",
     "output_type": "stream",
     "text": [
      "\n",
      " 18%|█▊        | 36/200 [00:38<02:59,  1.10s/it]\u001b[A"
     ]
    },
    {
     "name": "stdout",
     "output_type": "stream",
     "text": [
      "Current MSE: 0.23824380783\n",
      "Current length scale: [ 9.97242229 11.66956458 18.65866001 14.58481439]\n"
     ]
    },
    {
     "name": "stderr",
     "output_type": "stream",
     "text": [
      "\n",
      " 18%|█▊        | 37/200 [00:39<02:56,  1.09s/it]\u001b[A"
     ]
    },
    {
     "name": "stdout",
     "output_type": "stream",
     "text": [
      "Current MSE: 0.238918520735\n",
      "Current length scale: [10.63647467 11.61729232 19.84759138 15.01078098]\n"
     ]
    },
    {
     "name": "stderr",
     "output_type": "stream",
     "text": [
      "\n",
      " 19%|█▉        | 38/200 [00:40<02:55,  1.09s/it]\u001b[A"
     ]
    },
    {
     "name": "stdout",
     "output_type": "stream",
     "text": [
      "Current MSE: 0.245768439203\n",
      "Current length scale: [10.53564149 11.55289376 19.03268161 14.3486423 ]\n"
     ]
    },
    {
     "name": "stderr",
     "output_type": "stream",
     "text": [
      "\n",
      " 20%|█▉        | 39/200 [00:41<02:57,  1.10s/it]\u001b[A"
     ]
    },
    {
     "name": "stdout",
     "output_type": "stream",
     "text": [
      "Current MSE: 0.241602916493\n",
      "Current length scale: [10.66392568 11.3775032  17.20131708 15.77114724]\n"
     ]
    },
    {
     "name": "stderr",
     "output_type": "stream",
     "text": [
      "\n",
      " 20%|██        | 40/200 [00:42<02:54,  1.09s/it]\u001b[A"
     ]
    },
    {
     "name": "stdout",
     "output_type": "stream",
     "text": [
      "Current MSE: 0.241062421651\n",
      "Current length scale: [ 9.79063776 11.72754206 18.09556025 14.90704812]\n"
     ]
    },
    {
     "name": "stderr",
     "output_type": "stream",
     "text": [
      "\n",
      " 20%|██        | 41/200 [00:43<02:51,  1.08s/it]\u001b[A"
     ]
    },
    {
     "name": "stdout",
     "output_type": "stream",
     "text": [
      "Current MSE: 0.233530791965\n",
      "Current length scale: [ 9.91109987 11.93180782 17.99700094 15.7268926 ]\n"
     ]
    },
    {
     "name": "stderr",
     "output_type": "stream",
     "text": [
      "\n",
      " 21%|██        | 42/200 [00:44<02:50,  1.08s/it]\u001b[A"
     ]
    },
    {
     "name": "stdout",
     "output_type": "stream",
     "text": [
      "Current MSE: 0.232778513492\n",
      "Current length scale: [ 8.91041524 10.72493061 19.56281492 15.60246981]\n"
     ]
    },
    {
     "name": "stderr",
     "output_type": "stream",
     "text": [
      "\n",
      " 22%|██▏       | 43/200 [00:45<02:49,  1.08s/it]\u001b[A"
     ]
    },
    {
     "name": "stdout",
     "output_type": "stream",
     "text": [
      "Current MSE: 0.23731293362\n",
      "Current length scale: [ 9.56451307 10.11066184 17.70699628 17.95952732]\n"
     ]
    },
    {
     "name": "stderr",
     "output_type": "stream",
     "text": [
      "\n",
      " 22%|██▏       | 44/200 [00:46<02:46,  1.07s/it]\u001b[A"
     ]
    },
    {
     "name": "stdout",
     "output_type": "stream",
     "text": [
      "Current MSE: 0.239379314064\n",
      "Current length scale: [ 9.27473597 10.51010256 19.71511608 19.20080753]\n"
     ]
    },
    {
     "name": "stderr",
     "output_type": "stream",
     "text": [
      "\n",
      " 22%|██▎       | 45/200 [00:47<02:45,  1.07s/it]\u001b[A"
     ]
    },
    {
     "name": "stdout",
     "output_type": "stream",
     "text": [
      "Current MSE: 0.237961965866\n",
      "Current length scale: [ 9.46485033 10.27112608 17.58329324 17.66570867]\n"
     ]
    },
    {
     "name": "stderr",
     "output_type": "stream",
     "text": [
      "\n",
      " 23%|██▎       | 46/200 [00:48<02:44,  1.07s/it]\u001b[A"
     ]
    },
    {
     "name": "stdout",
     "output_type": "stream",
     "text": [
      "Current MSE: 0.248959088839\n",
      "Current length scale: [ 9.0967118   8.4762898  19.34636083 16.08362165]\n"
     ]
    },
    {
     "name": "stderr",
     "output_type": "stream",
     "text": [
      "\n",
      " 24%|██▎       | 47/200 [00:49<02:43,  1.07s/it]\u001b[A"
     ]
    },
    {
     "name": "stdout",
     "output_type": "stream",
     "text": [
      "Current MSE: 0.246533889704\n",
      "Current length scale: [ 9.01252176  9.37839398 21.94854026 15.6165836 ]\n"
     ]
    },
    {
     "name": "stderr",
     "output_type": "stream",
     "text": [
      "\n",
      " 24%|██▍       | 48/200 [00:50<02:42,  1.07s/it]\u001b[A"
     ]
    },
    {
     "name": "stdout",
     "output_type": "stream",
     "text": [
      "Current MSE: 0.244825615089\n",
      "Current length scale: [ 8.47729674  8.90937888 23.33415428 15.19125277]\n"
     ]
    },
    {
     "name": "stderr",
     "output_type": "stream",
     "text": [
      "\n",
      " 24%|██▍       | 49/200 [00:52<02:44,  1.09s/it]\u001b[A"
     ]
    },
    {
     "name": "stdout",
     "output_type": "stream",
     "text": [
      "Current MSE: 0.237007980608\n",
      "Current length scale: [ 9.22548055  8.89229932 22.40848205 16.33111528]\n"
     ]
    },
    {
     "name": "stderr",
     "output_type": "stream",
     "text": [
      "\n",
      " 25%|██▌       | 50/200 [00:53<02:42,  1.08s/it]\u001b[A"
     ]
    },
    {
     "name": "stdout",
     "output_type": "stream",
     "text": [
      "Current MSE: 0.247462794221\n",
      "Current length scale: [ 9.16965003  8.46142582 22.40082239 15.66586335]\n"
     ]
    },
    {
     "name": "stderr",
     "output_type": "stream",
     "text": [
      "\n",
      " 26%|██▌       | 51/200 [00:54<02:40,  1.08s/it]\u001b[A"
     ]
    },
    {
     "name": "stdout",
     "output_type": "stream",
     "text": [
      "Current MSE: 0.236097010926\n",
      "Current length scale: [ 8.5382936  10.84944747 21.91953095 15.30266445]\n"
     ]
    },
    {
     "name": "stderr",
     "output_type": "stream",
     "text": [
      "\n",
      " 26%|██▌       | 52/200 [00:55<02:38,  1.07s/it]\u001b[A"
     ]
    },
    {
     "name": "stdout",
     "output_type": "stream",
     "text": [
      "Current MSE: 0.240291135449\n",
      "Current length scale: [ 9.13881274 11.21847364 19.91612345 16.40121631]\n"
     ]
    },
    {
     "name": "stderr",
     "output_type": "stream",
     "text": [
      "\n",
      " 26%|██▋       | 53/200 [00:56<02:36,  1.07s/it]\u001b[A"
     ]
    },
    {
     "name": "stdout",
     "output_type": "stream",
     "text": [
      "Current MSE: 0.235165278244\n",
      "Current length scale: [ 8.32570257 11.62472733 21.40048625 16.19513594]\n"
     ]
    },
    {
     "name": "stderr",
     "output_type": "stream",
     "text": [
      "\n",
      " 27%|██▋       | 54/200 [00:57<02:31,  1.04s/it]\u001b[A"
     ]
    },
    {
     "name": "stdout",
     "output_type": "stream",
     "text": [
      "Current MSE: 0.23196640369\n",
      "Current length scale: [ 8.48970433 11.9089644  19.14643493 15.74409351]\n"
     ]
    },
    {
     "name": "stderr",
     "output_type": "stream",
     "text": [
      "\n",
      " 28%|██▊       | 55/200 [00:58<02:27,  1.02s/it]\u001b[A"
     ]
    },
    {
     "name": "stdout",
     "output_type": "stream",
     "text": [
      "Current MSE: 0.235185825243\n",
      "Current length scale: [ 8.66577193 12.19393034 20.35236229 14.13587376]\n"
     ]
    },
    {
     "name": "stderr",
     "output_type": "stream",
     "text": [
      "\n",
      " 28%|██▊       | 56/200 [00:59<02:23,  1.00it/s]\u001b[A"
     ]
    },
    {
     "name": "stdout",
     "output_type": "stream",
     "text": [
      "Current MSE: 0.236446589036\n",
      "Current length scale: [ 7.81806751 13.53399732 20.18780827 14.32656916]\n"
     ]
    },
    {
     "name": "stderr",
     "output_type": "stream",
     "text": [
      "\n",
      " 28%|██▊       | 57/200 [01:00<02:20,  1.01it/s]\u001b[A"
     ]
    },
    {
     "name": "stdout",
     "output_type": "stream",
     "text": [
      "Current MSE: 0.240816609065\n",
      "Current length scale: [ 8.62005752 14.18956855 19.35560457 13.53300532]\n"
     ]
    },
    {
     "name": "stderr",
     "output_type": "stream",
     "text": [
      "\n",
      " 29%|██▉       | 58/200 [01:01<02:19,  1.02it/s]\u001b[A"
     ]
    },
    {
     "name": "stdout",
     "output_type": "stream",
     "text": [
      "Current MSE: 0.241448024294\n",
      "Current length scale: [ 8.78407843 14.61384513 18.82310568 15.79219328]\n"
     ]
    },
    {
     "name": "stderr",
     "output_type": "stream",
     "text": [
      "\n",
      " 30%|██▉       | 59/200 [01:02<02:18,  1.02it/s]\u001b[A"
     ]
    },
    {
     "name": "stdout",
     "output_type": "stream",
     "text": [
      "Current MSE: 0.248956085549\n",
      "Current length scale: [ 8.57319446 15.09658924 20.06470972 15.4518416 ]\n"
     ]
    },
    {
     "name": "stderr",
     "output_type": "stream",
     "text": [
      "\n",
      " 30%|███       | 60/200 [01:03<02:16,  1.03it/s]\u001b[A"
     ]
    },
    {
     "name": "stdout",
     "output_type": "stream",
     "text": [
      "Current MSE: 0.247205330664\n",
      "Current length scale: [ 9.29595085 15.29532306 19.954281   15.73440756]\n"
     ]
    },
    {
     "name": "stderr",
     "output_type": "stream",
     "text": [
      "\n",
      " 30%|███       | 61/200 [01:04<02:14,  1.03it/s]\u001b[A"
     ]
    },
    {
     "name": "stdout",
     "output_type": "stream",
     "text": [
      "Current MSE: 0.25415630911\n",
      "Current length scale: [ 9.81830475 13.57066035 20.51347671 15.20829858]\n"
     ]
    },
    {
     "name": "stderr",
     "output_type": "stream",
     "text": [
      "\n",
      " 31%|███       | 62/200 [01:04<02:13,  1.03it/s]\u001b[A"
     ]
    },
    {
     "name": "stdout",
     "output_type": "stream",
     "text": [
      "Current MSE: 0.241274959091\n",
      "Current length scale: [10.52116348 13.13043771 18.70356328 15.72541284]\n"
     ]
    },
    {
     "name": "stderr",
     "output_type": "stream",
     "text": [
      "\n",
      " 32%|███▏      | 63/200 [01:05<02:12,  1.03it/s]\u001b[A"
     ]
    },
    {
     "name": "stdout",
     "output_type": "stream",
     "text": [
      "Current MSE: 0.24673050255\n",
      "Current length scale: [10.44251361 12.86622533 17.55389822 16.14333189]\n"
     ]
    },
    {
     "name": "stderr",
     "output_type": "stream",
     "text": [
      "\n",
      " 32%|███▏      | 64/200 [01:06<02:10,  1.04it/s]\u001b[A"
     ]
    },
    {
     "name": "stdout",
     "output_type": "stream",
     "text": [
      "Current MSE: 0.237626342633\n",
      "Current length scale: [11.02417785 11.73679652 17.69060731 18.77720613]\n"
     ]
    },
    {
     "name": "stderr",
     "output_type": "stream",
     "text": [
      "\n",
      " 32%|███▎      | 65/200 [01:08<02:15,  1.00s/it]\u001b[A"
     ]
    },
    {
     "name": "stdout",
     "output_type": "stream",
     "text": [
      "Current MSE: 0.245992168176\n",
      "Current length scale: [10.47999488 10.85176644 17.22818478 18.99505405]\n"
     ]
    },
    {
     "name": "stderr",
     "output_type": "stream",
     "text": [
      "\n",
      " 33%|███▎      | 66/200 [01:09<02:19,  1.04s/it]\u001b[A"
     ]
    },
    {
     "name": "stdout",
     "output_type": "stream",
     "text": [
      "Current MSE: 0.236312318275\n",
      "Current length scale: [10.82252082  9.89821789 16.18149849 18.48160952]\n"
     ]
    },
    {
     "name": "stderr",
     "output_type": "stream",
     "text": [
      "\n",
      " 34%|███▎      | 67/200 [01:10<02:20,  1.06s/it]\u001b[A"
     ]
    },
    {
     "name": "stdout",
     "output_type": "stream",
     "text": [
      "Current MSE: 0.246860790976\n",
      "Current length scale: [10.44593128 10.71732334 16.16487233 18.58967877]\n"
     ]
    },
    {
     "name": "stderr",
     "output_type": "stream",
     "text": [
      "\n",
      " 34%|███▍      | 68/200 [01:11<02:20,  1.06s/it]\u001b[A"
     ]
    },
    {
     "name": "stdout",
     "output_type": "stream",
     "text": [
      "Current MSE: 0.242549290638\n",
      "Current length scale: [11.32781997 10.56797275 17.23509162 15.93711103]\n"
     ]
    },
    {
     "name": "stderr",
     "output_type": "stream",
     "text": [
      "\n",
      " 34%|███▍      | 69/200 [01:12<02:18,  1.06s/it]\u001b[A"
     ]
    },
    {
     "name": "stdout",
     "output_type": "stream",
     "text": [
      "Current MSE: 0.247315658261\n",
      "Current length scale: [11.85125854  9.79352999 16.8327357  14.60376334]\n"
     ]
    },
    {
     "name": "stderr",
     "output_type": "stream",
     "text": [
      "\n",
      " 35%|███▌      | 70/200 [01:13<02:15,  1.05s/it]\u001b[A"
     ]
    },
    {
     "name": "stdout",
     "output_type": "stream",
     "text": [
      "Current MSE: 0.24227194014\n",
      "Current length scale: [10.9406192   9.99330284 16.81586243 15.79948909]\n"
     ]
    },
    {
     "name": "stderr",
     "output_type": "stream",
     "text": [
      "\n",
      " 36%|███▌      | 71/200 [01:14<02:14,  1.04s/it]\u001b[A"
     ]
    },
    {
     "name": "stdout",
     "output_type": "stream",
     "text": [
      "Current MSE: 0.242641152596\n",
      "Current length scale: [10.62614016 10.72203507 16.72956089 15.27621665]\n"
     ]
    },
    {
     "name": "stderr",
     "output_type": "stream",
     "text": [
      "\n",
      " 36%|███▌      | 72/200 [01:15<02:13,  1.04s/it]\u001b[A"
     ]
    },
    {
     "name": "stdout",
     "output_type": "stream",
     "text": [
      "Current MSE: 0.245575594863\n",
      "Current length scale: [10.05823577 10.06282302 17.44498878 14.86708103]\n"
     ]
    },
    {
     "name": "stderr",
     "output_type": "stream",
     "text": [
      "\n",
      " 36%|███▋      | 73/200 [01:16<02:11,  1.04s/it]\u001b[A"
     ]
    },
    {
     "name": "stdout",
     "output_type": "stream",
     "text": [
      "Current MSE: 0.241810144504\n",
      "Current length scale: [10.39608255 10.87174263 18.46637815 14.09056862]\n"
     ]
    },
    {
     "name": "stderr",
     "output_type": "stream",
     "text": [
      "\n",
      " 37%|███▋      | 74/200 [01:17<02:10,  1.04s/it]\u001b[A"
     ]
    },
    {
     "name": "stdout",
     "output_type": "stream",
     "text": [
      "Current MSE: 0.235360727983\n",
      "Current length scale: [11.10742294 10.51874719 17.70992149 13.89635008]\n"
     ]
    },
    {
     "name": "stderr",
     "output_type": "stream",
     "text": [
      "\n",
      " 38%|███▊      | 75/200 [01:18<02:09,  1.03s/it]\u001b[A"
     ]
    },
    {
     "name": "stdout",
     "output_type": "stream",
     "text": [
      "Current MSE: 0.240801544179\n",
      "Current length scale: [11.60746974 11.07352354 16.49487098 15.27226067]\n"
     ]
    },
    {
     "name": "stderr",
     "output_type": "stream",
     "text": [
      "\n",
      " 38%|███▊      | 76/200 [01:19<02:10,  1.05s/it]\u001b[A"
     ]
    },
    {
     "name": "stdout",
     "output_type": "stream",
     "text": [
      "Current MSE: 0.238464540979\n",
      "Current length scale: [10.97227026 13.0591541  16.84557504 15.97206581]\n"
     ]
    },
    {
     "name": "stderr",
     "output_type": "stream",
     "text": [
      "\n",
      " 38%|███▊      | 77/200 [01:20<02:09,  1.06s/it]\u001b[A"
     ]
    },
    {
     "name": "stdout",
     "output_type": "stream",
     "text": [
      "Current MSE: 0.237983828347\n",
      "Current length scale: [10.81443141 11.78616975 17.77344295 15.57099437]\n"
     ]
    },
    {
     "name": "stderr",
     "output_type": "stream",
     "text": [
      "\n",
      " 39%|███▉      | 78/200 [01:21<02:08,  1.05s/it]\u001b[A"
     ]
    },
    {
     "name": "stdout",
     "output_type": "stream",
     "text": [
      "Current MSE: 0.246777158528\n",
      "Current length scale: [ 9.46669743 13.38418495 15.98931129 15.68223943]\n"
     ]
    },
    {
     "name": "stderr",
     "output_type": "stream",
     "text": [
      "\n",
      " 40%|███▉      | 79/200 [01:22<02:07,  1.05s/it]\u001b[A"
     ]
    },
    {
     "name": "stdout",
     "output_type": "stream",
     "text": [
      "Current MSE: 0.239945728117\n",
      "Current length scale: [ 9.227278   13.70270459 16.49246332 16.26786002]\n"
     ]
    },
    {
     "name": "stderr",
     "output_type": "stream",
     "text": [
      "\n",
      " 40%|████      | 80/200 [01:23<02:04,  1.04s/it]\u001b[A"
     ]
    },
    {
     "name": "stdout",
     "output_type": "stream",
     "text": [
      "Current MSE: 0.240927304238\n",
      "Current length scale: [ 9.02772367 13.56086791 16.807043   15.54648887]\n"
     ]
    },
    {
     "name": "stderr",
     "output_type": "stream",
     "text": [
      "\n",
      " 40%|████      | 81/200 [01:24<02:01,  1.02s/it]\u001b[A"
     ]
    },
    {
     "name": "stdout",
     "output_type": "stream",
     "text": [
      "Current MSE: 0.24409766354\n",
      "Current length scale: [ 9.20473762 12.6946277  16.7118739  15.16253356]\n"
     ]
    },
    {
     "name": "stderr",
     "output_type": "stream",
     "text": [
      "\n",
      " 41%|████      | 82/200 [01:25<01:58,  1.00s/it]\u001b[A"
     ]
    },
    {
     "name": "stdout",
     "output_type": "stream",
     "text": [
      "Current MSE: 0.237657014699\n",
      "Current length scale: [ 8.96447771 12.61846127 16.01931798 15.94575547]\n"
     ]
    },
    {
     "name": "stderr",
     "output_type": "stream",
     "text": [
      "\n",
      " 42%|████▏     | 83/200 [01:26<01:55,  1.01it/s]\u001b[A"
     ]
    },
    {
     "name": "stdout",
     "output_type": "stream",
     "text": [
      "Current MSE: 0.249663773667\n",
      "Current length scale: [ 9.57079046 12.8027814  16.44342976 16.49413434]\n"
     ]
    },
    {
     "name": "stderr",
     "output_type": "stream",
     "text": [
      "\n",
      " 42%|████▏     | 84/200 [01:27<01:54,  1.01it/s]\u001b[A"
     ]
    },
    {
     "name": "stdout",
     "output_type": "stream",
     "text": [
      "Current MSE: 0.243200129916\n",
      "Current length scale: [ 8.87405119 12.95257288 15.66118878 16.05808797]\n"
     ]
    },
    {
     "name": "stderr",
     "output_type": "stream",
     "text": [
      "\n",
      " 42%|████▎     | 85/200 [01:28<01:52,  1.02it/s]\u001b[A"
     ]
    },
    {
     "name": "stdout",
     "output_type": "stream",
     "text": [
      "Current MSE: 0.253228247753\n",
      "Current length scale: [ 9.52988321 13.04425743 15.14029308 15.96950091]\n"
     ]
    },
    {
     "name": "stderr",
     "output_type": "stream",
     "text": [
      "\n",
      " 43%|████▎     | 86/200 [01:29<01:52,  1.01it/s]\u001b[A"
     ]
    },
    {
     "name": "stdout",
     "output_type": "stream",
     "text": [
      "Current MSE: 0.243980642222\n",
      "Current length scale: [10.24199661 12.34916315 15.09877311 15.60696529]\n"
     ]
    },
    {
     "name": "stderr",
     "output_type": "stream",
     "text": [
      "\n",
      " 44%|████▎     | 87/200 [01:30<01:50,  1.02it/s]\u001b[A"
     ]
    },
    {
     "name": "stdout",
     "output_type": "stream",
     "text": [
      "Current MSE: 0.24044232632\n",
      "Current length scale: [ 9.47194322 12.8893408  15.16729151 15.09469549]\n"
     ]
    },
    {
     "name": "stderr",
     "output_type": "stream",
     "text": [
      "\n",
      " 44%|████▍     | 88/200 [01:31<01:50,  1.01it/s]\u001b[A"
     ]
    },
    {
     "name": "stdout",
     "output_type": "stream",
     "text": [
      "Current MSE: 0.235089238348\n",
      "Current length scale: [ 9.32979771 12.83934966 15.50881159 14.69531703]\n"
     ]
    },
    {
     "name": "stderr",
     "output_type": "stream",
     "text": [
      "\n",
      " 44%|████▍     | 89/200 [01:32<01:48,  1.02it/s]\u001b[A"
     ]
    },
    {
     "name": "stdout",
     "output_type": "stream",
     "text": [
      "Current MSE: 0.251966707244\n",
      "Current length scale: [ 9.08768739 13.21440509 15.32281465 15.5110367 ]\n"
     ]
    },
    {
     "name": "stderr",
     "output_type": "stream",
     "text": [
      "\n",
      " 45%|████▌     | 90/200 [01:33<01:47,  1.03it/s]\u001b[A"
     ]
    },
    {
     "name": "stdout",
     "output_type": "stream",
     "text": [
      "Current MSE: 0.240124420345\n",
      "Current length scale: [ 8.78471271 13.16426208 15.83794085 15.59590207]\n"
     ]
    },
    {
     "name": "stderr",
     "output_type": "stream",
     "text": [
      "\n",
      " 46%|████▌     | 91/200 [01:34<01:46,  1.03it/s]\u001b[A"
     ]
    },
    {
     "name": "stdout",
     "output_type": "stream",
     "text": [
      "Current MSE: 0.245414886962\n",
      "Current length scale: [ 9.34299898 14.5075858  16.7390882  16.66158917]\n"
     ]
    },
    {
     "name": "stderr",
     "output_type": "stream",
     "text": [
      "\n",
      " 46%|████▌     | 92/200 [01:35<01:44,  1.03it/s]\u001b[A"
     ]
    },
    {
     "name": "stdout",
     "output_type": "stream",
     "text": [
      "Current MSE: 0.244912875703\n",
      "Current length scale: [ 9.78943987 14.07031301 16.05732765 14.53413201]\n"
     ]
    },
    {
     "name": "stderr",
     "output_type": "stream",
     "text": [
      "\n",
      " 46%|████▋     | 93/200 [01:36<01:43,  1.03it/s]\u001b[A"
     ]
    },
    {
     "name": "stdout",
     "output_type": "stream",
     "text": [
      "Current MSE: 0.242493877945\n",
      "Current length scale: [ 9.11588557 14.45806238 16.86994154 14.63129683]\n"
     ]
    },
    {
     "name": "stderr",
     "output_type": "stream",
     "text": [
      "\n",
      " 47%|████▋     | 94/200 [01:37<01:42,  1.03it/s]\u001b[A"
     ]
    },
    {
     "name": "stdout",
     "output_type": "stream",
     "text": [
      "Current MSE: 0.240949337588\n",
      "Current length scale: [ 8.62206152 15.61517486 18.51921189 15.82502541]\n"
     ]
    },
    {
     "name": "stderr",
     "output_type": "stream",
     "text": [
      "\n",
      " 48%|████▊     | 95/200 [01:38<01:41,  1.04it/s]\u001b[A"
     ]
    },
    {
     "name": "stdout",
     "output_type": "stream",
     "text": [
      "Current MSE: 0.233893063611\n",
      "Current length scale: [ 8.2477839  15.5762547  19.27015343 16.62413655]\n"
     ]
    },
    {
     "name": "stderr",
     "output_type": "stream",
     "text": [
      "\n",
      " 48%|████▊     | 96/200 [01:39<01:39,  1.04it/s]\u001b[A"
     ]
    },
    {
     "name": "stdout",
     "output_type": "stream",
     "text": [
      "Current MSE: 0.235949675684\n",
      "Current length scale: [ 9.23505271 15.44467642 19.69689906 17.66142355]\n"
     ]
    },
    {
     "name": "stderr",
     "output_type": "stream",
     "text": [
      "\n",
      " 48%|████▊     | 97/200 [01:40<01:39,  1.04it/s]\u001b[A"
     ]
    },
    {
     "name": "stdout",
     "output_type": "stream",
     "text": [
      "Current MSE: 0.243516183099\n",
      "Current length scale: [ 9.40310725 15.09489733 18.73135731 17.03571709]\n"
     ]
    },
    {
     "name": "stderr",
     "output_type": "stream",
     "text": [
      "\n",
      " 49%|████▉     | 98/200 [01:41<01:38,  1.03it/s]\u001b[A"
     ]
    },
    {
     "name": "stdout",
     "output_type": "stream",
     "text": [
      "Current MSE: 0.242424737125\n",
      "Current length scale: [ 9.94911026 14.17335713 20.45859161 17.38265988]\n"
     ]
    },
    {
     "name": "stderr",
     "output_type": "stream",
     "text": [
      "\n",
      " 50%|████▉     | 99/200 [01:42<01:38,  1.03it/s]\u001b[A"
     ]
    },
    {
     "name": "stdout",
     "output_type": "stream",
     "text": [
      "Current MSE: 0.247194727238\n",
      "Current length scale: [ 9.54135141 13.49044604 18.55401697 17.58076556]\n"
     ]
    },
    {
     "name": "stderr",
     "output_type": "stream",
     "text": [
      "\n",
      " 50%|█████     | 100/200 [01:43<01:37,  1.03it/s]\u001b[A"
     ]
    },
    {
     "name": "stdout",
     "output_type": "stream",
     "text": [
      "Current MSE: 0.233480796491\n",
      "Current length scale: [ 9.52471019 13.28843997 17.16988684 17.72770907]\n"
     ]
    },
    {
     "name": "stderr",
     "output_type": "stream",
     "text": [
      "\n",
      " 50%|█████     | 101/200 [01:44<01:36,  1.03it/s]\u001b[A"
     ]
    },
    {
     "name": "stdout",
     "output_type": "stream",
     "text": [
      "Current MSE: 0.23811454869\n",
      "Current length scale: [ 9.15510486 13.43784103 16.30616456 17.27662641]\n"
     ]
    },
    {
     "name": "stderr",
     "output_type": "stream",
     "text": [
      "\n",
      " 51%|█████     | 102/200 [01:45<01:35,  1.03it/s]\u001b[A"
     ]
    },
    {
     "name": "stdout",
     "output_type": "stream",
     "text": [
      "Current MSE: 0.244968751021\n",
      "Current length scale: [ 9.74093817 13.41218287 18.13591166 17.15459796]\n"
     ]
    },
    {
     "name": "stderr",
     "output_type": "stream",
     "text": [
      "\n",
      " 52%|█████▏    | 103/200 [01:46<01:34,  1.03it/s]\u001b[A"
     ]
    },
    {
     "name": "stdout",
     "output_type": "stream",
     "text": [
      "Current MSE: 0.229869820367\n",
      "Current length scale: [ 9.4163024  14.3226149  20.02915778 17.59485037]\n"
     ]
    },
    {
     "name": "stderr",
     "output_type": "stream",
     "text": [
      "\n",
      " 52%|█████▏    | 104/200 [01:47<01:33,  1.03it/s]\u001b[A"
     ]
    },
    {
     "name": "stdout",
     "output_type": "stream",
     "text": [
      "Current MSE: 0.237546222105\n",
      "Current length scale: [ 9.11110978 14.11946648 18.09427161 17.43749111]\n"
     ]
    },
    {
     "name": "stderr",
     "output_type": "stream",
     "text": [
      "\n",
      " 52%|█████▎    | 105/200 [01:48<01:32,  1.03it/s]\u001b[A"
     ]
    },
    {
     "name": "stdout",
     "output_type": "stream",
     "text": [
      "Current MSE: 0.241984223837\n",
      "Current length scale: [ 9.01707748 13.42607889 21.42365167 16.55498723]\n"
     ]
    },
    {
     "name": "stderr",
     "output_type": "stream",
     "text": [
      "\n",
      " 53%|█████▎    | 106/200 [01:49<01:30,  1.04it/s]\u001b[A"
     ]
    },
    {
     "name": "stdout",
     "output_type": "stream",
     "text": [
      "Current MSE: 0.240341621495\n",
      "Current length scale: [ 8.91921541 12.86711184 20.84893051 17.74330274]\n"
     ]
    },
    {
     "name": "stderr",
     "output_type": "stream",
     "text": [
      "\n",
      " 54%|█████▎    | 107/200 [01:49<01:29,  1.04it/s]\u001b[A"
     ]
    },
    {
     "name": "stdout",
     "output_type": "stream",
     "text": [
      "Current MSE: 0.237330765468\n",
      "Current length scale: [11.26476278 12.91892122 19.9228769  18.73791107]\n"
     ]
    },
    {
     "name": "stderr",
     "output_type": "stream",
     "text": [
      "\n",
      " 54%|█████▍    | 108/200 [01:50<01:29,  1.03it/s]\u001b[A"
     ]
    },
    {
     "name": "stdout",
     "output_type": "stream",
     "text": [
      "Current MSE: 0.236485262238\n",
      "Current length scale: [11.08962845 12.46738134 20.39161134 17.68661177]\n"
     ]
    },
    {
     "name": "stderr",
     "output_type": "stream",
     "text": [
      "\n",
      " 55%|█████▍    | 109/200 [01:51<01:28,  1.03it/s]\u001b[A"
     ]
    },
    {
     "name": "stdout",
     "output_type": "stream",
     "text": [
      "Current MSE: 0.242684213306\n",
      "Current length scale: [10.46783072 11.18275534 21.85770016 15.93795193]\n"
     ]
    },
    {
     "name": "stderr",
     "output_type": "stream",
     "text": [
      "\n",
      " 55%|█████▌    | 110/200 [01:52<01:27,  1.03it/s]\u001b[A"
     ]
    },
    {
     "name": "stdout",
     "output_type": "stream",
     "text": [
      "Current MSE: 0.23058561676\n",
      "Current length scale: [ 9.85844053 11.61591635 22.44133367 15.75298884]\n"
     ]
    },
    {
     "name": "stderr",
     "output_type": "stream",
     "text": [
      "\n",
      " 56%|█████▌    | 111/200 [01:53<01:26,  1.03it/s]\u001b[A"
     ]
    },
    {
     "name": "stdout",
     "output_type": "stream",
     "text": [
      "Current MSE: 0.243057897598\n",
      "Current length scale: [ 9.74314166 11.74775877 21.32213577 17.11146082]\n"
     ]
    },
    {
     "name": "stderr",
     "output_type": "stream",
     "text": [
      "\n",
      " 56%|█████▌    | 112/200 [01:54<01:25,  1.03it/s]\u001b[A"
     ]
    },
    {
     "name": "stdout",
     "output_type": "stream",
     "text": [
      "Current MSE: 0.245182261973\n",
      "Current length scale: [10.15321197 11.84257703 21.48917501 16.58028785]\n"
     ]
    },
    {
     "name": "stderr",
     "output_type": "stream",
     "text": [
      "\n",
      " 56%|█████▋    | 113/200 [01:55<01:24,  1.03it/s]\u001b[A"
     ]
    },
    {
     "name": "stdout",
     "output_type": "stream",
     "text": [
      "Current MSE: 0.238025724247\n",
      "Current length scale: [10.2040862  12.20252318 21.89562485 16.43560969]\n"
     ]
    },
    {
     "name": "stderr",
     "output_type": "stream",
     "text": [
      "\n",
      " 57%|█████▋    | 114/200 [01:56<01:22,  1.04it/s]\u001b[A"
     ]
    },
    {
     "name": "stdout",
     "output_type": "stream",
     "text": [
      "Current MSE: 0.242111764986\n",
      "Current length scale: [10.22395804 11.47711452 21.81806839 15.56016581]\n"
     ]
    },
    {
     "name": "stderr",
     "output_type": "stream",
     "text": [
      "\n",
      " 57%|█████▊    | 115/200 [01:57<01:21,  1.04it/s]\u001b[A"
     ]
    },
    {
     "name": "stdout",
     "output_type": "stream",
     "text": [
      "Current MSE: 0.22890999236\n",
      "Current length scale: [11.14386663 10.44909224 23.39277333 15.2823296 ]\n"
     ]
    },
    {
     "name": "stderr",
     "output_type": "stream",
     "text": [
      "\n",
      " 58%|█████▊    | 116/200 [01:58<01:20,  1.04it/s]\u001b[A"
     ]
    },
    {
     "name": "stdout",
     "output_type": "stream",
     "text": [
      "Current MSE: 0.24304043647\n",
      "Current length scale: [10.39429287  9.76515319 22.81477051 16.00619794]\n"
     ]
    },
    {
     "name": "stderr",
     "output_type": "stream",
     "text": [
      "\n",
      " 58%|█████▊    | 117/200 [01:59<01:20,  1.03it/s]\u001b[A"
     ]
    },
    {
     "name": "stdout",
     "output_type": "stream",
     "text": [
      "Current MSE: 0.243609231208\n",
      "Current length scale: [10.76098507 10.43886379 23.86259659 15.42527938]\n"
     ]
    },
    {
     "name": "stderr",
     "output_type": "stream",
     "text": [
      "\n",
      " 59%|█████▉    | 118/200 [02:00<01:19,  1.04it/s]\u001b[A"
     ]
    },
    {
     "name": "stdout",
     "output_type": "stream",
     "text": [
      "Current MSE: 0.245462485389\n",
      "Current length scale: [11.28092735  8.86119509 24.51583414 14.24918987]\n"
     ]
    },
    {
     "name": "stderr",
     "output_type": "stream",
     "text": [
      "\n",
      " 60%|█████▉    | 119/200 [02:01<01:18,  1.04it/s]\u001b[A"
     ]
    },
    {
     "name": "stdout",
     "output_type": "stream",
     "text": [
      "Current MSE: 0.245513667488\n",
      "Current length scale: [11.38384202  9.10045136 25.02717405 13.25183457]\n"
     ]
    },
    {
     "name": "stderr",
     "output_type": "stream",
     "text": [
      "\n",
      " 60%|██████    | 120/200 [02:02<01:17,  1.04it/s]\u001b[A"
     ]
    },
    {
     "name": "stdout",
     "output_type": "stream",
     "text": [
      "Current MSE: 0.234093682917\n",
      "Current length scale: [10.69007286  9.66114499 23.70576343 13.29581955]\n"
     ]
    },
    {
     "name": "stderr",
     "output_type": "stream",
     "text": [
      "\n",
      " 60%|██████    | 121/200 [02:03<01:15,  1.04it/s]\u001b[A"
     ]
    },
    {
     "name": "stdout",
     "output_type": "stream",
     "text": [
      "Current MSE: 0.236374867387\n",
      "Current length scale: [10.9141093   9.56558001 22.89617284 14.67936492]\n"
     ]
    },
    {
     "name": "stderr",
     "output_type": "stream",
     "text": [
      "\n",
      " 61%|██████    | 122/200 [02:04<01:15,  1.03it/s]\u001b[A"
     ]
    },
    {
     "name": "stdout",
     "output_type": "stream",
     "text": [
      "Current MSE: 0.230770532546\n",
      "Current length scale: [11.62322658  9.60674727 19.28207838 16.24914822]\n"
     ]
    },
    {
     "name": "stderr",
     "output_type": "stream",
     "text": [
      "\n",
      " 62%|██████▏   | 123/200 [02:05<01:14,  1.04it/s]\u001b[A"
     ]
    },
    {
     "name": "stdout",
     "output_type": "stream",
     "text": [
      "Current MSE: 0.239919589692\n",
      "Current length scale: [11.60839402  9.32174734 19.54754044 18.2275913 ]\n"
     ]
    },
    {
     "name": "stderr",
     "output_type": "stream",
     "text": [
      "\n",
      " 62%|██████▏   | 124/200 [02:06<01:13,  1.04it/s]\u001b[A"
     ]
    },
    {
     "name": "stdout",
     "output_type": "stream",
     "text": [
      "Current MSE: 0.231663287259\n",
      "Current length scale: [12.96470525  9.25073778 20.87073326 18.52997184]\n"
     ]
    },
    {
     "name": "stderr",
     "output_type": "stream",
     "text": [
      "\n",
      " 62%|██████▎   | 125/200 [02:07<01:12,  1.04it/s]\u001b[A"
     ]
    },
    {
     "name": "stdout",
     "output_type": "stream",
     "text": [
      "Current MSE: 0.228454145194\n",
      "Current length scale: [12.92016808 10.24711208 21.77659862 18.74085083]\n"
     ]
    },
    {
     "name": "stderr",
     "output_type": "stream",
     "text": [
      "\n",
      " 63%|██████▎   | 126/200 [02:08<01:11,  1.04it/s]\u001b[A"
     ]
    },
    {
     "name": "stdout",
     "output_type": "stream",
     "text": [
      "Current MSE: 0.246352563134\n",
      "Current length scale: [12.36758591 11.31589071 18.38620311 21.03915072]\n"
     ]
    },
    {
     "name": "stderr",
     "output_type": "stream",
     "text": [
      "\n",
      " 64%|██████▎   | 127/200 [02:09<01:10,  1.03it/s]\u001b[A"
     ]
    },
    {
     "name": "stdout",
     "output_type": "stream",
     "text": [
      "Current MSE: 0.232105588751\n",
      "Current length scale: [11.91068753 12.13860873 17.77554001 17.98123699]\n"
     ]
    },
    {
     "name": "stderr",
     "output_type": "stream",
     "text": [
      "\n",
      " 64%|██████▍   | 128/200 [02:10<01:09,  1.03it/s]\u001b[A"
     ]
    },
    {
     "name": "stdout",
     "output_type": "stream",
     "text": [
      "Current MSE: 0.234658809087\n",
      "Current length scale: [11.93617084 10.13877486 17.79140674 16.98842462]\n"
     ]
    },
    {
     "name": "stderr",
     "output_type": "stream",
     "text": [
      "\n",
      " 64%|██████▍   | 129/200 [02:11<01:09,  1.02it/s]\u001b[A"
     ]
    },
    {
     "name": "stdout",
     "output_type": "stream",
     "text": [
      "Current MSE: 0.242083821995\n",
      "Current length scale: [12.00631769 10.24100935 18.5192232  14.90460356]\n"
     ]
    },
    {
     "name": "stderr",
     "output_type": "stream",
     "text": [
      "\n",
      " 65%|██████▌   | 130/200 [02:12<01:08,  1.03it/s]\u001b[A"
     ]
    },
    {
     "name": "stdout",
     "output_type": "stream",
     "text": [
      "Current MSE: 0.233370282211\n",
      "Current length scale: [12.24692881  9.17570551 19.6427496  17.00646513]\n"
     ]
    },
    {
     "name": "stderr",
     "output_type": "stream",
     "text": [
      "\n",
      " 66%|██████▌   | 131/200 [02:13<01:06,  1.03it/s]\u001b[A"
     ]
    },
    {
     "name": "stdout",
     "output_type": "stream",
     "text": [
      "Current MSE: 0.239779590724\n",
      "Current length scale: [10.68357384  9.12711679 21.88963778 16.94432006]\n"
     ]
    },
    {
     "name": "stderr",
     "output_type": "stream",
     "text": [
      "\n",
      " 66%|██████▌   | 132/200 [02:14<01:05,  1.04it/s]\u001b[A"
     ]
    },
    {
     "name": "stdout",
     "output_type": "stream",
     "text": [
      "Current MSE: 0.242275540386\n",
      "Current length scale: [ 9.66948097  9.49144176 23.35196138 16.05954739]\n"
     ]
    },
    {
     "name": "stderr",
     "output_type": "stream",
     "text": [
      "\n",
      " 66%|██████▋   | 133/200 [02:15<01:04,  1.04it/s]\u001b[A"
     ]
    },
    {
     "name": "stdout",
     "output_type": "stream",
     "text": [
      "Current MSE: 0.242191180971\n",
      "Current length scale: [ 9.34835456  9.28684743 23.23566195 16.59826809]\n"
     ]
    },
    {
     "name": "stderr",
     "output_type": "stream",
     "text": [
      "\n",
      " 67%|██████▋   | 134/200 [02:16<01:03,  1.04it/s]\u001b[A"
     ]
    },
    {
     "name": "stdout",
     "output_type": "stream",
     "text": [
      "Current MSE: 0.242273843513\n",
      "Current length scale: [10.55994765  8.37279627 20.71076167 15.38092623]\n"
     ]
    },
    {
     "name": "stderr",
     "output_type": "stream",
     "text": [
      "\n",
      " 68%|██████▊   | 135/200 [02:17<01:02,  1.04it/s]\u001b[A"
     ]
    },
    {
     "name": "stdout",
     "output_type": "stream",
     "text": [
      "Current MSE: 0.240239745424\n",
      "Current length scale: [11.36857445  8.41145077 20.0882508  14.76963715]\n"
     ]
    },
    {
     "name": "stderr",
     "output_type": "stream",
     "text": [
      "\n",
      " 68%|██████▊   | 136/200 [02:17<01:01,  1.04it/s]\u001b[A"
     ]
    },
    {
     "name": "stdout",
     "output_type": "stream",
     "text": [
      "Current MSE: 0.245293859832\n",
      "Current length scale: [11.11710665  8.73681278 20.58199866 14.5064934 ]\n"
     ]
    },
    {
     "name": "stderr",
     "output_type": "stream",
     "text": [
      "\n",
      " 68%|██████▊   | 137/200 [02:18<01:00,  1.04it/s]\u001b[A"
     ]
    },
    {
     "name": "stdout",
     "output_type": "stream",
     "text": [
      "Current MSE: 0.238915939659\n",
      "Current length scale: [10.02712159  8.69507079 22.04363654 13.54438671]\n"
     ]
    },
    {
     "name": "stderr",
     "output_type": "stream",
     "text": [
      "\n",
      " 69%|██████▉   | 138/200 [02:19<00:59,  1.04it/s]\u001b[A"
     ]
    },
    {
     "name": "stdout",
     "output_type": "stream",
     "text": [
      "Current MSE: 0.234283765102\n",
      "Current length scale: [10.12845407  8.62710392 21.71195982 14.75609359]\n"
     ]
    },
    {
     "name": "stderr",
     "output_type": "stream",
     "text": [
      "\n",
      " 70%|██████▉   | 139/200 [02:20<00:59,  1.03it/s]\u001b[A"
     ]
    },
    {
     "name": "stdout",
     "output_type": "stream",
     "text": [
      "Current MSE: 0.235674645561\n",
      "Current length scale: [11.05548356  8.83005224 21.83147457 15.3973108 ]\n"
     ]
    },
    {
     "name": "stderr",
     "output_type": "stream",
     "text": [
      "\n",
      " 70%|███████   | 140/200 [02:21<00:58,  1.03it/s]\u001b[A"
     ]
    },
    {
     "name": "stdout",
     "output_type": "stream",
     "text": [
      "Current MSE: 0.241871190837\n",
      "Current length scale: [10.8126735   8.73375934 24.1586878  13.91773153]\n"
     ]
    },
    {
     "name": "stderr",
     "output_type": "stream",
     "text": [
      "\n",
      " 70%|███████   | 141/200 [02:22<00:57,  1.03it/s]\u001b[A"
     ]
    },
    {
     "name": "stdout",
     "output_type": "stream",
     "text": [
      "Current MSE: 0.248214322077\n",
      "Current length scale: [10.68204379  9.57239185 24.22500175 13.9959445 ]\n"
     ]
    },
    {
     "name": "stderr",
     "output_type": "stream",
     "text": [
      "\n",
      " 71%|███████   | 142/200 [02:23<00:56,  1.03it/s]\u001b[A"
     ]
    },
    {
     "name": "stdout",
     "output_type": "stream",
     "text": [
      "Current MSE: 0.237166995101\n",
      "Current length scale: [ 9.7875039   9.09854439 26.03224123 15.76576807]\n"
     ]
    },
    {
     "name": "stderr",
     "output_type": "stream",
     "text": [
      "\n",
      " 72%|███████▏  | 143/200 [02:24<00:55,  1.03it/s]\u001b[A"
     ]
    },
    {
     "name": "stdout",
     "output_type": "stream",
     "text": [
      "Current MSE: 0.231252354979\n",
      "Current length scale: [10.97937836  8.92481888 25.05858914 17.03106798]\n"
     ]
    },
    {
     "name": "stderr",
     "output_type": "stream",
     "text": [
      "\n",
      " 72%|███████▏  | 144/200 [02:25<00:54,  1.04it/s]\u001b[A"
     ]
    },
    {
     "name": "stdout",
     "output_type": "stream",
     "text": [
      "Current MSE: 0.247132799132\n",
      "Current length scale: [ 9.83357052  9.55459651 25.56292741 17.53485434]\n"
     ]
    },
    {
     "name": "stderr",
     "output_type": "stream",
     "text": [
      "\n",
      " 72%|███████▎  | 145/200 [02:26<00:52,  1.04it/s]\u001b[A"
     ]
    },
    {
     "name": "stdout",
     "output_type": "stream",
     "text": [
      "Current MSE: 0.244768489997\n",
      "Current length scale: [11.55305419  9.831408   26.99123275 17.1892206 ]\n"
     ]
    },
    {
     "name": "stderr",
     "output_type": "stream",
     "text": [
      "\n",
      " 73%|███████▎  | 146/200 [02:27<00:51,  1.04it/s]\u001b[A"
     ]
    },
    {
     "name": "stdout",
     "output_type": "stream",
     "text": [
      "Current MSE: 0.23905808525\n",
      "Current length scale: [10.48455309  9.97376365 25.74423302 17.71964503]\n"
     ]
    },
    {
     "name": "stderr",
     "output_type": "stream",
     "text": [
      "\n",
      " 74%|███████▎  | 147/200 [02:28<00:50,  1.04it/s]\u001b[A"
     ]
    },
    {
     "name": "stdout",
     "output_type": "stream",
     "text": [
      "Current MSE: 0.23226049594\n",
      "Current length scale: [11.03402497 10.34520712 26.32248823 15.0739741 ]\n"
     ]
    },
    {
     "name": "stderr",
     "output_type": "stream",
     "text": [
      "\n",
      " 74%|███████▍  | 148/200 [02:29<00:50,  1.03it/s]\u001b[A"
     ]
    },
    {
     "name": "stdout",
     "output_type": "stream",
     "text": [
      "Current MSE: 0.234896475537\n",
      "Current length scale: [12.36176035  9.55497581 27.08833778 16.42141163]\n"
     ]
    },
    {
     "name": "stderr",
     "output_type": "stream",
     "text": [
      "\n",
      " 74%|███████▍  | 149/200 [02:30<00:49,  1.03it/s]\u001b[A"
     ]
    },
    {
     "name": "stdout",
     "output_type": "stream",
     "text": [
      "Current MSE: 0.234303861119\n",
      "Current length scale: [12.78221932  9.9747537  27.36008035 15.71571855]\n"
     ]
    },
    {
     "name": "stderr",
     "output_type": "stream",
     "text": [
      "\n",
      " 75%|███████▌  | 150/200 [02:31<00:48,  1.03it/s]\u001b[A"
     ]
    },
    {
     "name": "stdout",
     "output_type": "stream",
     "text": [
      "Current MSE: 0.239001146039\n",
      "Current length scale: [11.79709056  9.37025997 27.99715533 16.89860317]\n"
     ]
    },
    {
     "name": "stderr",
     "output_type": "stream",
     "text": [
      "\n",
      " 76%|███████▌  | 151/200 [02:32<00:47,  1.03it/s]\u001b[A"
     ]
    },
    {
     "name": "stdout",
     "output_type": "stream",
     "text": [
      "Current MSE: 0.235744135081\n",
      "Current length scale: [10.95044737  9.80750543 26.27755129 18.45969852]\n"
     ]
    },
    {
     "name": "stderr",
     "output_type": "stream",
     "text": [
      "\n",
      " 76%|███████▌  | 152/200 [02:33<00:46,  1.03it/s]\u001b[A"
     ]
    },
    {
     "name": "stdout",
     "output_type": "stream",
     "text": [
      "Current MSE: 0.243580854269\n",
      "Current length scale: [11.07618865  9.70744039 26.60960918 19.2928174 ]\n"
     ]
    },
    {
     "name": "stderr",
     "output_type": "stream",
     "text": [
      "\n",
      " 76%|███████▋  | 153/200 [02:34<00:45,  1.04it/s]\u001b[A"
     ]
    },
    {
     "name": "stdout",
     "output_type": "stream",
     "text": [
      "Current MSE: 0.241285268331\n",
      "Current length scale: [11.75049178 11.27376876 27.39266973 18.91020859]\n"
     ]
    },
    {
     "name": "stderr",
     "output_type": "stream",
     "text": [
      "\n",
      " 77%|███████▋  | 154/200 [02:35<00:44,  1.04it/s]\u001b[A"
     ]
    },
    {
     "name": "stdout",
     "output_type": "stream",
     "text": [
      "Current MSE: 0.244283002415\n",
      "Current length scale: [11.18441715 11.75380198 26.77930008 19.04237537]\n"
     ]
    },
    {
     "name": "stderr",
     "output_type": "stream",
     "text": [
      "\n",
      " 78%|███████▊  | 155/200 [02:36<00:43,  1.04it/s]\u001b[A"
     ]
    },
    {
     "name": "stdout",
     "output_type": "stream",
     "text": [
      "Current MSE: 0.241304297478\n",
      "Current length scale: [ 9.76744543 11.77120116 26.63266786 20.11112935]\n"
     ]
    },
    {
     "name": "stderr",
     "output_type": "stream",
     "text": [
      "\n",
      " 78%|███████▊  | 156/200 [02:37<00:42,  1.04it/s]\u001b[A"
     ]
    },
    {
     "name": "stdout",
     "output_type": "stream",
     "text": [
      "Current MSE: 0.245435546249\n",
      "Current length scale: [10.75002432 10.04889291 29.04469183 18.09062366]\n"
     ]
    },
    {
     "name": "stderr",
     "output_type": "stream",
     "text": [
      "\n",
      " 78%|███████▊  | 157/200 [02:38<00:41,  1.04it/s]\u001b[A"
     ]
    },
    {
     "name": "stdout",
     "output_type": "stream",
     "text": [
      "Current MSE: 0.24446888578\n",
      "Current length scale: [10.80956818  9.97771176 28.16272623 17.36569446]\n"
     ]
    },
    {
     "name": "stderr",
     "output_type": "stream",
     "text": [
      "\n",
      " 79%|███████▉  | 158/200 [02:39<00:40,  1.04it/s]\u001b[A"
     ]
    },
    {
     "name": "stdout",
     "output_type": "stream",
     "text": [
      "Current MSE: 0.239572182117\n",
      "Current length scale: [ 9.55024879 10.49820242 24.96743356 18.44493903]\n"
     ]
    },
    {
     "name": "stderr",
     "output_type": "stream",
     "text": [
      "\n",
      " 80%|███████▉  | 159/200 [02:40<00:39,  1.04it/s]\u001b[A"
     ]
    },
    {
     "name": "stdout",
     "output_type": "stream",
     "text": [
      "Current MSE: 0.235085444878\n",
      "Current length scale: [ 9.26599909 11.88987041 26.10166438 17.07817979]\n"
     ]
    },
    {
     "name": "stderr",
     "output_type": "stream",
     "text": [
      "\n",
      " 80%|████████  | 160/200 [02:41<00:38,  1.04it/s]\u001b[A"
     ]
    },
    {
     "name": "stdout",
     "output_type": "stream",
     "text": [
      "Current MSE: 0.231465015769\n",
      "Current length scale: [ 8.6578239  13.97107857 26.52069272 17.93908481]\n"
     ]
    },
    {
     "name": "stderr",
     "output_type": "stream",
     "text": [
      "\n",
      " 80%|████████  | 161/200 [02:42<00:37,  1.03it/s]\u001b[A"
     ]
    },
    {
     "name": "stdout",
     "output_type": "stream",
     "text": [
      "Current MSE: 0.234362348008\n",
      "Current length scale: [ 8.48096596 15.33343796 25.82748209 17.30619331]\n"
     ]
    },
    {
     "name": "stderr",
     "output_type": "stream",
     "text": [
      "\n",
      " 81%|████████  | 162/200 [02:43<00:36,  1.03it/s]\u001b[A"
     ]
    },
    {
     "name": "stdout",
     "output_type": "stream",
     "text": [
      "Current MSE: 0.240919774253\n",
      "Current length scale: [ 8.58863718 14.81377214 25.69439725 17.30438114]\n"
     ]
    },
    {
     "name": "stderr",
     "output_type": "stream",
     "text": [
      "\n",
      " 82%|████████▏ | 163/200 [02:44<00:35,  1.03it/s]\u001b[A"
     ]
    },
    {
     "name": "stdout",
     "output_type": "stream",
     "text": [
      "Current MSE: 0.241486059273\n",
      "Current length scale: [ 9.82824105 14.86121666 25.63910742 17.40791864]\n"
     ]
    },
    {
     "name": "stderr",
     "output_type": "stream",
     "text": [
      "\n",
      " 82%|████████▏ | 164/200 [02:45<00:34,  1.03it/s]\u001b[A"
     ]
    },
    {
     "name": "stdout",
     "output_type": "stream",
     "text": [
      "Current MSE: 0.252307574892\n",
      "Current length scale: [ 9.16217118 14.38552947 24.17116195 17.52262885]\n"
     ]
    },
    {
     "name": "stderr",
     "output_type": "stream",
     "text": [
      "\n",
      " 82%|████████▎ | 165/200 [02:46<00:33,  1.03it/s]\u001b[A"
     ]
    },
    {
     "name": "stdout",
     "output_type": "stream",
     "text": [
      "Current MSE: 0.244213956618\n",
      "Current length scale: [ 9.25445905 13.96382038 23.59348465 17.33898659]\n"
     ]
    },
    {
     "name": "stderr",
     "output_type": "stream",
     "text": [
      "\n",
      " 83%|████████▎ | 166/200 [02:47<00:33,  1.03it/s]\u001b[A"
     ]
    },
    {
     "name": "stdout",
     "output_type": "stream",
     "text": [
      "Current MSE: 0.236310984633\n",
      "Current length scale: [ 9.34195813 13.42057184 23.84683288 15.45389041]\n"
     ]
    },
    {
     "name": "stderr",
     "output_type": "stream",
     "text": [
      "\n",
      " 84%|████████▎ | 167/200 [02:47<00:32,  1.03it/s]\u001b[A"
     ]
    },
    {
     "name": "stdout",
     "output_type": "stream",
     "text": [
      "Current MSE: 0.243245649531\n",
      "Current length scale: [10.49104358 11.43902646 22.81348037 16.45003481]\n"
     ]
    },
    {
     "name": "stderr",
     "output_type": "stream",
     "text": [
      "\n",
      " 84%|████████▍ | 168/200 [02:48<00:30,  1.03it/s]\u001b[A"
     ]
    },
    {
     "name": "stdout",
     "output_type": "stream",
     "text": [
      "Current MSE: 0.249239319281\n",
      "Current length scale: [10.65036991 11.26183394 21.70818644 17.01069234]\n"
     ]
    },
    {
     "name": "stderr",
     "output_type": "stream",
     "text": [
      "\n",
      " 84%|████████▍ | 169/200 [02:49<00:29,  1.04it/s]\u001b[A"
     ]
    },
    {
     "name": "stdout",
     "output_type": "stream",
     "text": [
      "Current MSE: 0.239622075631\n",
      "Current length scale: [10.18746098 11.72705035 21.93265166 16.25169551]\n"
     ]
    },
    {
     "name": "stderr",
     "output_type": "stream",
     "text": [
      "\n",
      " 85%|████████▌ | 170/200 [02:50<00:29,  1.03it/s]\u001b[A"
     ]
    },
    {
     "name": "stdout",
     "output_type": "stream",
     "text": [
      "Current MSE: 0.236558271966\n",
      "Current length scale: [10.3837147  11.20211435 21.22145694 15.80584775]\n"
     ]
    },
    {
     "name": "stderr",
     "output_type": "stream",
     "text": [
      "\n",
      " 86%|████████▌ | 171/200 [02:51<00:28,  1.02it/s]\u001b[A"
     ]
    },
    {
     "name": "stdout",
     "output_type": "stream",
     "text": [
      "Current MSE: 0.241772967484\n",
      "Current length scale: [10.90587765 11.56819697 20.30951967 14.75543959]\n"
     ]
    },
    {
     "name": "stderr",
     "output_type": "stream",
     "text": [
      "\n",
      " 86%|████████▌ | 172/200 [02:52<00:28,  1.00s/it]\u001b[A"
     ]
    },
    {
     "name": "stdout",
     "output_type": "stream",
     "text": [
      "Current MSE: 0.243852960292\n",
      "Current length scale: [11.33909058 12.0318192  21.67857745 14.08878396]\n"
     ]
    },
    {
     "name": "stderr",
     "output_type": "stream",
     "text": [
      "\n",
      " 86%|████████▋ | 173/200 [02:53<00:26,  1.01it/s]\u001b[A"
     ]
    },
    {
     "name": "stdout",
     "output_type": "stream",
     "text": [
      "Current MSE: 0.244214320211\n",
      "Current length scale: [11.90837768 13.03761272 19.44629856 12.59582818]\n"
     ]
    },
    {
     "name": "stderr",
     "output_type": "stream",
     "text": [
      "\n",
      " 87%|████████▋ | 174/200 [02:54<00:25,  1.02it/s]\u001b[A"
     ]
    },
    {
     "name": "stdout",
     "output_type": "stream",
     "text": [
      "Current MSE: 0.24437126274\n",
      "Current length scale: [10.92312505 14.46372786 19.16161973 13.32383041]\n"
     ]
    },
    {
     "name": "stderr",
     "output_type": "stream",
     "text": [
      "\n",
      " 88%|████████▊ | 175/200 [02:55<00:24,  1.02it/s]\u001b[A"
     ]
    },
    {
     "name": "stdout",
     "output_type": "stream",
     "text": [
      "Current MSE: 0.236842501016\n",
      "Current length scale: [10.33219704 14.55665952 19.12250305 14.04778021]\n"
     ]
    },
    {
     "name": "stderr",
     "output_type": "stream",
     "text": [
      "\n",
      " 88%|████████▊ | 176/200 [02:56<00:23,  1.03it/s]\u001b[A"
     ]
    },
    {
     "name": "stdout",
     "output_type": "stream",
     "text": [
      "Current MSE: 0.240985520587\n",
      "Current length scale: [11.27591317 13.68798524 18.41130931 13.61939116]\n"
     ]
    },
    {
     "name": "stderr",
     "output_type": "stream",
     "text": [
      "\n",
      " 88%|████████▊ | 177/200 [02:57<00:22,  1.03it/s]\u001b[A"
     ]
    },
    {
     "name": "stdout",
     "output_type": "stream",
     "text": [
      "Current MSE: 0.237310900383\n",
      "Current length scale: [11.41184004 13.87252343 18.13580836 13.98600828]\n"
     ]
    },
    {
     "name": "stderr",
     "output_type": "stream",
     "text": [
      "\n",
      " 89%|████████▉ | 178/200 [02:58<00:21,  1.03it/s]\u001b[A"
     ]
    },
    {
     "name": "stdout",
     "output_type": "stream",
     "text": [
      "Current MSE: 0.239577047349\n",
      "Current length scale: [12.6711729  14.66981476 19.99069666 14.05354602]\n"
     ]
    },
    {
     "name": "stderr",
     "output_type": "stream",
     "text": [
      "\n",
      " 90%|████████▉ | 179/200 [02:59<00:20,  1.03it/s]\u001b[A"
     ]
    },
    {
     "name": "stdout",
     "output_type": "stream",
     "text": [
      "Current MSE: 0.24557285116\n",
      "Current length scale: [12.7490543  15.433821   20.24290237 14.49770613]\n"
     ]
    },
    {
     "name": "stderr",
     "output_type": "stream",
     "text": [
      "\n",
      " 90%|█████████ | 180/200 [03:00<00:19,  1.02it/s]\u001b[A"
     ]
    },
    {
     "name": "stdout",
     "output_type": "stream",
     "text": [
      "Current MSE: 0.24495094952\n",
      "Current length scale: [11.89766214 14.41638778 19.52964988 14.23213859]\n"
     ]
    },
    {
     "name": "stderr",
     "output_type": "stream",
     "text": [
      "\n",
      " 90%|█████████ | 181/200 [03:01<00:18,  1.03it/s]\u001b[A"
     ]
    },
    {
     "name": "stdout",
     "output_type": "stream",
     "text": [
      "Current MSE: 0.236248866558\n",
      "Current length scale: [12.88480853 15.63220795 19.0723444  13.72972661]\n"
     ]
    },
    {
     "name": "stderr",
     "output_type": "stream",
     "text": [
      "\n",
      " 91%|█████████ | 182/200 [03:02<00:17,  1.03it/s]\u001b[A"
     ]
    },
    {
     "name": "stdout",
     "output_type": "stream",
     "text": [
      "Current MSE: 0.237397586649\n",
      "Current length scale: [12.00654907 15.55040138 19.11674063 13.28648439]\n"
     ]
    },
    {
     "name": "stderr",
     "output_type": "stream",
     "text": [
      "\n",
      " 92%|█████████▏| 183/200 [03:03<00:16,  1.04it/s]\u001b[A"
     ]
    },
    {
     "name": "stdout",
     "output_type": "stream",
     "text": [
      "Current MSE: 0.244548460191\n",
      "Current length scale: [11.87452486 14.44962343 18.60994607 14.58554147]\n"
     ]
    },
    {
     "name": "stderr",
     "output_type": "stream",
     "text": [
      "\n",
      " 92%|█████████▏| 184/200 [03:04<00:15,  1.04it/s]\u001b[A"
     ]
    },
    {
     "name": "stdout",
     "output_type": "stream",
     "text": [
      "Current MSE: 0.247059205534\n",
      "Current length scale: [11.60892014 16.3068072  19.78040163 16.7205253 ]\n"
     ]
    },
    {
     "name": "stderr",
     "output_type": "stream",
     "text": [
      "\n",
      " 92%|█████████▎| 185/200 [03:05<00:14,  1.04it/s]\u001b[A"
     ]
    },
    {
     "name": "stdout",
     "output_type": "stream",
     "text": [
      "Current MSE: 0.240809143847\n",
      "Current length scale: [11.71245707 14.59370163 20.14742294 15.40901803]\n"
     ]
    },
    {
     "name": "stderr",
     "output_type": "stream",
     "text": [
      "\n",
      " 93%|█████████▎| 186/200 [03:06<00:13,  1.04it/s]\u001b[A"
     ]
    },
    {
     "name": "stdout",
     "output_type": "stream",
     "text": [
      "Current MSE: 0.240466160748\n",
      "Current length scale: [12.02866563 13.9384312  18.3054398  14.64405496]\n"
     ]
    },
    {
     "name": "stderr",
     "output_type": "stream",
     "text": [
      "\n",
      " 94%|█████████▎| 187/200 [03:07<00:12,  1.04it/s]\u001b[A"
     ]
    },
    {
     "name": "stdout",
     "output_type": "stream",
     "text": [
      "Current MSE: 0.254475164656\n",
      "Current length scale: [12.36672404 13.89626017 17.39865519 14.9318144 ]\n"
     ]
    },
    {
     "name": "stderr",
     "output_type": "stream",
     "text": [
      "\n",
      " 94%|█████████▍| 188/200 [03:08<00:11,  1.04it/s]\u001b[A"
     ]
    },
    {
     "name": "stdout",
     "output_type": "stream",
     "text": [
      "Current MSE: 0.240158873362\n",
      "Current length scale: [13.22349237 15.04302302 17.77122029 14.78635231]\n"
     ]
    },
    {
     "name": "stderr",
     "output_type": "stream",
     "text": [
      "\n",
      " 94%|█████████▍| 189/200 [03:09<00:10,  1.04it/s]\u001b[A"
     ]
    },
    {
     "name": "stdout",
     "output_type": "stream",
     "text": [
      "Current MSE: 0.23971629642\n",
      "Current length scale: [13.36787259 16.65296805 18.29536982 15.0865961 ]\n"
     ]
    },
    {
     "name": "stderr",
     "output_type": "stream",
     "text": [
      "\n",
      " 95%|█████████▌| 190/200 [03:10<00:09,  1.03it/s]\u001b[A"
     ]
    },
    {
     "name": "stdout",
     "output_type": "stream",
     "text": [
      "Current MSE: 0.242597232988\n",
      "Current length scale: [12.76300287 15.67924657 16.6259329  16.06751193]\n"
     ]
    },
    {
     "name": "stderr",
     "output_type": "stream",
     "text": [
      "\n",
      " 96%|█████████▌| 191/200 [03:11<00:08,  1.04it/s]\u001b[A"
     ]
    },
    {
     "name": "stdout",
     "output_type": "stream",
     "text": [
      "Current MSE: 0.237030359751\n",
      "Current length scale: [13.99442482 15.90313075 18.1880132  16.09338695]\n"
     ]
    },
    {
     "name": "stderr",
     "output_type": "stream",
     "text": [
      "\n",
      " 96%|█████████▌| 192/200 [03:12<00:07,  1.03it/s]\u001b[A"
     ]
    },
    {
     "name": "stdout",
     "output_type": "stream",
     "text": [
      "Current MSE: 0.2413406106\n",
      "Current length scale: [14.42296587 15.7378945  17.60856171 17.9744127 ]\n"
     ]
    },
    {
     "name": "stderr",
     "output_type": "stream",
     "text": [
      "\n",
      " 96%|█████████▋| 193/200 [03:13<00:06,  1.03it/s]\u001b[A"
     ]
    },
    {
     "name": "stdout",
     "output_type": "stream",
     "text": [
      "Current MSE: 0.237698263868\n",
      "Current length scale: [13.43341311 16.46675179 18.14457657 16.61137518]\n"
     ]
    },
    {
     "name": "stderr",
     "output_type": "stream",
     "text": [
      "\n",
      " 97%|█████████▋| 194/200 [03:14<00:05,  1.03it/s]\u001b[A"
     ]
    },
    {
     "name": "stdout",
     "output_type": "stream",
     "text": [
      "Current MSE: 0.24239598108\n",
      "Current length scale: [13.8874698  15.86212694 15.49638811 14.75783922]\n"
     ]
    },
    {
     "name": "stderr",
     "output_type": "stream",
     "text": [
      "\n",
      " 98%|█████████▊| 195/200 [03:15<00:04,  1.03it/s]\u001b[A"
     ]
    },
    {
     "name": "stdout",
     "output_type": "stream",
     "text": [
      "Current MSE: 0.241923694486\n",
      "Current length scale: [13.70505101 16.45693164 13.09037736 15.9540996 ]\n"
     ]
    },
    {
     "name": "stderr",
     "output_type": "stream",
     "text": [
      "\n",
      " 98%|█████████▊| 196/200 [03:16<00:03,  1.04it/s]\u001b[A"
     ]
    },
    {
     "name": "stdout",
     "output_type": "stream",
     "text": [
      "Current MSE: 0.244217953325\n",
      "Current length scale: [12.81775231 15.16617284 14.027726   16.88504105]\n"
     ]
    },
    {
     "name": "stderr",
     "output_type": "stream",
     "text": [
      "\n",
      " 98%|█████████▊| 197/200 [03:17<00:02,  1.04it/s]\u001b[A"
     ]
    },
    {
     "name": "stdout",
     "output_type": "stream",
     "text": [
      "Current MSE: 0.237136033596\n",
      "Current length scale: [11.89749015 14.99049917 14.13149822 17.87007336]\n"
     ]
    },
    {
     "name": "stderr",
     "output_type": "stream",
     "text": [
      "\n",
      " 99%|█████████▉| 198/200 [03:18<00:01,  1.05it/s]\u001b[A"
     ]
    },
    {
     "name": "stdout",
     "output_type": "stream",
     "text": [
      "Current MSE: 0.240385143534\n",
      "Current length scale: [11.07261615 15.67925763 15.0072342  18.10018367]\n"
     ]
    },
    {
     "name": "stderr",
     "output_type": "stream",
     "text": [
      "\n",
      "100%|█████████▉| 199/200 [03:18<00:00,  1.05it/s]\u001b[A"
     ]
    },
    {
     "name": "stdout",
     "output_type": "stream",
     "text": [
      "Current MSE: 0.239654046812\n",
      "Current length scale: [11.19080909 16.17382017 14.85393517 17.69913717]\n"
     ]
    },
    {
     "name": "stderr",
     "output_type": "stream",
     "text": [
      "\n",
      "100%|██████████| 200/200 [03:19<00:00,  1.05it/s]\u001b[A"
     ]
    },
    {
     "name": "stdout",
     "output_type": "stream",
     "text": [
      "Current MSE: 0.246301967025\n",
      "Current length scale: [11.41140391 17.69046284 15.09009623 16.40419437]\n"
     ]
    }
   ],
   "source": [
    "results_f4 = run_gibbs(Y, model_f4, 200, 10, 0.5, verbose=True)"
   ]
  },
  {
   "cell_type": "code",
   "execution_count": 44,
   "metadata": {
    "collapsed": true
   },
   "outputs": [],
   "source": [
    "F_sample_f4, loading_sample_f4, variance_sample, theta_sample, traces_hist, mse_history = results_f4"
   ]
  },
  {
   "cell_type": "code",
   "execution_count": 47,
   "metadata": {
    "collapsed": false
   },
   "outputs": [
    {
     "data": {
      "image/png": "[encoded data removed]",
      "text/plain": [
       "<matplotlib.figure.Figure at 0x1189be250>"
      ]
     },
     "metadata": {},
     "output_type": "display_data"
    }
   ],
   "source": [
    "fig = plt.figure(figsize=(4, 3), dpi=150)\n",
    "for i in range(150, 200):\n",
    "    plt.plot(x, F_sample_f4[i, :, 2] , alpha=0.1, color='red')\n",
    "    plt.plot(x, F_sample_f4[i, :, 3], alpha=0.1, color='orange')\n",
    "    plt.plot(x, F_sample_f4[i, :, 0], alpha=0.1, color='green')\n",
    "    plt.plot(x, F_sample_f4[i, :, 1], alpha=0.1, color='blue')\n",
    "plt.title('Latent Posterior')\n",
    "plt.xlabel('Time')\n",
    "plt.show()"
   ]
  },
  {
   "cell_type": "code",
   "execution_count": 48,
   "metadata": {
    "collapsed": false
   },
   "outputs": [
    {
     "data": {
      "image/png": "[encoded data removed]",
      "text/plain": [
       "<matplotlib.figure.Figure at 0x119210150>"
      ]
     },
     "metadata": {},
     "output_type": "display_data"
    }
   ],
   "source": [
    "fig = plt.figure(figsize=(4, 3), dpi=150)\n",
    "loading_sample = np.zeros((100, 40))\n",
    "for i in range(100, 200):\n",
    "    current_loading = loading_sample_f4[i].flatten()\n",
    "    loading_sample[i - 100, :] = current_loading\n",
    "    plt.plot(current_loading, alpha=0.1, color='pink')\n",
    "plt.plot(np.median(loading_sample, axis=0), color='purple')\n",
    "plt.plot([0, 40], [0, 0], '--', color='gray', alpha=0.5)\n",
    "plt.title('Loading Posterior')\n",
    "plt.xlabel('Coefficient')\n",
    "plt.show()"
   ]
  },
  {
   "cell_type": "code",
   "execution_count": null,
   "metadata": {
    "collapsed": true
   },
   "outputs": [],
   "source": []
  }
 ],
 "metadata": {
  "anaconda-cloud": {},
  "kernelspec": {
   "display_name": "Python [conda env:tensorflow]",
   "language": "python",
   "name": "conda-env-tensorflow-py"
  },
  "language_info": {
   "codemirror_mode": {
    "name": "ipython",
    "version": 2
   },
   "file_extension": ".py",
   "mimetype": "text/x-python",
   "name": "python",
   "nbconvert_exporter": "python",
   "pygments_lexer": "ipython2",
   "version": "2.7.13"
  }
 },
 "nbformat": 4,
 "nbformat_minor": 1
}
